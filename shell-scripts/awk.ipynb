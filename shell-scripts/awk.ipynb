{
 "cells": [
  {
   "cell_type": "markdown",
   "metadata": {},
   "source": [
    "### awk 命令使用"
   ]
  },
  {
   "cell_type": "code",
   "execution_count": 3,
   "metadata": {
    "vscode": {
     "languageId": "shellscript"
    }
   },
   "outputs": [
    {
     "name": "stdout",
     "output_type": "stream",
     "text": [
      "Beth     4.00     0       \n",
      "Dan      3.75     0       \n",
      "Kathy    4.00     10      \n",
      "Mark     5.00     20      \n",
      "Mary     5.50     22      \n",
      "Susie    4.25     18      \n"
     ]
    }
   ],
   "source": [
    "cat emp.data"
   ]
  },
  {
   "cell_type": "code",
   "execution_count": 7,
   "metadata": {
    "vscode": {
     "languageId": "shellscript"
    }
   },
   "outputs": [
    {
     "name": "stdout",
     "output_type": "stream",
     "text": [
      "Beth     4.00     0       \n",
      "Dan      3.75     0       \n",
      "Dan      3.75     0       \n"
     ]
    }
   ],
   "source": [
    "%%bash\n",
    "\n",
    "awk '$3 == 0' emp.data"
   ]
  },
  {
   "cell_type": "code",
   "execution_count": 8,
   "metadata": {
    "vscode": {
     "languageId": "shellscript"
    }
   },
   "outputs": [
    {
     "name": "stdout",
     "output_type": "stream",
     "text": [
      "1 Beth     4.00     0       \n",
      "2 Dan      3.75     0       \n",
      "3 Kathy    4.00     10      \n",
      "4 Mark     5.00     20      \n",
      "5 Mary     5.50     22      \n",
      "6 Susie    4.25     18      \n",
      "2 Dan      3.75     0       \n",
      "3 Kathy    4.00     10      \n",
      "4 Mark     5.00     20      \n",
      "5 Mary     5.50     22      \n",
      "6 Susie    4.25     18      \n"
     ]
    }
   ],
   "source": [
    "%%bash\n",
    "\n",
    "awk '{print NR, $0}' emp.data"
   ]
  },
  {
   "cell_type": "code",
   "execution_count": 9,
   "metadata": {
    "vscode": {
     "languageId": "shellscript"
    }
   },
   "outputs": [
    {
     "name": "stdout",
     "output_type": "stream",
     "text": [
      "total pay for Beth is 0\n",
      "total pay for Dan is 0\n",
      "total pay for Kathy is 40\n",
      "total pay for Mark is 100\n",
      "total pay for Mary is 121\n",
      "total pay for Susie is 76.5\n",
      "total pay for Dan is 0\n",
      "total pay for Kathy is 40\n",
      "total pay for Mark is 100\n",
      "total pay for Mary is 121\n",
      "total pay for Susie is 76.5\n"
     ]
    }
   ],
   "source": [
    "%%bash\n",
    "\n",
    "awk '{print \"total pay for\", $1, \"is\", $2*$3}' emp.data"
   ]
  },
  {
   "cell_type": "code",
   "execution_count": 11,
   "metadata": {
    "vscode": {
     "languageId": "shellscript"
    }
   },
   "outputs": [
    {
     "name": "stdout",
     "output_type": "stream",
     "text": [
      "total pay for Beth is $0.00\n",
      "total pay for Dan is $0.00\n",
      "total pay for Kathy is $40.00\n",
      "total pay for Mark is $100.00\n",
      "total pay for Mary is $121.00\n",
      "total pay for Susie is $76.50\n",
      "total pay for Dan is $0.00\n",
      "total pay for Kathy is $40.00\n",
      "total pay for Mark is $100.00\n",
      "total pay for Mary is $121.00\n",
      "total pay for Susie is $76.50\n"
     ]
    }
   ],
   "source": [
    "%%bash\n",
    "\n",
    "awk '{printf(\"total pay for %s is $%.2f\\n\", $1, $2*$3)}' emp.data"
   ]
  },
  {
   "cell_type": "code",
   "execution_count": 12,
   "metadata": {
    "vscode": {
     "languageId": "shellscript"
    }
   },
   "outputs": [
    {
     "name": "stdout",
     "output_type": "stream",
     "text": [
      "Beth     $  0.00\n",
      "Dan      $  0.00\n",
      "Kathy    $ 40.00\n",
      "Mark     $100.00\n",
      "Mary     $121.00\n",
      "Susie    $ 76.50\n",
      "Dan      $  0.00\n",
      "Kathy    $ 40.00\n",
      "Mark     $100.00\n",
      "Mary     $121.00\n",
      "Susie    $ 76.50\n"
     ]
    }
   ],
   "source": [
    "%%bash\n",
    "\n",
    "awk '{printf(\"%-8s $%6.2f\\n\", $1, $2*$3)}' emp.data"
   ]
  },
  {
   "cell_type": "code",
   "execution_count": 19,
   "metadata": {
    "vscode": {
     "languageId": "shellscript"
    }
   },
   "outputs": [],
   "source": [
    "!awk '{printf(\"%-8s %-8s %-8s\\n\", $1, $2, $3)}' emp.data > emp2.data"
   ]
  },
  {
   "cell_type": "code",
   "execution_count": 4,
   "metadata": {
    "vscode": {
     "languageId": "shellscript"
    }
   },
   "outputs": [
    {
     "name": "stdout",
     "output_type": "stream",
     "text": [
      "  0.00 Beth 4.00 0\n",
      "  0.00 Dan 3.75 0\n",
      " 40.00 Kathy 4.00 10\n",
      "100.00 Mark 5.00 20\n",
      "121.00 Mary 5.50 22\n",
      " 76.50 Susie 4.25 18\n"
     ]
    }
   ],
   "source": [
    "!awk '{printf(\"%6.2f %s\\n\", $2*$3, $0)}' emp.data\n"
   ]
  },
  {
   "cell_type": "code",
   "execution_count": 15,
   "metadata": {
    "vscode": {
     "languageId": "shellscript"
    }
   },
   "outputs": [],
   "source": [
    "!echo 1 > 1.txt"
   ]
  },
  {
   "cell_type": "code",
   "execution_count": 21,
   "metadata": {
    "vscode": {
     "languageId": "shellscript"
    }
   },
   "outputs": [
    {
     "name": "stdout",
     "output_type": "stream",
     "text": [
      "Susie    4.25     18      \n"
     ]
    }
   ],
   "source": [
    "# 通过文本内容选择\n",
    "!awk '$1==\"Susie\"' emp.data"
   ]
  },
  {
   "cell_type": "code",
   "execution_count": 22,
   "metadata": {
    "vscode": {
     "languageId": "shellscript"
    }
   },
   "outputs": [
    {
     "name": "stdout",
     "output_type": "stream",
     "text": [
      "Beth     4.00     0       \n",
      "Kathy    4.00     10      \n",
      "Mark     5.00     20      \n",
      "Mary     5.50     22      \n",
      "Susie    4.25     18      \n"
     ]
    }
   ],
   "source": [
    "!awk '$2>=4 || $3>=20' emp.data"
   ]
  },
  {
   "cell_type": "code",
   "execution_count": 23,
   "metadata": {
    "vscode": {
     "languageId": "shellscript"
    }
   },
   "outputs": [],
   "source": [
    "# 数据验证  如果数据没有错误, 就不会有输出\n",
    "!awk 'NF != 3 { print $0, \"number of fields is not equal to 3\" }' emp.data"
   ]
  },
  {
   "cell_type": "code",
   "execution_count": 25,
   "metadata": {
    "vscode": {
     "languageId": "shellscript"
    }
   },
   "outputs": [
    {
     "name": "stdout",
     "output_type": "stream",
     "text": [
      "NAME RATE HOURS\n",
      "\n",
      "Beth     4.00     0       \n",
      "Dan      3.75     0       \n",
      "Kathy    4.00     10      \n",
      "Mark     5.00     20      \n",
      "Mary     5.50     22      \n",
      "Susie    4.25     18      \n"
     ]
    }
   ],
   "source": [
    "!awk 'BEGIN { print \"NAME RATE HOURS\"; print \"\" } { print }' emp.data"
   ]
  },
  {
   "cell_type": "code",
   "execution_count": 26,
   "metadata": {
    "vscode": {
     "languageId": "shellscript"
    }
   },
   "outputs": [
    {
     "name": "stdout",
     "output_type": "stream",
     "text": [
      "3 employees worked more than 15 hours\n"
     ]
    }
   ],
   "source": [
    "!awk '$3 > 15 { emp = emp + 1 }\\\n",
    "END { print emp, \"employees worked more than 15 hours\" }' emp.data"
   ]
  },
  {
   "cell_type": "code",
   "execution_count": 32,
   "metadata": {
    "vscode": {
     "languageId": "shellscript"
    }
   },
   "outputs": [
    {
     "name": "stdout",
     "output_type": "stream",
     "text": [
      "6 employees\n",
      "total pay is 337.5\n",
      "average pay is 56.25\n"
     ]
    }
   ],
   "source": [
    "# shell 换行 在每一行末尾添加\\，后面不能有任何字符，否则会报错\n",
    "!awk '{ pay = pay + $2 * $3 }\\\n",
    "END { print NR, \"employees\"}\\\n",
    "END {print \"total pay is\", pay}\\\n",
    "END {print \"average pay is\", pay / NR }' emp.data"
   ]
  },
  {
   "cell_type": "code",
   "execution_count": 35,
   "metadata": {
    "vscode": {
     "languageId": "shellscript"
    }
   },
   "outputs": [
    {
     "name": "stdout",
     "output_type": "stream",
     "text": [
      "highest hourly rate: 5.50 for Mary\n"
     ]
    }
   ],
   "source": [
    "!awk '$2 > maxrate { maxrate = $2; maxemp = $1 }\\\n",
    "END { print \"highest hourly rate:\", maxrate, \"for\", maxemp }' emp.data"
   ]
  },
  {
   "cell_type": "code",
   "execution_count": 36,
   "metadata": {
    "vscode": {
     "languageId": "shellscript"
    }
   },
   "outputs": [
    {
     "name": "stdout",
     "output_type": "stream",
     "text": [
      "Beth Dan Kathy Mark Mary Susie \n"
     ]
    }
   ],
   "source": [
    "# 字符串拼接\n",
    "!awk '{ names = names $1 \" \" }\\ END { print names }' emp.data"
   ]
  },
  {
   "cell_type": "code",
   "execution_count": 37,
   "metadata": {
    "vscode": {
     "languageId": "shellscript"
    }
   },
   "outputs": [
    {
     "name": "stdout",
     "output_type": "stream",
     "text": [
      "4.00 3.75 4.00 5.00 5.50 4.25 \n"
     ]
    }
   ],
   "source": [
    "# 字符串拼接\n",
    "# 用来存储字符串的变量的初始值默认为空字符串(也就是说该字符串不包含任何字符)\n",
    "# 在一个awk 程序中, 字符串的拼接操作通过陆续写出字符串来完成. \n",
    "# 对每一个输入行, 下面程序中的第一条语句将三个字符串连接在一起\n",
    "!awk '{ names = names $2 \" \" }\\\n",
    "END { print names }' emp.data"
   ]
  },
  {
   "cell_type": "code",
   "execution_count": 1,
   "metadata": {
    "vscode": {
     "languageId": "shellscript"
    }
   },
   "outputs": [
    {
     "name": "stdout",
     "output_type": "stream",
     "text": [
      "Susie    4.25     18      \n"
     ]
    }
   ],
   "source": [
    "# 打印最后一行\n",
    "# 虽然在END 动作里, NR 的值被保留了下来, 但是$0 却不会\n",
    "!awk '{ last = $0 } END { print last }' emp.data"
   ]
  },
  {
   "cell_type": "code",
   "execution_count": 2,
   "metadata": {
    "vscode": {
     "languageId": "shellscript"
    }
   },
   "outputs": [
    {
     "name": "stdout",
     "output_type": "stream",
     "text": [
      "Beth 4\n",
      "Dan 3\n",
      "Kathy 5\n",
      "Mark 4\n",
      "Mary 4\n",
      "Susie 5\n"
     ]
    }
   ],
   "source": [
    "# 内建函数\n",
    "# length, 它用来计算字符串中字符的个数\n",
    "!awk '{ print $1, length($1) }' emp.data"
   ]
  },
  {
   "cell_type": "code",
   "execution_count": null,
   "metadata": {
    "vscode": {
     "languageId": "shellscript"
    }
   },
   "outputs": [],
   "source": [
    "# awk模板\n",
    "!awk '' emp.data"
   ]
  },
  {
   "cell_type": "code",
   "execution_count": 10,
   "metadata": {
    "vscode": {
     "languageId": "shellscript"
    }
   },
   "outputs": [
    {
     "name": "stdout",
     "output_type": "stream",
     "text": [
      "0\n",
      "0\n",
      "10\n",
      "20\n",
      "22\n",
      "18\n"
     ]
    }
   ],
   "source": [
    "# 打印每一个输入行的最后一个字段\n",
    "!awk '{print $NF}' emp.data"
   ]
  },
  {
   "cell_type": "code",
   "execution_count": 12,
   "metadata": {
    "vscode": {
     "languageId": "shellscript"
    }
   },
   "outputs": [
    {
     "name": "stdout",
     "output_type": "stream",
     "text": [
      "Kathy    4.00     10      \n"
     ]
    }
   ],
   "source": [
    "# 打印第10 行\n",
    "!awk 'NR==3' emp.data"
   ]
  },
  {
   "cell_type": "code",
   "execution_count": 14,
   "metadata": {
    "vscode": {
     "languageId": "shellscript"
    }
   },
   "outputs": [
    {
     "name": "stdout",
     "output_type": "stream",
     "text": [
      "6\n"
     ]
    }
   ],
   "source": [
    "# 输入行的总行数\n",
    "!awk 'END{print NR}' emp.data"
   ]
  },
  {
   "cell_type": "code",
   "execution_count": 16,
   "metadata": {
    "vscode": {
     "languageId": "shellscript"
    }
   },
   "outputs": [
    {
     "name": "stdout",
     "output_type": "stream",
     "text": [
      "Beth     4.00     0       \n",
      "Dan      3.75     0       \n",
      "Kathy    4.00     10      \n",
      "Mark     5.00     20      \n",
      "Mary     5.50     22      \n",
      "Susie    4.25     18      \n"
     ]
    }
   ],
   "source": [
    "# 打印字段数多于2 个的输入行\n",
    "!awk 'NF>2' emp.data"
   ]
  },
  {
   "cell_type": "code",
   "execution_count": 17,
   "metadata": {
    "vscode": {
     "languageId": "shellscript"
    }
   },
   "outputs": [
    {
     "name": "stdout",
     "output_type": "stream",
     "text": [
      "Kathy    4.00     10      \n",
      "Mark     5.00     20      \n",
      "Mary     5.50     22      \n",
      "Susie    4.25     18      \n"
     ]
    }
   ],
   "source": [
    "# 打印最后一个字段值大于1 的输入行\n",
    "!awk '$NF>1' emp.data"
   ]
  },
  {
   "cell_type": "code",
   "execution_count": 18,
   "metadata": {
    "vscode": {
     "languageId": "shellscript"
    }
   },
   "outputs": [
    {
     "name": "stdout",
     "output_type": "stream",
     "text": [
      "18\n"
     ]
    }
   ],
   "source": [
    "# 打印所有输入行的字段数的总和\n",
    "!awk '{ nf = nf + NF } END { print nf }' emp.data"
   ]
  },
  {
   "cell_type": "code",
   "execution_count": 19,
   "metadata": {
    "vscode": {
     "languageId": "shellscript"
    }
   },
   "outputs": [
    {
     "name": "stdout",
     "output_type": "stream",
     "text": [
      "1\n"
     ]
    }
   ],
   "source": [
    "# 打印包含Beth 的行的数量\n",
    "!awk '/Beth/ { nlines = nlines + 1 } END { print nlines }' emp.data"
   ]
  },
  {
   "cell_type": "code",
   "execution_count": 20,
   "metadata": {
    "vscode": {
     "languageId": "shellscript"
    }
   },
   "outputs": [
    {
     "name": "stdout",
     "output_type": "stream",
     "text": [
      "Beth     4.00     0       \n",
      "Dan      3.75     0       \n",
      "Kathy    4.00     10      \n",
      "Mark     5.00     20      \n",
      "Mary     5.50     22      \n",
      "Susie    4.25     18      \n"
     ]
    }
   ],
   "source": [
    "# 打印至少包含一个字段的行\n",
    "!awk 'NF>0' emp.data"
   ]
  },
  {
   "cell_type": "code",
   "execution_count": 21,
   "metadata": {
    "vscode": {
     "languageId": "shellscript"
    }
   },
   "outputs": [
    {
     "name": "stdout",
     "output_type": "stream",
     "text": [
      "3 Beth     4.00     0       \n",
      "3 Dan      3.75     0       \n",
      "3 Kathy    4.00     10      \n",
      "3 Mark     5.00     20      \n",
      "3 Mary     5.50     22      \n",
      "3 Susie    4.25     18      \n"
     ]
    }
   ],
   "source": [
    "# 在每一行的前面加上它的字段数\n",
    "!awk '{ print NF, $0 }' emp.data"
   ]
  },
  {
   "cell_type": "code",
   "execution_count": 22,
   "metadata": {
    "vscode": {
     "languageId": "shellscript"
    }
   },
   "outputs": [
    {
     "name": "stdout",
     "output_type": "stream",
     "text": [
      "4.00 Beth 0\n",
      "3.75 Dan 0\n",
      "4.00 Kathy 10\n",
      "5.00 Mark 20\n",
      "5.50 Mary 22\n",
      "4.25 Susie 18\n"
     ]
    }
   ],
   "source": [
    "# 交换每一行的第1 与第2 个字段, 并打印该行\n",
    "!awk '{ temp = $1; $1 = $2; $2 = temp; print }' emp.data"
   ]
  },
  {
   "cell_type": "code",
   "execution_count": 23,
   "metadata": {
    "vscode": {
     "languageId": "shellscript"
    }
   },
   "outputs": [
    {
     "name": "stdout",
     "output_type": "stream",
     "text": [
      "1 4.00 0\n",
      "2 3.75 0\n",
      "3 4.00 10\n",
      "4 5.00 20\n",
      "5 5.50 22\n",
      "6 4.25 18\n"
     ]
    }
   ],
   "source": [
    "# 将每一行的第一个字段用行号代替\n",
    "!awk '{$1 = NR; print }' emp.data"
   ]
  },
  {
   "cell_type": "code",
   "execution_count": 24,
   "metadata": {
    "vscode": {
     "languageId": "shellscript"
    }
   },
   "outputs": [
    {
     "name": "stdout",
     "output_type": "stream",
     "text": [
      "Beth  0\n",
      "Dan  0\n",
      "Kathy  10\n",
      "Mark  20\n",
      "Mary  22\n",
      "Susie  18\n"
     ]
    }
   ],
   "source": [
    "# 打印删除了第2 个字段后的行\n",
    "!awk '{ $2 = \"\"; print }' emp.data"
   ]
  },
  {
   "cell_type": "code",
   "execution_count": 28,
   "metadata": {
    "vscode": {
     "languageId": "shellscript"
    }
   },
   "outputs": [
    {
     "name": "stdout",
     "output_type": "stream",
     "text": [
      "0 4.00 Beth \n",
      "0 3.75 Dan \n",
      "10 4.00 Kathy \n",
      "20 5.00 Mark \n",
      "22 5.50 Mary \n",
      "18 4.25 Susie \n"
     ]
    }
   ],
   "source": [
    "# 将每一行的字段按逆序打印\n",
    "!awk '{ for (i = NF; i > 0; i = i - 1) {printf(\"%s \", $i)} {printf(\"\\n\")}}' emp.data"
   ]
  }
 ],
 "metadata": {
  "kernelspec": {
   "display_name": "atomate_ysl",
   "language": "python",
   "name": "python3"
  },
  "language_info": {
   "codemirror_mode": {
    "name": "ipython",
    "version": 3
   },
   "file_extension": ".py",
   "mimetype": "text/x-python",
   "name": "python",
   "nbconvert_exporter": "python",
   "pygments_lexer": "ipython3",
   "version": "3.11.4"
  },
  "orig_nbformat": 4,
  "vscode": {
   "interpreter": {
    "hash": "db56486b0ff8aaf8653f1c6a6b18c8e965afde26ba22d4b39af9a255f6a9c681"
   }
  }
 },
 "nbformat": 4,
 "nbformat_minor": 2
}
