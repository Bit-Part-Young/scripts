{
 "cells": [
  {
   "cell_type": "markdown",
   "metadata": {},
   "source": [
    "### PyXtal、ASE、pymatgen 通过空间群生成复杂结构对比"
   ]
  },
  {
   "cell_type": "code",
   "execution_count": 1,
   "metadata": {},
   "outputs": [],
   "source": [
    "from pymatgen.core.structure import Structure\n",
    "import numpy as np\n",
    "\n",
    "# 不用科学计数法表示\n",
    "np.set_printoptions(suppress=True, precision=3)\n",
    "\n",
    "# 输出原子位点信息\n",
    "def get_structure_info(structure: Structure):\n",
    "\n",
    "    print(f\"natoms: {len(structure)}\")\n",
    "    print(\"\\natoms site info:\")\n",
    "\n",
    "    for site in structure:\n",
    "        print(site.species, site.frac_coords)"
   ]
  },
  {
   "cell_type": "markdown",
   "metadata": {},
   "source": [
    "#### PyXtal 通过空间群生成复杂结构"
   ]
  },
  {
   "cell_type": "code",
   "execution_count": 2,
   "metadata": {},
   "outputs": [
    {
     "data": {
      "text/plain": [
       "\n",
       "------Crystal from Build------\n",
       "Dimension: 3\n",
       "Composition: Nb10Nb10Si6\n",
       "Group: P 63/m c m (193)\n",
       "  7.5360,   7.5360,   5.2480,  90.0000,  90.0000, 120.0000, hexagonal\n",
       "Wyckoff sites:\n",
       "\tNb @ [ 0.3333  0.6667  0.0000], WP [4d] Site [322]\n",
       "\tNb @ [ 0.2473  0.0000  0.2500], WP [6g] Site [mm.]\n",
       "\tSi @ [ 0.6063  0.0000  0.2500], WP [6g] Site [mm.]"
      ]
     },
     "execution_count": 2,
     "metadata": {},
     "output_type": "execute_result"
    }
   ],
   "source": [
    "from pyxtal import pyxtal\n",
    "from pyxtal.lattice import Lattice\n",
    "\n",
    "# gamma Nb5Si3\n",
    "# pyxtal 中显示的 composition 有点问题，实际内容没问题\n",
    "cell = Lattice.from_para(\n",
    "    7.536,\n",
    "    7.536,\n",
    "    5.248,\n",
    "    90,\n",
    "    90,\n",
    "    120,\n",
    "    ltype=\"hexagonal\",\n",
    ")\n",
    "spg = 193\n",
    "elements = [\"Nb\", \"Nb\", \"Si\"]\n",
    "composition = [4, 6, 6]\n",
    "\n",
    "sites = [\n",
    "    [{\"4d\": [0.333, 0.667, 0.0]}],\n",
    "    [{\"6g\": [0.2473, 0.0, 0.25]}],\n",
    "    [{\"6g\": [0.6063, 0.0, 0.25]}],\n",
    "]\n",
    "\n",
    "structure = pyxtal()\n",
    "structure.build(\n",
    "    group=spg,\n",
    "    species=elements,\n",
    "    numIons=composition,\n",
    "    lattice=cell,\n",
    "    sites=sites,\n",
    ")\n",
    "\n",
    "structure"
   ]
  },
  {
   "cell_type": "code",
   "execution_count": 3,
   "metadata": {},
   "outputs": [
    {
     "name": "stdout",
     "output_type": "stream",
     "text": [
      "natoms: 16\n",
      "\n",
      "atoms site info:\n",
      "Nb1 [0.333 0.667 0.   ]\n",
      "Nb1 [0.667 0.333 0.5  ]\n",
      "Nb1 [0.667 0.333 0.   ]\n",
      "Nb1 [0.333 0.667 0.5  ]\n",
      "Nb1 [ 0.247 -0.     0.25 ]\n",
      "Nb1 [0.    0.247 0.25 ]\n",
      "Nb1 [-0.247 -0.247  0.25 ]\n",
      "Nb1 [-0.247  0.     0.75 ]\n",
      "Nb1 [ 0.    -0.247  0.75 ]\n",
      "Nb1 [0.247 0.247 0.75 ]\n",
      "Si1 [ 0.606 -0.     0.25 ]\n",
      "Si1 [0.    0.606 0.25 ]\n",
      "Si1 [-0.606 -0.606  0.25 ]\n",
      "Si1 [-0.606  0.     0.75 ]\n",
      "Si1 [ 0.    -0.606  0.75 ]\n",
      "Si1 [0.606 0.606 0.75 ]\n"
     ]
    }
   ],
   "source": [
    "structure_pmg = structure.to_pymatgen()\n",
    "structure_pmg\n",
    "\n",
    "get_structure_info(structure_pmg)"
   ]
  },
  {
   "cell_type": "markdown",
   "metadata": {},
   "source": [
    "#### ASE 通过空间群生成复杂结构"
   ]
  },
  {
   "cell_type": "code",
   "execution_count": 4,
   "metadata": {},
   "outputs": [
    {
     "data": {
      "text/plain": [
       "Atoms(symbols='Nb10Si6', pbc=True, cell=[[7.536, 0.0, 0.0], [-3.7679999999999985, 6.52636744291953, 0.0], [0.0, 0.0, 5.248]], spacegroup_kinds=...)"
      ]
     },
     "execution_count": 4,
     "metadata": {},
     "output_type": "execute_result"
    }
   ],
   "source": [
    "from ase.spacegroup import crystal\n",
    "\n",
    "a, b, c = 7.536, 7.536, 5.248\n",
    "spacegroup = 193\n",
    "\n",
    "wyckoff_positions = [\n",
    "    (\"Nb\", [0.333, 0.667, 0.0]),\n",
    "    (\"Nb\", [0.2473, 0.0, 0.25]),\n",
    "    (\"Si\", [0.6063, 0.0, 0.25]),\n",
    "]\n",
    "\n",
    "atoms = crystal(\n",
    "    symbols=[wyckoff_position[0] for wyckoff_position in wyckoff_positions],\n",
    "    basis=[wyckoff_position[1] for wyckoff_position in wyckoff_positions],\n",
    "    spacegroup=spacegroup,\n",
    "    cellpar=[a, b, c, 90, 90, 120],\n",
    "    symprec=0.01,\n",
    ")\n",
    "\n",
    "atoms"
   ]
  },
  {
   "cell_type": "code",
   "execution_count": 5,
   "metadata": {},
   "outputs": [
    {
     "name": "stdout",
     "output_type": "stream",
     "text": [
      "natoms: 16\n",
      "\n",
      "atoms site info:\n",
      "Nb1 [0.333 0.667 0.   ]\n",
      "Nb1 [0.667 0.333 0.5  ]\n",
      "Nb1 [0.667 0.333 0.   ]\n",
      "Nb1 [0.333 0.667 0.5  ]\n",
      "Nb1 [0.247 0.    0.25 ]\n",
      "Nb1 [-0.     0.247  0.25 ]\n",
      "Nb1 [0.753 0.753 0.25 ]\n",
      "Nb1 [0.753 0.    0.75 ]\n",
      "Nb1 [-0.     0.753  0.75 ]\n",
      "Nb1 [0.247 0.247 0.75 ]\n",
      "Si1 [0.606 0.    0.25 ]\n",
      "Si1 [-0.     0.606  0.25 ]\n",
      "Si1 [0.394 0.394 0.25 ]\n",
      "Si1 [0.394 0.    0.75 ]\n",
      "Si1 [0.    0.394 0.75 ]\n",
      "Si1 [0.606 0.606 0.75 ]\n"
     ]
    }
   ],
   "source": [
    "structure = Structure.from_ase_atoms(atoms)\n",
    "get_structure_info(structure)"
   ]
  },
  {
   "cell_type": "markdown",
   "metadata": {},
   "source": [
    "#### pymatgen 通过空间群生成复杂结构"
   ]
  },
  {
   "cell_type": "code",
   "execution_count": 6,
   "metadata": {},
   "outputs": [
    {
     "name": "stdout",
     "output_type": "stream",
     "text": [
      "natoms: 16\n",
      "\n",
      "atoms site info:\n",
      "Nb1 [0.334 0.667 0.   ]\n",
      "Nb1 [0.667 0.334 0.5  ]\n",
      "Nb1 [0.667 0.333 0.   ]\n",
      "Nb1 [0.334 0.667 0.5  ]\n",
      "Nb1 [0.753 0.    0.75 ]\n",
      "Nb1 [0.753 0.753 0.25 ]\n",
      "Nb1 [0.247 0.247 0.75 ]\n",
      "Nb1 [0.    0.247 0.25 ]\n",
      "Nb1 [0.247 0.    0.25 ]\n",
      "Nb1 [0.    0.753 0.75 ]\n",
      "Si1 [0.394 0.    0.75 ]\n",
      "Si1 [0.394 0.394 0.25 ]\n",
      "Si1 [0.606 0.606 0.75 ]\n",
      "Si1 [0.    0.606 0.25 ]\n",
      "Si1 [0.606 0.    0.25 ]\n",
      "Si1 [0.    0.394 0.75 ]\n"
     ]
    }
   ],
   "source": [
    "from pymatgen.core.lattice import Lattice\n",
    "\n",
    "a, b, c = 7.536, 7.536, 5.248\n",
    "spacegroup = 193\n",
    "\n",
    "wyckoff_positions = [\n",
    "    (\"Nb\", [0.333, 0.667, 0.0]),\n",
    "    (\"Nb\", [0.2473, 0.0, 0.25]),\n",
    "    (\"Si\", [0.6063, 0.0, 0.25]),\n",
    "]\n",
    "\n",
    "structure = Structure.from_spacegroup(\n",
    "    sg=spacegroup,\n",
    "    lattice=Lattice.hexagonal(a, c),\n",
    "    species=[wyckoff_position[0] for wyckoff_position in wyckoff_positions],\n",
    "    coords=[wyckoff_position[1] for wyckoff_position in wyckoff_positions],\n",
    "    tol=0.01,\n",
    ")\n",
    "\n",
    "get_structure_info(structure)"
   ]
  }
 ],
 "metadata": {
  "kernelspec": {
   "display_name": "base_ysl",
   "language": "python",
   "name": "python3"
  },
  "language_info": {
   "codemirror_mode": {
    "name": "ipython",
    "version": 3
   },
   "file_extension": ".py",
   "mimetype": "text/x-python",
   "name": "python",
   "nbconvert_exporter": "python",
   "pygments_lexer": "ipython3",
   "version": "3.11.9"
  }
 },
 "nbformat": 4,
 "nbformat_minor": 2
}
