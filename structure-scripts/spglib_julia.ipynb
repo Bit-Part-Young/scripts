{
 "cells": [
  {
   "cell_type": "code",
   "execution_count": 1,
   "metadata": {},
   "outputs": [
    {
     "data": {
      "text/plain": [
       "Dataset\n",
       "  spacegroup_number: 64\n",
       "  hall_number: 304\n",
       "  international_symbol: Cmce\n",
       "  hall_symbol: -C 2bc 2\n",
       "  choice: \n",
       "  transformation_matrix: [1.0 0.0 0.0; 0.0 1.0 0.0; 0.0 0.0 1.0]\n",
       "  origin_shift: [0.0, 0.0, 0.0]\n",
       "  n_operations: 16\n",
       "  rotations: StaticArraysCore.SMatrix{3, 3, Int32, 9}[[1 0 0; 0 1 0; 0 0 1], [-1 0 0; 0 -1 0; 0 0 -1], [-1 0 0; 0 -1 0; 0 0 1], [1 0 0; 0 1 0; 0 0 -1], [1 0 0; 0 -1 0; 0 0 -1], [-1 0 0; 0 1 0; 0 0 1], [-1 0 0; 0 1 0; 0 0 -1], [1 0 0; 0 -1 0; 0 0 1], [1 0 0; 0 1 0; 0 0 1], [-1 0 0; 0 -1 0; 0 0 -1], [-1 0 0; 0 -1 0; 0 0 1], [1 0 0; 0 1 0; 0 0 -1], [1 0 0; 0 -1 0; 0 0 -1], [-1 0 0; 0 1 0; 0 0 1], [-1 0 0; 0 1 0; 0 0 -1], [1 0 0; 0 -1 0; 0 0 1]]\n",
       "  translations: StaticArraysCore.SVector{3, Float64}[[0.0, 0.0, 0.0], [0.0, 0.0, 0.0], [0.0, 0.5, 0.5], [0.0, 0.5, 0.5], [0.0, 0.0, 0.0], [0.0, 0.0, 0.0], [0.0, 0.5, 0.5], [0.0, 0.5, 0.5], [0.5, 0.5, 0.0], [0.5, 0.5, 0.0], [0.5, 0.0, 0.5], [0.5, 0.0, 0.5], [0.5, 0.5, 0.0], [0.5, 0.5, 0.0], [0.5, 0.0, 0.5], [0.5, 0.0, 0.5]]\n",
       "  n_atoms: 8\n",
       "  wyckoffs: ['f', 'f', 'f', 'f', 'f', 'f', 'f', 'f']\n",
       "  site_symmetry_symbols: [\"m..\", \"m..\", \"m..\", \"m..\", \"m..\", \"m..\", \"m..\", \"m..\"]\n",
       "  equivalent_atoms: Int32[1, 1, 1, 1, 1, 1, 1, 1]\n",
       "  crystallographic_orbits: Int32[1, 1, 1, 1, 1, 1, 1, 1]\n",
       "  primitive_lattice: [0.0 3.589257155 0.0; -3.99943947 1.999719735 0.0; 0.0 0.0 8.57154746]\n",
       "  mapping_to_primitive: Int32[1, 2, 3, 4, 1, 2, 3, 4]\n",
       "  n_std_atoms: 8\n",
       "  std_lattice: [7.17851431 0.0 0.0; 0.0 3.99943947 0.0; 0.0 0.0 8.57154746]\n",
       "  std_types: Int32[1, 1, 1, 1, 1, 1, 1, 1]\n",
       "  std_positions: StaticArraysCore.SVector{3, Float64}[[0.0, 0.84688439, 0.1203133], [0.0, 0.65311561, 0.6203133], [0.0, 0.34688439000000004, 0.3796867], [0.0, 0.15311560999999996, 0.8796867], [0.5, 0.34688439000000004, 0.1203133], [0.5, 0.15311560999999996, 0.6203133], [0.5, 0.84688439, 0.3796867], [0.5, 0.65311561, 0.8796867]]\n",
       "  std_rotation_matrix: [1.0 0.0 0.0; 0.0 1.0 0.0; 0.0 0.0 1.0]\n",
       "  std_mapping_to_primitive: Int32[1, 2, 3, 4, 1, 2, 3, 4]\n",
       "  pointgroup_symbol: mmm\n"
      ]
     },
     "metadata": {},
     "output_type": "display_data"
    }
   ],
   "source": [
    "using Spglib\n",
    "\n",
    "lattice = Lattice([[7.17851431, 0, 0],  # a\n",
    "    [0, 3.99943947, 0],  # b\n",
    "    [0, 0, 8.57154746]])  # c\n",
    "\n",
    "positions = [[0.0, 0.84688439, 0.1203133],\n",
    "    [0.0, 0.65311561, 0.6203133],\n",
    "    [0.0, 0.34688439, 0.3796867],\n",
    "    [0.0, 0.15311561, 0.8796867],\n",
    "    [0.5, 0.34688439, 0.1203133],\n",
    "    [0.5, 0.15311561, 0.6203133],\n",
    "    [0.5, 0.84688439, 0.3796867],\n",
    "    [0.5, 0.65311561, 0.8796867]];\n",
    "\n",
    "atoms = fill(35, length(positions));\n",
    "\n",
    "cell = Cell(lattice, positions, atoms)\n",
    "\n",
    "dataset = get_dataset(cell, 1e-5)"
   ]
  },
  {
   "cell_type": "code",
   "execution_count": 2,
   "metadata": {},
   "outputs": [
    {
     "data": {
      "text/plain": [
       "\"Cmce\""
      ]
     },
     "metadata": {},
     "output_type": "display_data"
    }
   ],
   "source": [
    "dataset.international_symbol"
   ]
  },
  {
   "cell_type": "code",
   "execution_count": 3,
   "metadata": {},
   "outputs": [
    {
     "data": {
      "text/plain": [
       "64"
      ]
     },
     "metadata": {},
     "output_type": "display_data"
    }
   ],
   "source": [
    "dataset.spacegroup_number"
   ]
  },
  {
   "cell_type": "code",
   "execution_count": 4,
   "metadata": {},
   "outputs": [
    {
     "data": {
      "text/plain": [
       "8-element Vector{Char}:\n",
       " 'f': ASCII/Unicode U+0066 (category Ll: Letter, lowercase)\n",
       " 'f': ASCII/Unicode U+0066 (category Ll: Letter, lowercase)\n",
       " 'f': ASCII/Unicode U+0066 (category Ll: Letter, lowercase)\n",
       " 'f': ASCII/Unicode U+0066 (category Ll: Letter, lowercase)\n",
       " 'f': ASCII/Unicode U+0066 (category Ll: Letter, lowercase)\n",
       " 'f': ASCII/Unicode U+0066 (category Ll: Letter, lowercase)\n",
       " 'f': ASCII/Unicode U+0066 (category Ll: Letter, lowercase)\n",
       " 'f': ASCII/Unicode U+0066 (category Ll: Letter, lowercase)"
      ]
     },
     "metadata": {},
     "output_type": "display_data"
    }
   ],
   "source": [
    "dataset.wyckoffs"
   ]
  },
  {
   "cell_type": "code",
   "execution_count": 5,
   "metadata": {},
   "outputs": [
    {
     "data": {
      "text/plain": [
       "8-element Vector{Int32}:\n",
       " 1\n",
       " 1\n",
       " 1\n",
       " 1\n",
       " 1\n",
       " 1\n",
       " 1\n",
       " 1"
      ]
     },
     "metadata": {},
     "output_type": "display_data"
    }
   ],
   "source": [
    "dataset.equivalent_atoms"
   ]
  }
 ],
 "metadata": {
  "kernelspec": {
   "display_name": "Julia 1.9.4",
   "language": "julia",
   "name": "julia-1.9"
  },
  "language_info": {
   "file_extension": ".jl",
   "mimetype": "application/julia",
   "name": "julia",
   "version": "1.9.4"
  }
 },
 "nbformat": 4,
 "nbformat_minor": 2
}
