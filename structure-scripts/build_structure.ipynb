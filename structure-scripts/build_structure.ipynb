{
 "cells": [
  {
   "cell_type": "code",
   "execution_count": 2,
   "metadata": {},
   "outputs": [],
   "source": [
    "import numpy as np\n",
    "\n",
    "# code reference:\n",
    "# https://mushroomfire-github-io.vercel.app/2022/08/20/chang-jian-jing-ti-jie-gou-jian-mo/\n",
    "\n",
    "def bulid_structure(Lattice_Constant, Structure_Type, x, y, z):\n",
    "    if Structure_Type == \"FCC\":\n",
    "        basis = (\n",
    "            np.array([[1.0, 0.0, 0.0], [0.0, 1.0, 0.0], [0.0, 0.0, 1.0]])\n",
    "            * Lattice_Constant\n",
    "        )\n",
    "        base_atoms = (\n",
    "            np.array(\n",
    "                [[0.0, 0.0, 0.0], [0.5, 0.5, 0.0], [0.5, 0.0, 0.5], [0.0, 0.5, 0.5]]\n",
    "            )\n",
    "            * Lattice_Constant\n",
    "        )\n",
    "    elif Structure_Type == \"BCC\":\n",
    "        basis = (\n",
    "            np.array([[1.0, 0.0, 0.0], [0.0, 1.0, 0.0], [0.0, 0.0, 1.0]])\n",
    "            * Lattice_Constant\n",
    "        )\n",
    "        base_atoms = np.array([[0.0, 0.0, 0.0], [0.5, 0.5, 0.5]]) * Lattice_Constant\n",
    "    elif Structure_Type == \"HCP\":\n",
    "        basis = (\n",
    "            np.array(\n",
    "                [[1.0, 0.0, 0.0], [0.0, np.sqrt(3), 0.0], [0.0, 0.0, np.sqrt(8 / 3)]]\n",
    "            )\n",
    "            * Lattice_Constant\n",
    "        )\n",
    "        base_atoms = (\n",
    "            np.array(\n",
    "                [\n",
    "                    [0.0, 0.0, 0.0],\n",
    "                    [0.5, 0.5 * np.sqrt(3), 0.0],\n",
    "                    [0.5, np.sqrt(3) * 5 / 6, 0.5 * np.sqrt(8 / 3)],\n",
    "                    [0.0, 1 / 3 * np.sqrt(3), 0.5 * np.sqrt(8 / 3)],\n",
    "                ]\n",
    "            )\n",
    "            * Lattice_Constant\n",
    "        )\n",
    "    elif Structure_Type == \"GRA\":\n",
    "        basis = (\n",
    "            np.array([[3.0, 0.0, 0.0], [0.0, np.sqrt(3), 0.0], [0.0, 0.0, 3.4]])\n",
    "            * Lattice_Constant\n",
    "        )\n",
    "        base_atoms = np.array(\n",
    "            [[1 / 6, 0.0, 0.0], [0.5, 0.0, 0.0], [0.0, 0.5, 0.0], [2 / 3, 0.5, 0.0]]\n",
    "        ) * np.array([Lattice_Constant * 3, Lattice_Constant * np.sqrt(3), 0.0])\n",
    "\n",
    "    positions = []\n",
    "    for i in range(x):\n",
    "        for j in range(y):\n",
    "            for k in range(z):\n",
    "                base_position = np.array([i, j, k], dtype=np.float64)\n",
    "                # print(base_position)\n",
    "                cart_position = np.dot(basis, base_position)\n",
    "                # print(cart_position)\n",
    "                for atom_index in range(len(base_atoms)):\n",
    "                    positions.append(cart_position + base_atoms[atom_index])\n",
    "    return np.array(positions)\n"
   ]
  },
  {
   "cell_type": "code",
   "execution_count": 3,
   "metadata": {},
   "outputs": [
    {
     "data": {
      "text/plain": [
       "array([[0.   , 0.   , 0.   ],\n",
       "       [1.435, 1.435, 1.435]])"
      ]
     },
     "execution_count": 3,
     "metadata": {},
     "output_type": "execute_result"
    }
   ],
   "source": [
    "bcc = bulid_structure(2.87, \"BCC\", 1, 1, 1)\n",
    "bcc\n"
   ]
  },
  {
   "cell_type": "code",
   "execution_count": 4,
   "metadata": {},
   "outputs": [
    {
     "data": {
      "text/plain": [
       "array([[0.   , 0.   , 0.   ],\n",
       "       [1.435, 1.435, 1.435],\n",
       "       [0.   , 0.   , 2.87 ],\n",
       "       [1.435, 1.435, 4.305]])"
      ]
     },
     "execution_count": 4,
     "metadata": {},
     "output_type": "execute_result"
    }
   ],
   "source": [
    "bcc = bulid_structure(2.87, \"BCC\", 1, 1, 2)\n",
    "bcc\n"
   ]
  }
 ],
 "metadata": {
  "kernelspec": {
   "display_name": "base_ysl",
   "language": "python",
   "name": "python3"
  },
  "language_info": {
   "codemirror_mode": {
    "name": "ipython",
    "version": 3
   },
   "file_extension": ".py",
   "mimetype": "text/x-python",
   "name": "python",
   "nbconvert_exporter": "python",
   "pygments_lexer": "ipython3",
   "version": "3.11.4"
  },
  "orig_nbformat": 4
 },
 "nbformat": 4,
 "nbformat_minor": 2
}
