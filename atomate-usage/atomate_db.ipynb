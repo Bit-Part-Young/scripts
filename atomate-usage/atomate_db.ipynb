{
 "cells": [
  {
   "cell_type": "markdown",
   "metadata": {},
   "source": [
    "### 从 atomate MongoDB 中获取数据并导出成 json 文件"
   ]
  },
  {
   "cell_type": "code",
   "execution_count": 2,
   "metadata": {},
   "outputs": [],
   "source": [
    "from atomate.vasp.database import VaspCalcDb\n",
    "\n",
    "db_json_fn = \"db.json\"\n",
    "atomate_db = VaspCalcDb.from_db_file(db_json_fn)"
   ]
  },
  {
   "cell_type": "code",
   "execution_count": 3,
   "metadata": {},
   "outputs": [
    {
     "data": {
      "text/plain": [
       "4"
      ]
     },
     "execution_count": 3,
     "metadata": {},
     "output_type": "execute_result"
    }
   ],
   "source": [
    "query = {\n",
    "    \"tags.structure_id\": \"ICET-Training-No-0076857\",\n",
    "    \"nsites\": 8,\n",
    "}\n",
    "\n",
    "count = atomate_db.collection.count_documents(query)\n",
    "count"
   ]
  },
  {
   "cell_type": "code",
   "execution_count": 4,
   "metadata": {},
   "outputs": [
    {
     "data": {
      "text/plain": [
       "<pymongo.cursor.Cursor at 0x1654eb290>"
      ]
     },
     "execution_count": 4,
     "metadata": {},
     "output_type": "execute_result"
    }
   ],
   "source": [
    "results = atomate_db.collection.find(query)\n",
    "results"
   ]
  },
  {
   "cell_type": "code",
   "execution_count": 5,
   "metadata": {},
   "outputs": [
    {
     "data": {
      "text/plain": [
       "pymongo.cursor.Cursor"
      ]
     },
     "execution_count": 5,
     "metadata": {},
     "output_type": "execute_result"
    }
   ],
   "source": [
    "type(results)  # 游标对象"
   ]
  },
  {
   "cell_type": "code",
   "execution_count": 6,
   "metadata": {},
   "outputs": [],
   "source": [
    "import json\n",
    "\n",
    "with open(\"output.json\", \"w\") as file:\n",
    "    # 将每个 document 转换为 JSON 格式并写入文件\n",
    "    for result in results:\n",
    "        # ensure_ascii=False 允许非 ASCII字符在字符串中直接显示\n",
    "        # default=str 将不是 JSON 序列化的对象转换为字符串\n",
    "        json_data = json.dumps(result, ensure_ascii=False, default=str)\n",
    "        file.write(json_data + \"\\n\")\n"
   ]
  },
  {
   "cell_type": "code",
   "execution_count": 7,
   "metadata": {},
   "outputs": [
    {
     "name": "stdout",
     "output_type": "stream",
     "text": [
      "dict_keys(['_id', 'dir_name', 'analysis', 'calcs_reversed', 'chemsys', 'completed_at', 'composition_reduced', 'composition_unit_cell', 'custodian', 'elements', 'formula_anonymous', 'formula_pretty', 'formula_reduced_abc', 'input', 'last_updated', 'nelements', 'nsites', 'orig_inputs', 'output', 'run_stats', 'schema', 'state', 'tags', 'task_id', 'task_label', 'transformations'])\n"
     ]
    }
   ],
   "source": [
    "with open(\"output.json\", \"r\") as file:\n",
    "    for line in file:\n",
    "        # 读取每一行，并将其转换为字典\n",
    "        data = json.loads(line)\n",
    "\n",
    "    print(data.keys())"
   ]
  },
  {
   "cell_type": "markdown",
   "metadata": {},
   "source": [
    "循环遍历游标（Cursor）时，游标会随着每次迭代逐步前进，直到遍历完所有文档。游标遍历完毕后，它的位置会停留在结果集的末尾。因此，如果尝试再次遍历同一个游标，循环体内的代码将不会执行，因为游标已经处于结果集的末尾，相当于已经\"耗尽\"了。"
   ]
  },
  {
   "cell_type": "code",
   "execution_count": 8,
   "metadata": {},
   "outputs": [],
   "source": [
    "for result in results:\n",
    "    print(result)"
   ]
  },
  {
   "cell_type": "markdown",
   "metadata": {},
   "source": [
    "将 results 存储在列表中，可能会占用较多的内存，尤其是当处理大量数据时。在数据集合较小的情况下效果最好。"
   ]
  },
  {
   "cell_type": "code",
   "execution_count": 9,
   "metadata": {},
   "outputs": [
    {
     "data": {
      "text/plain": [
       "4"
      ]
     },
     "execution_count": 9,
     "metadata": {},
     "output_type": "execute_result"
    }
   ],
   "source": [
    "results = atomate_db.collection.find(query)\n",
    "results_list = list(results)\n",
    "len(results_list)"
   ]
  },
  {
   "cell_type": "code",
   "execution_count": 10,
   "metadata": {},
   "outputs": [
    {
     "data": {
      "text/plain": [
       "dict"
      ]
     },
     "execution_count": 10,
     "metadata": {},
     "output_type": "execute_result"
    }
   ],
   "source": [
    "# find_one() 返回查询结果的第一个文档\n",
    "result_one = atomate_db.collection.find_one(query)\n",
    "type(result_one)"
   ]
  }
 ],
 "metadata": {
  "kernelspec": {
   "display_name": "atomate_env",
   "language": "python",
   "name": "python3"
  },
  "language_info": {
   "codemirror_mode": {
    "name": "ipython",
    "version": 3
   },
   "file_extension": ".py",
   "mimetype": "text/x-python",
   "name": "python",
   "nbconvert_exporter": "python",
   "pygments_lexer": "ipython3",
   "version": "3.11.8"
  }
 },
 "nbformat": 4,
 "nbformat_minor": 2
}
