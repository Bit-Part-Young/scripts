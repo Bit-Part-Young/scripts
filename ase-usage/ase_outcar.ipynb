{
 "cells": [
  {
   "cell_type": "markdown",
   "metadata": {},
   "source": [
    "### ase 获取 VASP OUTCAR 信息"
   ]
  },
  {
   "cell_type": "code",
   "execution_count": 1,
   "metadata": {},
   "outputs": [
    {
     "data": {
      "text/plain": [
       "Atoms(symbols='Pt19Co19', pbc=True, cell=[[2.807343483, 0.0, 0.0], [-1.403671741, 2.431230773, 0.0], [0.0, 0.0, 78.865859985]], calculator=SinglePointDFTCalculator(...))"
      ]
     },
     "execution_count": 1,
     "metadata": {},
     "output_type": "execute_result"
    }
   ],
   "source": [
    "from ase.io import read\n",
    "\n",
    "# 不加 index 参数，默认只读取最后一个离子步构型数据\n",
    "atoms = read(\"OUTCAR_test\")\n",
    "\n",
    "atoms"
   ]
  },
  {
   "cell_type": "code",
   "execution_count": 2,
   "metadata": {},
   "outputs": [
    {
     "data": {
      "text/plain": [
       "[Atoms(symbols='Pt19Co19', pbc=True, cell=[[2.807343483, 0.0, 0.0], [-1.403671741, 2.431230773, 0.0], [0.0, 0.0, 78.865859985]], calculator=SinglePointDFTCalculator(...)),\n",
       " Atoms(symbols='Pt19Co19', pbc=True, cell=[[2.807343483, 0.0, 0.0], [-1.403671741, 2.431230773, 0.0], [0.0, 0.0, 78.865859985]], calculator=SinglePointDFTCalculator(...)),\n",
       " Atoms(symbols='Pt19Co19', pbc=True, cell=[[2.807343483, 0.0, 0.0], [-1.403671741, 2.431230773, 0.0], [0.0, 0.0, 78.865859985]], calculator=SinglePointDFTCalculator(...)),\n",
       " Atoms(symbols='Pt19Co19', pbc=True, cell=[[2.807343483, 0.0, 0.0], [-1.403671741, 2.431230773, 0.0], [0.0, 0.0, 78.865859985]], calculator=SinglePointDFTCalculator(...)),\n",
       " Atoms(symbols='Pt19Co19', pbc=True, cell=[[2.807343483, 0.0, 0.0], [-1.403671741, 2.431230773, 0.0], [0.0, 0.0, 78.865859985]], calculator=SinglePointDFTCalculator(...)),\n",
       " Atoms(symbols='Pt19Co19', pbc=True, cell=[[2.807343483, 0.0, 0.0], [-1.403671741, 2.431230773, 0.0], [0.0, 0.0, 78.865859985]], calculator=SinglePointDFTCalculator(...)),\n",
       " Atoms(symbols='Pt19Co19', pbc=True, cell=[[2.807343483, 0.0, 0.0], [-1.403671741, 2.431230773, 0.0], [0.0, 0.0, 78.865859985]], calculator=SinglePointDFTCalculator(...)),\n",
       " Atoms(symbols='Pt19Co19', pbc=True, cell=[[2.807343483, 0.0, 0.0], [-1.403671741, 2.431230773, 0.0], [0.0, 0.0, 78.865859985]], calculator=SinglePointDFTCalculator(...)),\n",
       " Atoms(symbols='Pt19Co19', pbc=True, cell=[[2.807343483, 0.0, 0.0], [-1.403671741, 2.431230773, 0.0], [0.0, 0.0, 78.865859985]], calculator=SinglePointDFTCalculator(...)),\n",
       " Atoms(symbols='Pt19Co19', pbc=True, cell=[[2.807343483, 0.0, 0.0], [-1.403671741, 2.431230773, 0.0], [0.0, 0.0, 78.865859985]], calculator=SinglePointDFTCalculator(...)),\n",
       " Atoms(symbols='Pt19Co19', pbc=True, cell=[[2.807343483, 0.0, 0.0], [-1.403671741, 2.431230773, 0.0], [0.0, 0.0, 78.865859985]], calculator=SinglePointDFTCalculator(...)),\n",
       " Atoms(symbols='Pt19Co19', pbc=True, cell=[[2.807343483, 0.0, 0.0], [-1.403671741, 2.431230773, 0.0], [0.0, 0.0, 78.865859985]], calculator=SinglePointDFTCalculator(...)),\n",
       " Atoms(symbols='Pt19Co19', pbc=True, cell=[[2.807343483, 0.0, 0.0], [-1.403671741, 2.431230773, 0.0], [0.0, 0.0, 78.865859985]], calculator=SinglePointDFTCalculator(...)),\n",
       " Atoms(symbols='Pt19Co19', pbc=True, cell=[[2.807343483, 0.0, 0.0], [-1.403671741, 2.431230773, 0.0], [0.0, 0.0, 78.865859985]], calculator=SinglePointDFTCalculator(...)),\n",
       " Atoms(symbols='Pt19Co19', pbc=True, cell=[[2.807343483, 0.0, 0.0], [-1.403671741, 2.431230773, 0.0], [0.0, 0.0, 78.865859985]], calculator=SinglePointDFTCalculator(...)),\n",
       " Atoms(symbols='Pt19Co19', pbc=True, cell=[[2.807343483, 0.0, 0.0], [-1.403671741, 2.431230773, 0.0], [0.0, 0.0, 78.865859985]], calculator=SinglePointDFTCalculator(...)),\n",
       " Atoms(symbols='Pt19Co19', pbc=True, cell=[[2.807343483, 0.0, 0.0], [-1.403671741, 2.431230773, 0.0], [0.0, 0.0, 78.865859985]], calculator=SinglePointDFTCalculator(...)),\n",
       " Atoms(symbols='Pt19Co19', pbc=True, cell=[[2.807343483, 0.0, 0.0], [-1.403671741, 2.431230773, 0.0], [0.0, 0.0, 78.865859985]], calculator=SinglePointDFTCalculator(...)),\n",
       " Atoms(symbols='Pt19Co19', pbc=True, cell=[[2.807343483, 0.0, 0.0], [-1.403671741, 2.431230773, 0.0], [0.0, 0.0, 78.865859985]], calculator=SinglePointDFTCalculator(...)),\n",
       " Atoms(symbols='Pt19Co19', pbc=True, cell=[[2.807343483, 0.0, 0.0], [-1.403671741, 2.431230773, 0.0], [0.0, 0.0, 78.865859985]], calculator=SinglePointDFTCalculator(...)),\n",
       " Atoms(symbols='Pt19Co19', pbc=True, cell=[[2.807343483, 0.0, 0.0], [-1.403671741, 2.431230773, 0.0], [0.0, 0.0, 78.865859985]], calculator=SinglePointDFTCalculator(...)),\n",
       " Atoms(symbols='Pt19Co19', pbc=True, cell=[[2.807343483, 0.0, 0.0], [-1.403671741, 2.431230773, 0.0], [0.0, 0.0, 78.865859985]], calculator=SinglePointDFTCalculator(...)),\n",
       " Atoms(symbols='Pt19Co19', pbc=True, cell=[[2.807343483, 0.0, 0.0], [-1.403671741, 2.431230773, 0.0], [0.0, 0.0, 78.865859985]], calculator=SinglePointDFTCalculator(...)),\n",
       " Atoms(symbols='Pt19Co19', pbc=True, cell=[[2.807343483, 0.0, 0.0], [-1.403671741, 2.431230773, 0.0], [0.0, 0.0, 78.865859985]], calculator=SinglePointDFTCalculator(...)),\n",
       " Atoms(symbols='Pt19Co19', pbc=True, cell=[[2.807343483, 0.0, 0.0], [-1.403671741, 2.431230773, 0.0], [0.0, 0.0, 78.865859985]], calculator=SinglePointDFTCalculator(...)),\n",
       " Atoms(symbols='Pt19Co19', pbc=True, cell=[[2.807343483, 0.0, 0.0], [-1.403671741, 2.431230773, 0.0], [0.0, 0.0, 78.865859985]], calculator=SinglePointDFTCalculator(...)),\n",
       " Atoms(symbols='Pt19Co19', pbc=True, cell=[[2.807343483, 0.0, 0.0], [-1.403671741, 2.431230773, 0.0], [0.0, 0.0, 78.865859985]], calculator=SinglePointDFTCalculator(...)),\n",
       " Atoms(symbols='Pt19Co19', pbc=True, cell=[[2.807343483, 0.0, 0.0], [-1.403671741, 2.431230773, 0.0], [0.0, 0.0, 78.865859985]], calculator=SinglePointDFTCalculator(...)),\n",
       " Atoms(symbols='Pt19Co19', pbc=True, cell=[[2.807343483, 0.0, 0.0], [-1.403671741, 2.431230773, 0.0], [0.0, 0.0, 78.865859985]], calculator=SinglePointDFTCalculator(...)),\n",
       " Atoms(symbols='Pt19Co19', pbc=True, cell=[[2.807343483, 0.0, 0.0], [-1.403671741, 2.431230773, 0.0], [0.0, 0.0, 78.865859985]], calculator=SinglePointDFTCalculator(...)),\n",
       " Atoms(symbols='Pt19Co19', pbc=True, cell=[[2.807343483, 0.0, 0.0], [-1.403671741, 2.431230773, 0.0], [0.0, 0.0, 78.865859985]], calculator=SinglePointDFTCalculator(...)),\n",
       " Atoms(symbols='Pt19Co19', pbc=True, cell=[[2.807343483, 0.0, 0.0], [-1.403671741, 2.431230773, 0.0], [0.0, 0.0, 78.865859985]], calculator=SinglePointDFTCalculator(...)),\n",
       " Atoms(symbols='Pt19Co19', pbc=True, cell=[[2.807343483, 0.0, 0.0], [-1.403671741, 2.431230773, 0.0], [0.0, 0.0, 78.865859985]], calculator=SinglePointDFTCalculator(...)),\n",
       " Atoms(symbols='Pt19Co19', pbc=True, cell=[[2.807343483, 0.0, 0.0], [-1.403671741, 2.431230773, 0.0], [0.0, 0.0, 78.865859985]], calculator=SinglePointDFTCalculator(...)),\n",
       " Atoms(symbols='Pt19Co19', pbc=True, cell=[[2.807343483, 0.0, 0.0], [-1.403671741, 2.431230773, 0.0], [0.0, 0.0, 78.865859985]], calculator=SinglePointDFTCalculator(...)),\n",
       " Atoms(symbols='Pt19Co19', pbc=True, cell=[[2.807343483, 0.0, 0.0], [-1.403671741, 2.431230773, 0.0], [0.0, 0.0, 78.865859985]], calculator=SinglePointDFTCalculator(...)),\n",
       " Atoms(symbols='Pt19Co19', pbc=True, cell=[[2.807343483, 0.0, 0.0], [-1.403671741, 2.431230773, 0.0], [0.0, 0.0, 78.865859985]], calculator=SinglePointDFTCalculator(...)),\n",
       " Atoms(symbols='Pt19Co19', pbc=True, cell=[[2.807343483, 0.0, 0.0], [-1.403671741, 2.431230773, 0.0], [0.0, 0.0, 78.865859985]], calculator=SinglePointDFTCalculator(...)),\n",
       " Atoms(symbols='Pt19Co19', pbc=True, cell=[[2.807343483, 0.0, 0.0], [-1.403671741, 2.431230773, 0.0], [0.0, 0.0, 78.865859985]], calculator=SinglePointDFTCalculator(...)),\n",
       " Atoms(symbols='Pt19Co19', pbc=True, cell=[[2.807343483, 0.0, 0.0], [-1.403671741, 2.431230773, 0.0], [0.0, 0.0, 78.865859985]], calculator=SinglePointDFTCalculator(...)),\n",
       " Atoms(symbols='Pt19Co19', pbc=True, cell=[[2.807343483, 0.0, 0.0], [-1.403671741, 2.431230773, 0.0], [0.0, 0.0, 78.865859985]], calculator=SinglePointDFTCalculator(...)),\n",
       " Atoms(symbols='Pt19Co19', pbc=True, cell=[[2.807343483, 0.0, 0.0], [-1.403671741, 2.431230773, 0.0], [0.0, 0.0, 78.865859985]], calculator=SinglePointDFTCalculator(...)),\n",
       " Atoms(symbols='Pt19Co19', pbc=True, cell=[[2.807343483, 0.0, 0.0], [-1.403671741, 2.431230773, 0.0], [0.0, 0.0, 78.865859985]], calculator=SinglePointDFTCalculator(...)),\n",
       " Atoms(symbols='Pt19Co19', pbc=True, cell=[[2.807343483, 0.0, 0.0], [-1.403671741, 2.431230773, 0.0], [0.0, 0.0, 78.865859985]], calculator=SinglePointDFTCalculator(...)),\n",
       " Atoms(symbols='Pt19Co19', pbc=True, cell=[[2.807343483, 0.0, 0.0], [-1.403671741, 2.431230773, 0.0], [0.0, 0.0, 78.865859985]], calculator=SinglePointDFTCalculator(...)),\n",
       " Atoms(symbols='Pt19Co19', pbc=True, cell=[[2.807343483, 0.0, 0.0], [-1.403671741, 2.431230773, 0.0], [0.0, 0.0, 78.865859985]], calculator=SinglePointDFTCalculator(...)),\n",
       " Atoms(symbols='Pt19Co19', pbc=True, cell=[[2.807343483, 0.0, 0.0], [-1.403671741, 2.431230773, 0.0], [0.0, 0.0, 78.865859985]], calculator=SinglePointDFTCalculator(...)),\n",
       " Atoms(symbols='Pt19Co19', pbc=True, cell=[[2.807343483, 0.0, 0.0], [-1.403671741, 2.431230773, 0.0], [0.0, 0.0, 78.865859985]], calculator=SinglePointDFTCalculator(...)),\n",
       " Atoms(symbols='Pt19Co19', pbc=True, cell=[[2.807343483, 0.0, 0.0], [-1.403671741, 2.431230773, 0.0], [0.0, 0.0, 78.865859985]], calculator=SinglePointDFTCalculator(...)),\n",
       " Atoms(symbols='Pt19Co19', pbc=True, cell=[[2.807343483, 0.0, 0.0], [-1.403671741, 2.431230773, 0.0], [0.0, 0.0, 78.865859985]], calculator=SinglePointDFTCalculator(...)),\n",
       " Atoms(symbols='Pt19Co19', pbc=True, cell=[[2.807343483, 0.0, 0.0], [-1.403671741, 2.431230773, 0.0], [0.0, 0.0, 78.865859985]], calculator=SinglePointDFTCalculator(...)),\n",
       " Atoms(symbols='Pt19Co19', pbc=True, cell=[[2.807343483, 0.0, 0.0], [-1.403671741, 2.431230773, 0.0], [0.0, 0.0, 78.865859985]], calculator=SinglePointDFTCalculator(...)),\n",
       " Atoms(symbols='Pt19Co19', pbc=True, cell=[[2.807343483, 0.0, 0.0], [-1.403671741, 2.431230773, 0.0], [0.0, 0.0, 78.865859985]], calculator=SinglePointDFTCalculator(...)),\n",
       " Atoms(symbols='Pt19Co19', pbc=True, cell=[[2.807343483, 0.0, 0.0], [-1.403671741, 2.431230773, 0.0], [0.0, 0.0, 78.865859985]], calculator=SinglePointDFTCalculator(...))]"
      ]
     },
     "execution_count": 2,
     "metadata": {},
     "output_type": "execute_result"
    }
   ],
   "source": [
    "from ase.io import read\n",
    "\n",
    "atoms_list = read(\"OUTCAR_test\", index=\":\")\n",
    "\n",
    "atoms_list"
   ]
  },
  {
   "cell_type": "code",
   "execution_count": 3,
   "metadata": {},
   "outputs": [
    {
     "data": {
      "text/plain": [
       "54"
      ]
     },
     "execution_count": 3,
     "metadata": {},
     "output_type": "execute_result"
    }
   ],
   "source": [
    "len(atoms_list)"
   ]
  },
  {
   "cell_type": "code",
   "execution_count": 4,
   "metadata": {},
   "outputs": [
    {
     "data": {
      "text/plain": [
       "[-244.97456472,\n",
       " -245.00114578,\n",
       " -245.00114724,\n",
       " -245.00114951,\n",
       " -245.00115525,\n",
       " -245.00116583,\n",
       " -245.00118515,\n",
       " -245.0012175,\n",
       " -245.00125596,\n",
       " -245.00170257,\n",
       " -245.00182118,\n",
       " -245.00195644,\n",
       " -245.00200948,\n",
       " -245.00201064,\n",
       " -245.00209709,\n",
       " -245.00211786,\n",
       " -245.00220507,\n",
       " -245.00223482,\n",
       " -245.00223689,\n",
       " -245.00229743,\n",
       " -245.00232728,\n",
       " -245.00232867,\n",
       " -245.00233772,\n",
       " -245.00239591,\n",
       " -245.00240994,\n",
       " -245.00245796,\n",
       " -245.0024753,\n",
       " -245.0025,\n",
       " -245.00253765,\n",
       " -245.00256157,\n",
       " -245.0025836,\n",
       " -245.00260315,\n",
       " -245.00260804,\n",
       " -245.00262613,\n",
       " -245.00262777,\n",
       " -245.00264764,\n",
       " -245.00264823,\n",
       " -245.00266773,\n",
       " -245.00267192,\n",
       " -245.00269244,\n",
       " -245.00270017,\n",
       " -245.00271358,\n",
       " -245.00271296,\n",
       " -245.00272102,\n",
       " -245.00271857,\n",
       " -245.00272555,\n",
       " -245.00272428,\n",
       " -245.00273553,\n",
       " -245.00273549,\n",
       " -245.00273907,\n",
       " -245.00274026,\n",
       " -245.00274236,\n",
       " -245.00274266,\n",
       " -245.00274428]"
      ]
     },
     "execution_count": 4,
     "metadata": {},
     "output_type": "execute_result"
    }
   ],
   "source": [
    "[atoms.get_potential_energy() for atoms in atoms_list]"
   ]
  },
  {
   "cell_type": "code",
   "execution_count": 5,
   "metadata": {},
   "outputs": [
    {
     "data": {
      "text/plain": [
       "array([[[ 0.000000e+00,  0.000000e+00,  0.000000e+00],\n",
       "        [ 1.403670e+00,  8.104100e-01,  2.346480e+00],\n",
       "        [-0.000000e+00,  1.620820e+00,  4.659220e+00],\n",
       "        ...,\n",
       "        [ 1.403670e+00,  8.104100e-01,  7.309069e+01],\n",
       "        [-0.000000e+00,  1.620820e+00,  7.495485e+01],\n",
       "        [ 1.403670e+00,  8.104100e-01,  7.679611e+01]],\n",
       "\n",
       "       [[-0.000000e+00,  0.000000e+00,  2.160000e-03],\n",
       "        [ 1.403670e+00,  8.104100e-01,  2.350690e+00],\n",
       "        [-0.000000e+00,  1.620820e+00,  4.659010e+00],\n",
       "        ...,\n",
       "        [ 1.403670e+00,  8.104100e-01,  7.308896e+01],\n",
       "        [-0.000000e+00,  1.620820e+00,  7.495424e+01],\n",
       "        [ 1.403670e+00,  8.104100e-01,  7.678980e+01]],\n",
       "\n",
       "       [[-0.000000e+00,  0.000000e+00,  2.160000e-03],\n",
       "        [ 1.403670e+00,  8.104100e-01,  2.350710e+00],\n",
       "        [-0.000000e+00,  1.620820e+00,  4.659010e+00],\n",
       "        ...,\n",
       "        [ 1.403670e+00,  8.104100e-01,  7.308896e+01],\n",
       "        [-0.000000e+00,  1.620820e+00,  7.495423e+01],\n",
       "        [ 1.403670e+00,  8.104100e-01,  7.678978e+01]],\n",
       "\n",
       "       ...,\n",
       "\n",
       "       [[ 0.000000e+00, -0.000000e+00,  1.469000e-02],\n",
       "        [ 1.403670e+00,  8.104100e-01,  2.371870e+00],\n",
       "        [-0.000000e+00,  1.620820e+00,  4.680480e+00],\n",
       "        ...,\n",
       "        [ 1.403670e+00,  8.104100e-01,  7.310050e+01],\n",
       "        [-0.000000e+00,  1.620820e+00,  7.496807e+01],\n",
       "        [ 1.403670e+00,  8.104100e-01,  7.679524e+01]],\n",
       "\n",
       "       [[ 0.000000e+00, -0.000000e+00,  1.469000e-02],\n",
       "        [ 1.403670e+00,  8.104100e-01,  2.371890e+00],\n",
       "        [-0.000000e+00,  1.620820e+00,  4.680520e+00],\n",
       "        ...,\n",
       "        [ 1.403670e+00,  8.104100e-01,  7.310052e+01],\n",
       "        [-0.000000e+00,  1.620820e+00,  7.496806e+01],\n",
       "        [ 1.403670e+00,  8.104100e-01,  7.679524e+01]],\n",
       "\n",
       "       [[ 0.000000e+00, -0.000000e+00,  1.469000e-02],\n",
       "        [ 1.403670e+00,  8.104100e-01,  2.371990e+00],\n",
       "        [-0.000000e+00,  1.620820e+00,  4.680490e+00],\n",
       "        ...,\n",
       "        [ 1.403670e+00,  8.104100e-01,  7.310058e+01],\n",
       "        [-0.000000e+00,  1.620820e+00,  7.496815e+01],\n",
       "        [ 1.403670e+00,  8.104100e-01,  7.679527e+01]]])"
      ]
     },
     "execution_count": 5,
     "metadata": {},
     "output_type": "execute_result"
    }
   ],
   "source": [
    "import numpy as np\n",
    "position_array = np.array([atoms.get_positions() for atoms in atoms_list])\n",
    "position_array"
   ]
  },
  {
   "cell_type": "code",
   "execution_count": 6,
   "metadata": {},
   "outputs": [
    {
     "data": {
      "text/plain": [
       "array([[[-0.00000e+00,  0.00000e+00,  4.47260e-02],\n",
       "        [-0.00000e+00,  0.00000e+00,  8.74540e-02],\n",
       "        [ 0.00000e+00, -0.00000e+00, -4.32500e-03],\n",
       "        ...,\n",
       "        [-0.00000e+00, -0.00000e+00, -3.58050e-02],\n",
       "        [-0.00000e+00,  0.00000e+00, -1.27040e-02],\n",
       "        [-0.00000e+00,  0.00000e+00, -1.30801e-01]],\n",
       "\n",
       "       [[ 0.00000e+00,  0.00000e+00, -1.17090e-02],\n",
       "        [ 0.00000e+00, -0.00000e+00,  3.65560e-02],\n",
       "        [-0.00000e+00,  0.00000e+00,  1.77080e-02],\n",
       "        ...,\n",
       "        [-0.00000e+00, -0.00000e+00, -1.21300e-03],\n",
       "        [ 0.00000e+00,  0.00000e+00,  3.41440e-02],\n",
       "        [ 0.00000e+00, -0.00000e+00, -5.81130e-02]],\n",
       "\n",
       "       [[ 0.00000e+00, -0.00000e+00, -1.18100e-02],\n",
       "        [ 0.00000e+00, -0.00000e+00,  3.63880e-02],\n",
       "        [ 0.00000e+00, -0.00000e+00,  1.77780e-02],\n",
       "        ...,\n",
       "        [ 0.00000e+00, -0.00000e+00, -1.19900e-03],\n",
       "        [-0.00000e+00,  0.00000e+00,  3.41530e-02],\n",
       "        [-0.00000e+00, -0.00000e+00, -5.79640e-02]],\n",
       "\n",
       "       ...,\n",
       "\n",
       "       [[ 0.00000e+00,  0.00000e+00, -3.10000e-04],\n",
       "        [-0.00000e+00,  0.00000e+00,  4.47000e-04],\n",
       "        [-0.00000e+00,  0.00000e+00, -1.02000e-03],\n",
       "        ...,\n",
       "        [-0.00000e+00,  0.00000e+00,  1.62000e-04],\n",
       "        [ 0.00000e+00, -0.00000e+00,  1.10600e-03],\n",
       "        [ 0.00000e+00, -0.00000e+00,  1.40000e-04]],\n",
       "\n",
       "       [[ 0.00000e+00, -0.00000e+00, -1.72000e-04],\n",
       "        [-0.00000e+00,  0.00000e+00,  4.74000e-04],\n",
       "        [-0.00000e+00, -0.00000e+00, -1.18200e-03],\n",
       "        ...,\n",
       "        [-0.00000e+00,  0.00000e+00,  1.66000e-04],\n",
       "        [-0.00000e+00, -0.00000e+00,  1.30600e-03],\n",
       "        [-0.00000e+00, -0.00000e+00,  8.60000e-05]],\n",
       "\n",
       "       [[ 0.00000e+00, -0.00000e+00,  5.23000e-04],\n",
       "        [ 0.00000e+00, -0.00000e+00, -8.76000e-04],\n",
       "        [-0.00000e+00,  0.00000e+00,  7.05000e-04],\n",
       "        ...,\n",
       "        [ 0.00000e+00,  0.00000e+00,  2.98000e-04],\n",
       "        [-0.00000e+00,  0.00000e+00,  8.99000e-04],\n",
       "        [ 0.00000e+00, -0.00000e+00,  1.33000e-04]]])"
      ]
     },
     "execution_count": 6,
     "metadata": {},
     "output_type": "execute_result"
    }
   ],
   "source": [
    "force_array = np.array([atoms.get_forces() for atoms in atoms_list])\n",
    "force_array"
   ]
  },
  {
   "cell_type": "code",
   "execution_count": 7,
   "metadata": {},
   "outputs": [
    {
     "data": {
      "text/plain": [
       "array([[ True,  True,  True, ...,  True,  True,  True],\n",
       "       [ True,  True,  True, ...,  True,  True,  True],\n",
       "       [ True,  True,  True, ...,  True,  True,  True],\n",
       "       ...,\n",
       "       [False, False,  True, ..., False,  True, False],\n",
       "       [False, False,  True, ..., False,  True, False],\n",
       "       [False, False, False, ..., False, False, False]])"
      ]
     },
     "execution_count": 7,
     "metadata": {},
     "output_type": "execute_result"
    }
   ],
   "source": [
    "ediffg = -0.001\n",
    "\n",
    "F = np.sqrt(np.power(force_array, 2).sum(axis=-1))\n",
    "# 查看哪些离子步中的原子受力大于 ediffg；True 表示受力大于 ediffg\n",
    "boolen_array = F > np.abs(ediffg)\n",
    "boolen_array"
   ]
  }
 ],
 "metadata": {
  "kernelspec": {
   "display_name": "base_ysl",
   "language": "python",
   "name": "python3"
  },
  "language_info": {
   "codemirror_mode": {
    "name": "ipython",
    "version": 3
   },
   "file_extension": ".py",
   "mimetype": "text/x-python",
   "name": "python",
   "nbconvert_exporter": "python",
   "pygments_lexer": "ipython3",
   "version": "3.11.5"
  }
 },
 "nbformat": 4,
 "nbformat_minor": 2
}
