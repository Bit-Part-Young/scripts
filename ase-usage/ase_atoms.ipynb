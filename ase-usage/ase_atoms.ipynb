{
 "cells": [
  {
   "cell_type": "markdown",
   "metadata": {},
   "source": [
    "### ase Atoms 类"
   ]
  },
  {
   "cell_type": "code",
   "execution_count": 1,
   "metadata": {},
   "outputs": [
    {
     "data": {
      "text/plain": [
       "Atoms(symbols='Nb20Si12', pbc=True, cell=[6.57, 6.57, 11.88])"
      ]
     },
     "execution_count": 1,
     "metadata": {},
     "output_type": "execute_result"
    }
   ],
   "source": [
    "from ase.io import read\n",
    "\n",
    "atoms = read(\"Nb5Si3_alpha.vasp\", format=\"vasp\")\n",
    "atoms"
   ]
  },
  {
   "cell_type": "markdown",
   "metadata": {},
   "source": [
    "原子数"
   ]
  },
  {
   "cell_type": "code",
   "execution_count": 2,
   "metadata": {},
   "outputs": [
    {
     "data": {
      "text/plain": [
       "32"
      ]
     },
     "execution_count": 2,
     "metadata": {},
     "output_type": "execute_result"
    }
   ],
   "source": [
    "len(atoms)"
   ]
  },
  {
   "cell_type": "code",
   "execution_count": 3,
   "metadata": {},
   "outputs": [
    {
     "data": {
      "text/plain": [
       "32"
      ]
     },
     "execution_count": 3,
     "metadata": {},
     "output_type": "execute_result"
    }
   ],
   "source": [
    "atoms.get_global_number_of_atoms()"
   ]
  },
  {
   "cell_type": "markdown",
   "metadata": {},
   "source": [
    "化学式"
   ]
  },
  {
   "cell_type": "code",
   "execution_count": 4,
   "metadata": {},
   "outputs": [
    {
     "data": {
      "text/plain": [
       "Symbols('Nb20Si12')"
      ]
     },
     "execution_count": 4,
     "metadata": {},
     "output_type": "execute_result"
    }
   ],
   "source": [
    "atoms.symbols"
   ]
  },
  {
   "cell_type": "code",
   "execution_count": 5,
   "metadata": {},
   "outputs": [
    {
     "data": {
      "text/plain": [
       "'Nb20Si12'"
      ]
     },
     "execution_count": 5,
     "metadata": {},
     "output_type": "execute_result"
    }
   ],
   "source": [
    "atoms.get_chemical_formula()"
   ]
  },
  {
   "cell_type": "markdown",
   "metadata": {},
   "source": [
    "原子对应元素符号"
   ]
  },
  {
   "cell_type": "code",
   "execution_count": 6,
   "metadata": {},
   "outputs": [
    {
     "data": {
      "text/plain": [
       "['Nb',\n",
       " 'Nb',\n",
       " 'Nb',\n",
       " 'Nb',\n",
       " 'Nb',\n",
       " 'Nb',\n",
       " 'Nb',\n",
       " 'Nb',\n",
       " 'Nb',\n",
       " 'Nb',\n",
       " 'Nb',\n",
       " 'Nb',\n",
       " 'Nb',\n",
       " 'Nb',\n",
       " 'Nb',\n",
       " 'Nb',\n",
       " 'Nb',\n",
       " 'Nb',\n",
       " 'Nb',\n",
       " 'Nb',\n",
       " 'Si',\n",
       " 'Si',\n",
       " 'Si',\n",
       " 'Si',\n",
       " 'Si',\n",
       " 'Si',\n",
       " 'Si',\n",
       " 'Si',\n",
       " 'Si',\n",
       " 'Si',\n",
       " 'Si',\n",
       " 'Si']"
      ]
     },
     "execution_count": 6,
     "metadata": {},
     "output_type": "execute_result"
    }
   ],
   "source": [
    "list(atoms.symbols)"
   ]
  },
  {
   "cell_type": "code",
   "execution_count": 7,
   "metadata": {},
   "outputs": [
    {
     "data": {
      "text/plain": [
       "['Nb',\n",
       " 'Nb',\n",
       " 'Nb',\n",
       " 'Nb',\n",
       " 'Nb',\n",
       " 'Nb',\n",
       " 'Nb',\n",
       " 'Nb',\n",
       " 'Nb',\n",
       " 'Nb',\n",
       " 'Nb',\n",
       " 'Nb',\n",
       " 'Nb',\n",
       " 'Nb',\n",
       " 'Nb',\n",
       " 'Nb',\n",
       " 'Nb',\n",
       " 'Nb',\n",
       " 'Nb',\n",
       " 'Nb',\n",
       " 'Si',\n",
       " 'Si',\n",
       " 'Si',\n",
       " 'Si',\n",
       " 'Si',\n",
       " 'Si',\n",
       " 'Si',\n",
       " 'Si',\n",
       " 'Si',\n",
       " 'Si',\n",
       " 'Si',\n",
       " 'Si']"
      ]
     },
     "execution_count": 7,
     "metadata": {},
     "output_type": "execute_result"
    }
   ],
   "source": [
    "atoms.get_chemical_symbols()"
   ]
  },
  {
   "cell_type": "markdown",
   "metadata": {},
   "source": [
    "晶格参数"
   ]
  },
  {
   "cell_type": "code",
   "execution_count": 8,
   "metadata": {},
   "outputs": [
    {
     "data": {
      "text/plain": [
       "Cell([6.57, 6.57, 11.88])"
      ]
     },
     "execution_count": 8,
     "metadata": {},
     "output_type": "execute_result"
    }
   ],
   "source": [
    "atoms.cell"
   ]
  },
  {
   "cell_type": "code",
   "execution_count": 9,
   "metadata": {},
   "outputs": [
    {
     "data": {
      "text/plain": [
       "array([[ 6.57,  0.  ,  0.  ],\n",
       "       [ 0.  ,  6.57,  0.  ],\n",
       "       [ 0.  ,  0.  , 11.88]])"
      ]
     },
     "execution_count": 9,
     "metadata": {},
     "output_type": "execute_result"
    }
   ],
   "source": [
    "atoms.cell[:]  # 或 atoms.cell.array"
   ]
  },
  {
   "cell_type": "code",
   "execution_count": 10,
   "metadata": {},
   "outputs": [
    {
     "data": {
      "text/plain": [
       "Cell([6.57, 6.57, 11.88])"
      ]
     },
     "execution_count": 10,
     "metadata": {},
     "output_type": "execute_result"
    }
   ],
   "source": [
    "atoms.get_cell()"
   ]
  },
  {
   "cell_type": "code",
   "execution_count": 11,
   "metadata": {},
   "outputs": [
    {
     "data": {
      "text/plain": [
       "array([ 6.57,  6.57, 11.88, 90.  , 90.  , 90.  ])"
      ]
     },
     "execution_count": 11,
     "metadata": {},
     "output_type": "execute_result"
    }
   ],
   "source": [
    "atoms.cell.cellpar()"
   ]
  },
  {
   "cell_type": "code",
   "execution_count": 12,
   "metadata": {},
   "outputs": [
    {
     "data": {
      "text/plain": [
       "array([ 6.57,  6.57, 11.88])"
      ]
     },
     "execution_count": 12,
     "metadata": {},
     "output_type": "execute_result"
    }
   ],
   "source": [
    "atoms.cell.lengths()"
   ]
  },
  {
   "cell_type": "markdown",
   "metadata": {},
   "source": [
    "晶胞体积"
   ]
  },
  {
   "cell_type": "code",
   "execution_count": 13,
   "metadata": {},
   "outputs": [
    {
     "data": {
      "text/plain": [
       "512.799012"
      ]
     },
     "execution_count": 13,
     "metadata": {},
     "output_type": "execute_result"
    }
   ],
   "source": [
    "atoms.get_volume()"
   ]
  },
  {
   "cell_type": "markdown",
   "metadata": {},
   "source": [
    "原子对应原子质量"
   ]
  },
  {
   "cell_type": "code",
   "execution_count": 14,
   "metadata": {},
   "outputs": [
    {
     "data": {
      "text/plain": [
       "array([92.90637, 92.90637, 92.90637, 92.90637, 92.90637, 92.90637,\n",
       "       92.90637, 92.90637, 92.90637, 92.90637, 92.90637, 92.90637,\n",
       "       92.90637, 92.90637, 92.90637, 92.90637, 92.90637, 92.90637,\n",
       "       92.90637, 92.90637, 28.085  , 28.085  , 28.085  , 28.085  ,\n",
       "       28.085  , 28.085  , 28.085  , 28.085  , 28.085  , 28.085  ,\n",
       "       28.085  , 28.085  ])"
      ]
     },
     "execution_count": 14,
     "metadata": {},
     "output_type": "execute_result"
    }
   ],
   "source": [
    "atoms.get_masses()"
   ]
  },
  {
   "cell_type": "markdown",
   "metadata": {},
   "source": [
    "原子对应原子序数"
   ]
  },
  {
   "cell_type": "code",
   "execution_count": 15,
   "metadata": {},
   "outputs": [
    {
     "data": {
      "text/plain": [
       "array([41, 41, 41, 41, 41, 41, 41, 41, 41, 41, 41, 41, 41, 41, 41, 41, 41,\n",
       "       41, 41, 41, 14, 14, 14, 14, 14, 14, 14, 14, 14, 14, 14, 14])"
      ]
     },
     "execution_count": 15,
     "metadata": {},
     "output_type": "execute_result"
    }
   ],
   "source": [
    "atoms.numbers"
   ]
  },
  {
   "cell_type": "code",
   "execution_count": 16,
   "metadata": {},
   "outputs": [
    {
     "data": {
      "text/plain": [
       "array([41, 41, 41, 41, 41, 41, 41, 41, 41, 41, 41, 41, 41, 41, 41, 41, 41,\n",
       "       41, 41, 41, 14, 14, 14, 14, 14, 14, 14, 14, 14, 14, 14, 14])"
      ]
     },
     "execution_count": 16,
     "metadata": {},
     "output_type": "execute_result"
    }
   ],
   "source": [
    "atoms.get_atomic_numbers()"
   ]
  },
  {
   "cell_type": "markdown",
   "metadata": {},
   "source": [
    "原子位置"
   ]
  },
  {
   "cell_type": "code",
   "execution_count": 17,
   "metadata": {},
   "outputs": [
    {
     "data": {
      "text/plain": [
       "array([[ 1.09062,  4.37562, 10.098  ],\n",
       "       [ 2.19438,  1.09062, 10.098  ],\n",
       "       [ 5.47938,  4.37562,  7.722  ],\n",
       "       [ 4.37562,  5.47938,  1.782  ],\n",
       "       [ 1.09062,  2.19438,  4.158  ],\n",
       "       [ 2.19438,  1.09062,  1.782  ],\n",
       "       [ 5.47938,  2.19438,  1.782  ],\n",
       "       [ 1.09062,  4.37562,  1.782  ],\n",
       "       [ 4.37562,  1.09062,  4.158  ],\n",
       "       [ 5.47938,  4.37562,  4.158  ],\n",
       "       [ 2.19438,  5.47938,  4.158  ],\n",
       "       [ 5.47938,  2.19438, 10.098  ],\n",
       "       [ 4.37562,  5.47938, 10.098  ],\n",
       "       [ 2.19438,  5.47938,  7.722  ],\n",
       "       [ 1.09062,  2.19438,  7.722  ],\n",
       "       [ 4.37562,  1.09062,  7.722  ],\n",
       "       [ 0.     ,  0.     ,  0.     ],\n",
       "       [ 0.     ,  0.     ,  5.94   ],\n",
       "       [ 3.285  ,  3.285  ,  0.     ],\n",
       "       [ 3.285  ,  3.285  ,  5.94   ],\n",
       "       [ 4.10625,  0.82125,  0.     ],\n",
       "       [ 5.74875,  4.10625,  0.     ],\n",
       "       [ 2.46375,  0.82125,  5.94   ],\n",
       "       [ 0.82125,  2.46375,  0.     ],\n",
       "       [ 4.10625,  5.74875,  5.94   ],\n",
       "       [ 2.46375,  5.74875,  0.     ],\n",
       "       [ 0.82125,  4.10625,  5.94   ],\n",
       "       [ 5.74875,  2.46375,  5.94   ],\n",
       "       [ 0.     ,  0.     ,  8.91   ],\n",
       "       [ 0.     ,  0.     ,  2.97   ],\n",
       "       [ 3.285  ,  3.285  ,  2.97   ],\n",
       "       [ 3.285  ,  3.285  ,  8.91   ]])"
      ]
     },
     "execution_count": 17,
     "metadata": {},
     "output_type": "execute_result"
    }
   ],
   "source": [
    "atoms.positions"
   ]
  },
  {
   "cell_type": "code",
   "execution_count": 18,
   "metadata": {},
   "outputs": [
    {
     "data": {
      "text/plain": [
       "array([[ 1.09062,  4.37562, 10.098  ],\n",
       "       [ 2.19438,  1.09062, 10.098  ],\n",
       "       [ 5.47938,  4.37562,  7.722  ],\n",
       "       [ 4.37562,  5.47938,  1.782  ],\n",
       "       [ 1.09062,  2.19438,  4.158  ],\n",
       "       [ 2.19438,  1.09062,  1.782  ],\n",
       "       [ 5.47938,  2.19438,  1.782  ],\n",
       "       [ 1.09062,  4.37562,  1.782  ],\n",
       "       [ 4.37562,  1.09062,  4.158  ],\n",
       "       [ 5.47938,  4.37562,  4.158  ],\n",
       "       [ 2.19438,  5.47938,  4.158  ],\n",
       "       [ 5.47938,  2.19438, 10.098  ],\n",
       "       [ 4.37562,  5.47938, 10.098  ],\n",
       "       [ 2.19438,  5.47938,  7.722  ],\n",
       "       [ 1.09062,  2.19438,  7.722  ],\n",
       "       [ 4.37562,  1.09062,  7.722  ],\n",
       "       [ 0.     ,  0.     ,  0.     ],\n",
       "       [ 0.     ,  0.     ,  5.94   ],\n",
       "       [ 3.285  ,  3.285  ,  0.     ],\n",
       "       [ 3.285  ,  3.285  ,  5.94   ],\n",
       "       [ 4.10625,  0.82125,  0.     ],\n",
       "       [ 5.74875,  4.10625,  0.     ],\n",
       "       [ 2.46375,  0.82125,  5.94   ],\n",
       "       [ 0.82125,  2.46375,  0.     ],\n",
       "       [ 4.10625,  5.74875,  5.94   ],\n",
       "       [ 2.46375,  5.74875,  0.     ],\n",
       "       [ 0.82125,  4.10625,  5.94   ],\n",
       "       [ 5.74875,  2.46375,  5.94   ],\n",
       "       [ 0.     ,  0.     ,  8.91   ],\n",
       "       [ 0.     ,  0.     ,  2.97   ],\n",
       "       [ 3.285  ,  3.285  ,  2.97   ],\n",
       "       [ 3.285  ,  3.285  ,  8.91   ]])"
      ]
     },
     "execution_count": 18,
     "metadata": {},
     "output_type": "execute_result"
    }
   ],
   "source": [
    "atoms.get_positions()"
   ]
  },
  {
   "cell_type": "markdown",
   "metadata": {},
   "source": [
    "将原子信息写入 dict"
   ]
  },
  {
   "cell_type": "code",
   "execution_count": 19,
   "metadata": {},
   "outputs": [
    {
     "data": {
      "text/plain": [
       "{'numbers': array([41, 41, 41, 41, 41, 41, 41, 41, 41, 41, 41, 41, 41, 41, 41, 41, 41,\n",
       "        41, 41, 41, 14, 14, 14, 14, 14, 14, 14, 14, 14, 14, 14, 14]),\n",
       " 'positions': array([[ 1.09062,  4.37562, 10.098  ],\n",
       "        [ 2.19438,  1.09062, 10.098  ],\n",
       "        [ 5.47938,  4.37562,  7.722  ],\n",
       "        [ 4.37562,  5.47938,  1.782  ],\n",
       "        [ 1.09062,  2.19438,  4.158  ],\n",
       "        [ 2.19438,  1.09062,  1.782  ],\n",
       "        [ 5.47938,  2.19438,  1.782  ],\n",
       "        [ 1.09062,  4.37562,  1.782  ],\n",
       "        [ 4.37562,  1.09062,  4.158  ],\n",
       "        [ 5.47938,  4.37562,  4.158  ],\n",
       "        [ 2.19438,  5.47938,  4.158  ],\n",
       "        [ 5.47938,  2.19438, 10.098  ],\n",
       "        [ 4.37562,  5.47938, 10.098  ],\n",
       "        [ 2.19438,  5.47938,  7.722  ],\n",
       "        [ 1.09062,  2.19438,  7.722  ],\n",
       "        [ 4.37562,  1.09062,  7.722  ],\n",
       "        [ 0.     ,  0.     ,  0.     ],\n",
       "        [ 0.     ,  0.     ,  5.94   ],\n",
       "        [ 3.285  ,  3.285  ,  0.     ],\n",
       "        [ 3.285  ,  3.285  ,  5.94   ],\n",
       "        [ 4.10625,  0.82125,  0.     ],\n",
       "        [ 5.74875,  4.10625,  0.     ],\n",
       "        [ 2.46375,  0.82125,  5.94   ],\n",
       "        [ 0.82125,  2.46375,  0.     ],\n",
       "        [ 4.10625,  5.74875,  5.94   ],\n",
       "        [ 2.46375,  5.74875,  0.     ],\n",
       "        [ 0.82125,  4.10625,  5.94   ],\n",
       "        [ 5.74875,  2.46375,  5.94   ],\n",
       "        [ 0.     ,  0.     ,  8.91   ],\n",
       "        [ 0.     ,  0.     ,  2.97   ],\n",
       "        [ 3.285  ,  3.285  ,  2.97   ],\n",
       "        [ 3.285  ,  3.285  ,  8.91   ]]),\n",
       " 'cell': array([[ 6.57,  0.  ,  0.  ],\n",
       "        [ 0.  ,  6.57,  0.  ],\n",
       "        [ 0.  ,  0.  , 11.88]]),\n",
       " 'pbc': array([ True,  True,  True])}"
      ]
     },
     "execution_count": 19,
     "metadata": {},
     "output_type": "execute_result"
    }
   ],
   "source": [
    "atoms.todict()"
   ]
  },
  {
   "cell_type": "markdown",
   "metadata": {},
   "source": [
    "周期性边界条件"
   ]
  },
  {
   "cell_type": "code",
   "execution_count": 20,
   "metadata": {},
   "outputs": [
    {
     "data": {
      "text/plain": [
       "array([ True,  True,  True])"
      ]
     },
     "execution_count": 20,
     "metadata": {},
     "output_type": "execute_result"
    }
   ],
   "source": [
    "atoms.pbc"
   ]
  },
  {
   "cell_type": "code",
   "execution_count": 21,
   "metadata": {},
   "outputs": [
    {
     "data": {
      "text/plain": [
       "array([ True,  True,  True])"
      ]
     },
     "execution_count": 21,
     "metadata": {},
     "output_type": "execute_result"
    }
   ],
   "source": [
    "atoms.get_pbc()"
   ]
  },
  {
   "cell_type": "markdown",
   "metadata": {},
   "source": [
    "若已计算该构型的单点能/弛豫能量，不需设置 ase calculator 重复计算，可以进行如下设置："
   ]
  },
  {
   "cell_type": "code",
   "execution_count": 22,
   "metadata": {},
   "outputs": [
    {
     "data": {
      "text/plain": [
       "-272.0"
      ]
     },
     "execution_count": 22,
     "metadata": {},
     "output_type": "execute_result"
    }
   ],
   "source": [
    "from ase.calculators.singlepoint import SinglePointCalculator\n",
    "\n",
    "results={\"energy\": -272.0}\n",
    "atoms.calc = SinglePointCalculator(atoms, **results)\n",
    "atoms.get_potential_energy()"
   ]
  }
 ],
 "metadata": {
  "kernelspec": {
   "display_name": "base_ysl",
   "language": "python",
   "name": "python3"
  },
  "language_info": {
   "codemirror_mode": {
    "name": "ipython",
    "version": 3
   },
   "file_extension": ".py",
   "mimetype": "text/x-python",
   "name": "python",
   "nbconvert_exporter": "python",
   "pygments_lexer": "ipython3",
   "version": "3.11.4"
  }
 },
 "nbformat": 4,
 "nbformat_minor": 2
}
