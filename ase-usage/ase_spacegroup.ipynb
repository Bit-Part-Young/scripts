{
 "cells": [
  {
   "cell_type": "markdown",
   "metadata": {},
   "source": [
    "### ASE spacegroup 模块使用"
   ]
  },
  {
   "cell_type": "code",
   "execution_count": 1,
   "metadata": {},
   "outputs": [],
   "source": [
    "from ase.spacegroup import Spacegroup, get_spacegroup\n",
    "\n",
    "def get_spacegroup_info(spg: Spacegroup):\n",
    "    print(spg.no)\n",
    "    print(spg.symbol)"
   ]
  },
  {
   "cell_type": "code",
   "execution_count": 2,
   "metadata": {},
   "outputs": [
    {
     "name": "stdout",
     "output_type": "stream",
     "text": [
      "193\n",
      "P 63/m c m\n"
     ]
    }
   ],
   "source": [
    "spg = Spacegroup(193)\n",
    "get_spacegroup_info(spg)"
   ]
  },
  {
   "cell_type": "code",
   "execution_count": 3,
   "metadata": {},
   "outputs": [],
   "source": [
    "from ase.atoms import Atoms\n",
    "\n",
    "def get_spacegroup_info(atoms: Atoms):\n",
    "    spg = get_spacegroup(atoms)\n",
    "\n",
    "    print(spg.no)\n",
    "    print(spg.symbol)"
   ]
  },
  {
   "cell_type": "code",
   "execution_count": 4,
   "metadata": {},
   "outputs": [
    {
     "name": "stdout",
     "output_type": "stream",
     "text": [
      "140\n",
      "I 4/m c m\n"
     ]
    }
   ],
   "source": [
    "from ase.io import read\n",
    "\n",
    "atoms = read(\"Nb5Si3_alpha.vasp\")\n",
    "\n",
    "get_spacegroup_info(atoms)"
   ]
  },
  {
   "cell_type": "code",
   "execution_count": 5,
   "metadata": {},
   "outputs": [
    {
     "data": {
      "text/plain": [
       "array([[0.666, 0.166, 0.65 ],\n",
       "       [0.   , 0.   , 0.   ],\n",
       "       [0.625, 0.125, 0.   ],\n",
       "       [0.   , 0.   , 0.75 ]])"
      ]
     },
     "execution_count": 5,
     "metadata": {},
     "output_type": "execute_result"
    }
   ],
   "source": [
    "scaled_positions = atoms.get_scaled_positions()\n",
    "unique_sites = get_spacegroup(atoms).unique_sites(scaled_positions)\n",
    "unique_sites"
   ]
  },
  {
   "cell_type": "code",
   "execution_count": 6,
   "metadata": {},
   "outputs": [
    {
     "data": {
      "text/plain": [
       "(array([[0.666, 0.166, 0.65 ],\n",
       "        [0.334, 0.834, 0.65 ],\n",
       "        [0.834, 0.666, 0.65 ],\n",
       "        [0.166, 0.334, 0.65 ],\n",
       "        [0.334, 0.166, 0.85 ],\n",
       "        [0.666, 0.834, 0.85 ],\n",
       "        [0.166, 0.666, 0.85 ],\n",
       "        [0.834, 0.334, 0.85 ],\n",
       "        [0.166, 0.666, 0.15 ],\n",
       "        [0.834, 0.334, 0.15 ],\n",
       "        [0.334, 0.166, 0.15 ],\n",
       "        [0.666, 0.834, 0.15 ],\n",
       "        [0.834, 0.666, 0.35 ],\n",
       "        [0.166, 0.334, 0.35 ],\n",
       "        [0.666, 0.166, 0.35 ],\n",
       "        [0.334, 0.834, 0.35 ]]),\n",
       " [0, 0, 0, 0, 0, 0, 0, 0, 0, 0, 0, 0, 0, 0, 0, 0])"
      ]
     },
     "execution_count": 6,
     "metadata": {},
     "output_type": "execute_result"
    }
   ],
   "source": [
    "# 有问题？\n",
    "equivalent_sites = get_spacegroup(atoms).equivalent_sites((0.666, 0.166, 0.65))\n",
    "equivalent_sites"
   ]
  }
 ],
 "metadata": {
  "kernelspec": {
   "display_name": "base_ysl",
   "language": "python",
   "name": "python3"
  },
  "language_info": {
   "codemirror_mode": {
    "name": "ipython",
    "version": 3
   },
   "file_extension": ".py",
   "mimetype": "text/x-python",
   "name": "python",
   "nbconvert_exporter": "python",
   "pygments_lexer": "ipython3",
   "version": "3.11.4"
  }
 },
 "nbformat": 4,
 "nbformat_minor": 2
}
