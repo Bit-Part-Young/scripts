{
 "cells": [
  {
   "cell_type": "markdown",
   "metadata": {},
   "source": [
    "### ase db 模块"
   ]
  },
  {
   "cell_type": "code",
   "execution_count": 1,
   "metadata": {},
   "outputs": [],
   "source": [
    "from ase.db import connect\n",
    "\n",
    "db_fn = \"test.db\"\n",
    "db = connect(db_fn)"
   ]
  },
  {
   "cell_type": "markdown",
   "metadata": {},
   "source": [
    "查看 db 文件里的结构数目"
   ]
  },
  {
   "cell_type": "code",
   "execution_count": 2,
   "metadata": {},
   "outputs": [
    {
     "data": {
      "text/plain": [
       "10"
      ]
     },
     "execution_count": 2,
     "metadata": {},
     "output_type": "execute_result"
    }
   ],
   "source": [
    "len(db)"
   ]
  },
  {
   "cell_type": "code",
   "execution_count": 3,
   "metadata": {},
   "outputs": [
    {
     "data": {
      "text/plain": [
       "10"
      ]
     },
     "execution_count": 3,
     "metadata": {},
     "output_type": "execute_result"
    }
   ],
   "source": [
    "db.count()"
   ]
  },
  {
   "cell_type": "markdown",
   "metadata": {},
   "source": [
    "`get()` 返回类型是 `AtomsRow`，有 `key_value_pairs` 和 `data` 属性"
   ]
  },
  {
   "cell_type": "code",
   "execution_count": 18,
   "metadata": {},
   "outputs": [
    {
     "data": {
      "text/plain": [
       "<ase.db.row.AtomsRow at 0x7faeb582b250>"
      ]
     },
     "execution_count": 18,
     "metadata": {},
     "output_type": "execute_result"
    }
   ],
   "source": [
    "db.get(id=1)"
   ]
  },
  {
   "cell_type": "code",
   "execution_count": 5,
   "metadata": {},
   "outputs": [
    {
     "data": {
      "text/plain": [
       "ase.db.row.AtomsRow"
      ]
     },
     "execution_count": 5,
     "metadata": {},
     "output_type": "execute_result"
    }
   ],
   "source": [
    "type(db.get(id=1))"
   ]
  },
  {
   "cell_type": "code",
   "execution_count": 6,
   "metadata": {},
   "outputs": [
    {
     "data": {
      "text/plain": [
       "{'structure_id': 'ICET-Training-No-0405135',\n",
       " 'task_label': 'static',\n",
       " 'energy_total': -59.27373992,\n",
       " 'energy_pa': -7.40921749,\n",
       " 'vasp_calc': 'Yes',\n",
       " 'mixing_energy_pa': -0.3479422249999997,\n",
       " 'distorted_energy': -0.03908029249999956,\n",
       " 'nowarning': 'Yes'}"
      ]
     },
     "execution_count": 6,
     "metadata": {},
     "output_type": "execute_result"
    }
   ],
   "source": [
    "db.get(id=1).key_value_pairs"
   ]
  },
  {
   "cell_type": "markdown",
   "metadata": {},
   "source": [
    "可以直接通过 `key_value_pairs` 中的 key 来获取对应 value"
   ]
  },
  {
   "cell_type": "code",
   "execution_count": 11,
   "metadata": {},
   "outputs": [
    {
     "data": {
      "text/plain": [
       "'ICET-Training-No-0405135'"
      ]
     },
     "execution_count": 11,
     "metadata": {},
     "output_type": "execute_result"
    }
   ],
   "source": [
    "db.get(id=1).structure_id"
   ]
  },
  {
   "cell_type": "code",
   "execution_count": 7,
   "metadata": {},
   "outputs": [
    {
     "data": {
      "text/plain": [
       "{'static_structure': Atoms(symbols='Zr3Nb2Al3', pbc=True, cell=[[3.31477759, 0.0, -3.31477759], [3.40301498, -3.39740193, 3.40301498], [-3.40301498, -3.39740193, -3.40301498]]),\n",
       " 'structure_map_info': {'drmax': 0.25127666454620745,\n",
       "  'dravg': 0.11320407993986532,\n",
       "  'strain_tensor': array([[0.01477229, 0.        , 0.01332891],\n",
       "         [0.        , 0.02640542, 0.        ],\n",
       "         [0.01332891, 0.        , 0.01477229]]),\n",
       "  'volumetric_strain': 0.055949999999999944,\n",
       "  'strain_tensor_eigenvalues': array([0.00144338, 0.02640542, 0.0281012 ]),\n",
       "  'warnings': [],\n",
       "  'transformation_matrix': array([[ 1.,  0., -0.],\n",
       "         [ 0.,  1., -0.],\n",
       "         [-0., -0.,  1.]])},\n",
       " 'structure_composition': {'Ti': 0.0,\n",
       "  'Al': 0.375,\n",
       "  'Nb': 0.25,\n",
       "  'Mo': 0.0,\n",
       "  'Zr': 0.375}}"
      ]
     },
     "execution_count": 7,
     "metadata": {},
     "output_type": "execute_result"
    }
   ],
   "source": [
    "db.get(id=1).data"
   ]
  },
  {
   "cell_type": "markdown",
   "metadata": {},
   "source": [
    "不能直接通过 `data` 中的 key 来获取对应 value"
   ]
  },
  {
   "cell_type": "code",
   "execution_count": 12,
   "metadata": {},
   "outputs": [
    {
     "ename": "AttributeError",
     "evalue": "'AtomsRow' object has no attribute 'structure_composition'",
     "output_type": "error",
     "traceback": [
      "\u001b[0;31m---------------------------------------------------------------------------\u001b[0m",
      "\u001b[0;31mAttributeError\u001b[0m                            Traceback (most recent call last)",
      "Cell \u001b[0;32mIn[12], line 1\u001b[0m\n\u001b[0;32m----> 1\u001b[0m \u001b[43mdb\u001b[49m\u001b[38;5;241;43m.\u001b[39;49m\u001b[43mget\u001b[49m\u001b[43m(\u001b[49m\u001b[38;5;28;43mid\u001b[39;49m\u001b[38;5;241;43m=\u001b[39;49m\u001b[38;5;241;43m1\u001b[39;49m\u001b[43m)\u001b[49m\u001b[38;5;241;43m.\u001b[39;49m\u001b[43mstructure_composition\u001b[49m\n",
      "\u001b[0;31mAttributeError\u001b[0m: 'AtomsRow' object has no attribute 'structure_composition'"
     ]
    }
   ],
   "source": [
    "db.get(id=1).structure_composition"
   ]
  },
  {
   "cell_type": "code",
   "execution_count": 8,
   "metadata": {},
   "outputs": [
    {
     "data": {
      "text/plain": [
       "Atoms(symbols='Zr3Nb2Al3', pbc=True, cell=[[3.31, 0.0, -3.31], [3.31, -3.31, 3.31], [-3.31, -3.31, -3.31]])"
      ]
     },
     "execution_count": 8,
     "metadata": {},
     "output_type": "execute_result"
    }
   ],
   "source": [
    "db.get_atoms(id=1)"
   ]
  },
  {
   "cell_type": "markdown",
   "metadata": {},
   "source": [
    "`select()` 可以是 id 或 AtomsRow 中的 key，可以多个条件\n",
    "\n",
    ">符号与字符之间不能有空格"
   ]
  },
  {
   "cell_type": "code",
   "execution_count": 13,
   "metadata": {},
   "outputs": [
    {
     "name": "stdout",
     "output_type": "stream",
     "text": [
      "ICET-Training-No-02434, Atoms(symbols='AlZrNbMoZr', pbc=True, cell=[[3.3099999999999996, 0.0, 3.3099999999999996], [3.3099999999999996, -3.3099999999999996, 0.0], [4.965, 1.655, -1.655]])\n",
      "ICET-Training-No-43090, Atoms(symbols='ZrTi2Al3Mo', pbc=True, cell=[[-3.31, 3.31, 0.0], [4.965, 1.655, -1.655], [-1.655, -1.655, -4.965]])\n",
      "ICET-Training-No-0398525, Atoms(symbols='ZrTiNb2Al3Mo', pbc=True, cell=[[3.31, 0.0, -3.31], [3.31, -3.31, 3.31], [-3.31, -3.31, -3.31]])\n",
      "ICET-Training-No-53184, Atoms(symbols='Zr2Nb2Al3', pbc=True, cell=[[0.0, 3.31, -3.31], [3.31, 3.31, 0.0], [4.965, -1.655, -4.965]])\n"
     ]
    }
   ],
   "source": [
    "from ase.db.row import AtomsRow\n",
    "\n",
    "for row in db.select(\"id>=7\"):\n",
    "    row: AtomsRow\n",
    "\n",
    "    atoms = row.toatoms()\n",
    "\n",
    "    print(row.structure_id, atoms, sep=\", \")"
   ]
  },
  {
   "cell_type": "code",
   "execution_count": 14,
   "metadata": {},
   "outputs": [
    {
     "name": "stdout",
     "output_type": "stream",
     "text": [
      "ICET-Training-No-02434\n",
      "ICET-Training-No-43090\n",
      "ICET-Training-No-53184\n"
     ]
    }
   ],
   "source": [
    "from ase.db.row import AtomsRow\n",
    "\n",
    "for row in db.select(\"id>=7, nowarning=Yes\"):\n",
    "    row: AtomsRow\n",
    "\n",
    "    print(row.structure_id)"
   ]
  },
  {
   "cell_type": "markdown",
   "metadata": {},
   "source": [
    "保存到 db 文件中"
   ]
  },
  {
   "cell_type": "code",
   "execution_count": 16,
   "metadata": {},
   "outputs": [],
   "source": [
    "from ase.db.row import AtomsRow\n",
    "import os\n",
    "\n",
    "db_fn_new = \"tmp.db\"\n",
    "if os.path.exists(db_fn_new):\n",
    "    os.remove(db_fn_new)\n",
    "db_new = connect(db_fn_new)\n",
    "\n",
    "for row in db.select(\"nowarning=Yes\"):\n",
    "    row: AtomsRow\n",
    "\n",
    "    atoms = row.toatoms()\n",
    "\n",
    "    key_value_pairs = row.key_value_pairs\n",
    "    data = row.data\n",
    "\n",
    "    db_new.write(atoms=atoms, key_value_pairs=key_value_pairs, data=data)"
   ]
  },
  {
   "cell_type": "code",
   "execution_count": 17,
   "metadata": {},
   "outputs": [
    {
     "data": {
      "text/plain": [
       "8"
      ]
     },
     "execution_count": 17,
     "metadata": {},
     "output_type": "execute_result"
    }
   ],
   "source": [
    "len(db_new)"
   ]
  }
 ],
 "metadata": {
  "kernelspec": {
   "display_name": "base_ysl",
   "language": "python",
   "name": "python3"
  },
  "language_info": {
   "codemirror_mode": {
    "name": "ipython",
    "version": 3
   },
   "file_extension": ".py",
   "mimetype": "text/x-python",
   "name": "python",
   "nbconvert_exporter": "python",
   "pygments_lexer": "ipython3",
   "version": "3.11.4"
  }
 },
 "nbformat": 4,
 "nbformat_minor": 2
}
