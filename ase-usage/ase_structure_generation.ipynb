{
 "cells": [
  {
   "cell_type": "markdown",
   "metadata": {},
   "source": [
    "### ase 构建晶体结构"
   ]
  },
  {
   "cell_type": "markdown",
   "metadata": {},
   "source": [
    "#### 使用 Atoms 构建晶体结构"
   ]
  },
  {
   "cell_type": "code",
   "execution_count": 1,
   "metadata": {},
   "outputs": [
    {
     "data": {
      "text/plain": [
       "Atoms(symbols='Ag', pbc=True, cell=[[0.0, 2.045, 2.045], [2.045, 0.0, 2.045], [2.045, 2.045, 0.0]])"
      ]
     },
     "execution_count": 1,
     "metadata": {},
     "output_type": "execute_result"
    }
   ],
   "source": [
    "from ase.atoms import Atoms\n",
    "from ase.lattice import FCC\n",
    "\n",
    "lattice = FCC(a=4.09)\n",
    "cell = lattice.tocell()\n",
    "\n",
    "# 原胞构建\n",
    "atoms = Atoms(\n",
    "    symbols=\"Ag\",\n",
    "    cell=cell,\n",
    "    scaled_positions=[[0.0, 0.0, 0.0]],\n",
    "    pbc=True,\n",
    ")\n",
    "\n",
    "atoms"
   ]
  },
  {
   "cell_type": "code",
   "execution_count": 2,
   "metadata": {},
   "outputs": [
    {
     "data": {
      "text/plain": [
       "Atoms(symbols='Ag4', pbc=True, cell=[4.09, 4.09, 4.09])"
      ]
     },
     "execution_count": 2,
     "metadata": {},
     "output_type": "execute_result"
    }
   ],
   "source": [
    "# 单胞构建\n",
    "a = 4.09\n",
    "atoms = Atoms(\n",
    "    symbols=\"Ag4\",\n",
    "    cell=[a, a, a],\n",
    "    scaled_positions=[\n",
    "        [0.0, 0.0, 0.0],\n",
    "        [0.5, 0.5, 0.0],\n",
    "        [0.5, 0.0, 0.5],\n",
    "        [0.0, 0.5, 0.5],\n",
    "    ],\n",
    "    pbc=True,\n",
    ")\n",
    "\n",
    "atoms"
   ]
  },
  {
   "cell_type": "code",
   "execution_count": 3,
   "metadata": {},
   "outputs": [
    {
     "data": {
      "text/plain": [
       "Atoms(symbols='Zn4S4', pbc=True, cell=[5.387, 5.387, 5.387])"
      ]
     },
     "execution_count": 3,
     "metadata": {},
     "output_type": "execute_result"
    }
   ],
   "source": [
    "# 复杂结构构建\n",
    "a = 5.387\n",
    "atoms = Atoms(\n",
    "    symbols=\"Zn4S4\",\n",
    "    scaled_positions=[\n",
    "        [0.0, 0.0, 0.0],\n",
    "        [0.0, 0.5, 0.5],\n",
    "        [0.5, 0.0, 0.5],\n",
    "        [0.5, 0.5, 0.0],\n",
    "        [0.25, 0.75, 0.75],\n",
    "        [0.25, 0.25, 0.25],\n",
    "        [0.75, 0.75, 0.25],\n",
    "        [0.75, 0.25, 0.75],\n",
    "    ],\n",
    "    cell=[a, a, a],\n",
    "    pbc=True,\n",
    ")\n",
    "\n",
    "atoms"
   ]
  },
  {
   "cell_type": "markdown",
   "metadata": {},
   "source": [
    "#### 通过 build 构建晶体结构"
   ]
  },
  {
   "cell_type": "code",
   "execution_count": 4,
   "metadata": {},
   "outputs": [
    {
     "data": {
      "text/plain": [
       "Atoms(symbols='Ag', pbc=True, cell=[[0.0, 2.045, 2.045], [2.045, 0.0, 2.045], [2.045, 2.045, 0.0]])"
      ]
     },
     "execution_count": 4,
     "metadata": {},
     "output_type": "execute_result"
    }
   ],
   "source": [
    "from ase.build import bulk\n",
    "\n",
    "# 原胞构建\n",
    "atoms = bulk(\"Ag\")\n",
    "atoms"
   ]
  },
  {
   "cell_type": "code",
   "execution_count": 5,
   "metadata": {},
   "outputs": [
    {
     "data": {
      "text/plain": [
       "Atoms(symbols='Ag4', pbc=True, cell=[4.09, 4.09, 4.09])"
      ]
     },
     "execution_count": 5,
     "metadata": {},
     "output_type": "execute_result"
    }
   ],
   "source": [
    "# 单胞构建\n",
    "atoms = bulk(\"Ag\", cubic=True)\n",
    "atoms"
   ]
  },
  {
   "cell_type": "markdown",
   "metadata": {},
   "source": [
    "#### 通过 crystal 构建晶体结构"
   ]
  },
  {
   "cell_type": "code",
   "execution_count": 6,
   "metadata": {},
   "outputs": [
    {
     "data": {
      "text/plain": [
       "Atoms(symbols='O6Si3', pbc=True, cell=[[4.9019, 0.0, 0.0], [-2.4509499999999993, 4.245169926810941, 0.0], [0.0, 0.0, 5.3988]], spacegroup_kinds=...)"
      ]
     },
     "execution_count": 6,
     "metadata": {},
     "output_type": "execute_result"
    }
   ],
   "source": [
    "from ase.spacegroup import crystal\n",
    "\n",
    "# reference: https://github.com/ajjackson/ase-tutorial-symmetry/blob/master/ase-symmetry.ipynb\n",
    "\n",
    "basis=[\n",
    "    [0.413, 0.2711, 0.2172],\n",
    "    [0.4673, 0, 0.3333],\n",
    "]\n",
    "\n",
    "cellpar=[\n",
    "    4.9019,\n",
    "    4.9019,\n",
    "    5.3988,\n",
    "    90,\n",
    "    90,\n",
    "    120\n",
    "]\n",
    "\n",
    "quartz = crystal(\n",
    "    symbols=[\"O\", \"Si\"],\n",
    "    basis=basis,\n",
    "    spacegroup=152,\n",
    "    cellpar=cellpar,\n",
    ")\n",
    "\n",
    "quartz"
   ]
  },
  {
   "cell_type": "code",
   "execution_count": 7,
   "metadata": {},
   "outputs": [
    {
     "data": {
      "text/plain": [
       "array([[0.413 , 0.2711, 0.2172],\n",
       "       [0.7289, 0.1419, 0.5505],\n",
       "       [0.8581, 0.587 , 0.8839],\n",
       "       [0.2711, 0.413 , 0.7828],\n",
       "       [0.1419, 0.7289, 0.4495],\n",
       "       [0.587 , 0.8581, 0.1161],\n",
       "       [0.4673, 0.    , 0.3333],\n",
       "       [0.    , 0.4673, 0.6666],\n",
       "       [0.5327, 0.5327, 1.    ]])"
      ]
     },
     "execution_count": 7,
     "metadata": {},
     "output_type": "execute_result"
    }
   ],
   "source": [
    "quartz.get_scaled_positions().round(4)"
   ]
  }
 ],
 "metadata": {
  "kernelspec": {
   "display_name": "base_ysl",
   "language": "python",
   "name": "python3"
  },
  "language_info": {
   "codemirror_mode": {
    "name": "ipython",
    "version": 3
   },
   "file_extension": ".py",
   "mimetype": "text/x-python",
   "name": "python",
   "nbconvert_exporter": "python",
   "pygments_lexer": "ipython3",
   "version": "3.11.4"
  }
 },
 "nbformat": 4,
 "nbformat_minor": 2
}
