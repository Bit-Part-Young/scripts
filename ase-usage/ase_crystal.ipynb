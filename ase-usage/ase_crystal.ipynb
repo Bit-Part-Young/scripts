{
 "cells": [
  {
   "cell_type": "markdown",
   "metadata": {},
   "source": [
    "### ase 构建 crystal"
   ]
  },
  {
   "cell_type": "markdown",
   "metadata": {},
   "source": [
    "#### Atoms 模块构建 crystal"
   ]
  },
  {
   "cell_type": "code",
   "execution_count": 1,
   "metadata": {},
   "outputs": [
    {
     "data": {
      "text/plain": [
       "Cell([[0.0, 2.045, 2.045], [2.045, 0.0, 2.045], [2.045, 2.045, 0.0]])"
      ]
     },
     "execution_count": 1,
     "metadata": {},
     "output_type": "execute_result"
    }
   ],
   "source": [
    "from ase.atoms import Atoms  # 或 from ase import Atoms\n",
    "from ase.lattice import FCC\n",
    "\n",
    "# 原胞\n",
    "lattice = FCC(a=4.09)\n",
    "cell = lattice.tocell()\n",
    "cell"
   ]
  },
  {
   "cell_type": "code",
   "execution_count": 2,
   "metadata": {},
   "outputs": [
    {
     "data": {
      "text/plain": [
       "Atoms(symbols='Ag', pbc=True, cell=[[0.0, 2.045, 2.045], [2.045, 0.0, 2.045], [2.045, 2.045, 0.0]])"
      ]
     },
     "execution_count": 2,
     "metadata": {},
     "output_type": "execute_result"
    }
   ],
   "source": [
    "atoms = Atoms(\n",
    "    symbols=\"Ag\",\n",
    "    cell=cell,\n",
    "    scaled_positions=[[0.0, 0.0, 0.0]],\n",
    "    pbc=True,\n",
    ")\n",
    "atoms"
   ]
  },
  {
   "cell_type": "code",
   "execution_count": 3,
   "metadata": {},
   "outputs": [
    {
     "data": {
      "text/plain": [
       "Atoms(symbols='Ag4', pbc=True, cell=[4.09, 4.09, 4.09])"
      ]
     },
     "execution_count": 3,
     "metadata": {},
     "output_type": "execute_result"
    }
   ],
   "source": [
    "# 单胞\n",
    "a = 4.09\n",
    "atoms = Atoms(\n",
    "    symbols=\"Ag4\",\n",
    "    cell=[a, a, a],\n",
    "    scaled_positions=[\n",
    "        [0.0, 0.0, 0.0],\n",
    "        [0.5, 0.5, 0.0],\n",
    "        [0.5, 0.0, 0.5],\n",
    "        [0.0, 0.5, 0.5],\n",
    "    ],\n",
    "    pbc=True,\n",
    ")\n",
    "atoms"
   ]
  },
  {
   "cell_type": "code",
   "execution_count": 4,
   "metadata": {},
   "outputs": [
    {
     "data": {
      "text/plain": [
       "Atoms(symbols='Zn4S4', pbc=True, cell=[5.387, 5.387, 5.387])"
      ]
     },
     "execution_count": 4,
     "metadata": {},
     "output_type": "execute_result"
    }
   ],
   "source": [
    "# 复杂构型\n",
    "a = 5.387\n",
    "atoms = Atoms(\n",
    "    symbols=\"Zn4S4\",\n",
    "    scaled_positions=[\n",
    "        [0.0, 0.0, 0.0],\n",
    "        [0.0, 0.5, 0.5],\n",
    "        [0.5, 0.0, 0.5],\n",
    "        [0.5, 0.5, 0.0],\n",
    "        [0.25, 0.75, 0.75],\n",
    "        [0.25, 0.25, 0.25],\n",
    "        [0.75, 0.75, 0.25],\n",
    "        [0.75, 0.25, 0.75],\n",
    "    ],\n",
    "    cell=[a, a, a],\n",
    "    pbc=True,\n",
    ")\n",
    "\n",
    "atoms"
   ]
  },
  {
   "cell_type": "markdown",
   "metadata": {},
   "source": [
    "#### build 模块构建 crystal"
   ]
  },
  {
   "cell_type": "code",
   "execution_count": 5,
   "metadata": {},
   "outputs": [
    {
     "data": {
      "text/plain": [
       "Atoms(symbols='Ag4', pbc=True, cell=[4.09, 4.09, 4.09])"
      ]
     },
     "execution_count": 5,
     "metadata": {},
     "output_type": "execute_result"
    }
   ],
   "source": [
    "from ase.build import bulk\n",
    "from ase.atoms import Atoms\n",
    "\n",
    "atoms: Atoms = bulk(\"Ag\", cubic=True)\n",
    "# atoms = bulk(\"Ag\", \"fcc\", a=4.09, cubic=True)\n",
    "atoms"
   ]
  },
  {
   "cell_type": "code",
   "execution_count": 6,
   "metadata": {},
   "outputs": [
    {
     "data": {
      "text/plain": [
       "array([[0. , 0. , 0. ],\n",
       "       [0. , 0.5, 0.5],\n",
       "       [0.5, 0. , 0.5],\n",
       "       [0.5, 0.5, 0. ]])"
      ]
     },
     "execution_count": 6,
     "metadata": {},
     "output_type": "execute_result"
    }
   ],
   "source": [
    "atoms.get_scaled_positions()"
   ]
  },
  {
   "cell_type": "markdown",
   "metadata": {},
   "source": [
    "#### spacegroup 模块构建 crystal"
   ]
  },
  {
   "cell_type": "code",
   "execution_count": 1,
   "metadata": {},
   "outputs": [
    {
     "data": {
      "text/plain": [
       "Atoms(symbols='O6Si3', pbc=True, cell=[[4.9019, 0.0, 0.0], [-2.4509499999999993, 4.245169926810941, 0.0], [0.0, 0.0, 5.3988]], spacegroup_kinds=...)"
      ]
     },
     "execution_count": 1,
     "metadata": {},
     "output_type": "execute_result"
    }
   ],
   "source": [
    "from ase.spacegroup import crystal, Spacegroup\n",
    "\n",
    "# reference: https://github.com/ajjackson/ase-tutorial-symmetry/blob/master/ase-symmetry.ipynb\n",
    "quartz = crystal(\n",
    "    symbols=[\"O\", \"Si\"],\n",
    "    basis=[[0.413, 0.2711, 0.2172], [0.4673, 0, 0.3333]],\n",
    "    spacegroup=152,\n",
    "    cellpar=[4.9019, 4.9019, 5.3988, 90, 90, 120],\n",
    ")\n",
    "quartz"
   ]
  },
  {
   "cell_type": "code",
   "execution_count": 2,
   "metadata": {},
   "outputs": [
    {
     "data": {
      "text/plain": [
       "array([[0.413 , 0.2711, 0.2172],\n",
       "       [0.7289, 0.1419, 0.5505],\n",
       "       [0.8581, 0.587 , 0.8839],\n",
       "       [0.2711, 0.413 , 0.7828],\n",
       "       [0.1419, 0.7289, 0.4495],\n",
       "       [0.587 , 0.8581, 0.1161],\n",
       "       [0.4673, 0.    , 0.3333],\n",
       "       [0.    , 0.4673, 0.6666],\n",
       "       [0.5327, 0.5327, 1.    ]])"
      ]
     },
     "execution_count": 2,
     "metadata": {},
     "output_type": "execute_result"
    }
   ],
   "source": [
    "quartz.get_scaled_positions().round(4)"
   ]
  },
  {
   "cell_type": "code",
   "execution_count": 3,
   "metadata": {},
   "outputs": [
    {
     "data": {
      "text/plain": [
       "Spacegroup(152, setting=1)"
      ]
     },
     "execution_count": 3,
     "metadata": {},
     "output_type": "execute_result"
    }
   ],
   "source": [
    "spg = Spacegroup(152)\n",
    "spg"
   ]
  },
  {
   "cell_type": "code",
   "execution_count": 4,
   "metadata": {},
   "outputs": [
    {
     "data": {
      "text/plain": [
       "(array([[0.4673    , 0.        , 0.3333    ],\n",
       "        [0.        , 0.4673    , 0.66663333],\n",
       "        [0.5327    , 0.5327    , 0.99996667]]),\n",
       " [0, 0, 0])"
      ]
     },
     "execution_count": 4,
     "metadata": {},
     "output_type": "execute_result"
    }
   ],
   "source": [
    "# 查看等同原子坐标\n",
    "spg.equivalent_sites([0.4673, 0, 0.3333])"
   ]
  }
 ],
 "metadata": {
  "kernelspec": {
   "display_name": "base_ysl",
   "language": "python",
   "name": "python3"
  },
  "language_info": {
   "codemirror_mode": {
    "name": "ipython",
    "version": 3
   },
   "file_extension": ".py",
   "mimetype": "text/x-python",
   "name": "python",
   "nbconvert_exporter": "python",
   "pygments_lexer": "ipython3",
   "version": "3.11.4"
  }
 },
 "nbformat": 4,
 "nbformat_minor": 2
}
