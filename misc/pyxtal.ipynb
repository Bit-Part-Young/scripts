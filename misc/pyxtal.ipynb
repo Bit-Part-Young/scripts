{
 "cells": [
  {
   "cell_type": "markdown",
   "metadata": {},
   "source": [
    "### PyXtal 结构构建"
   ]
  },
  {
   "cell_type": "code",
   "execution_count": 1,
   "metadata": {},
   "outputs": [
    {
     "data": {
      "text/plain": [
       "\n",
       "------Crystal from Build------\n",
       "Dimension: 3\n",
       "Composition: Nb10Nb10Si6\n",
       "Group: P 63/m c m (193)\n",
       "  7.5360,   7.5360,   5.2480,  90.0000,  90.0000, 120.0000, hexagonal\n",
       "Wyckoff sites:\n",
       "\tNb @ [ 0.3333  0.6667  0.0000], WP [4d] Site [3.2]\n",
       "\tNb @ [ 0.2473  0.0000  0.2500], WP [6g] Site [m2m]\n",
       "\tSi @ [ 0.6063  0.0000  0.2500], WP [6g] Site [m2m]"
      ]
     },
     "execution_count": 1,
     "metadata": {},
     "output_type": "execute_result"
    }
   ],
   "source": [
    "from pyxtal import pyxtal\n",
    "from pyxtal.lattice import Lattice\n",
    "\n",
    "# gamma Nb5Si3\n",
    "# pyxtal 中显示的 composition 有点问题，实际内容没问题\n",
    "cell = Lattice.from_para(\n",
    "    7.536,\n",
    "    7.536,\n",
    "    5.248,\n",
    "    90,\n",
    "    90,\n",
    "    120,\n",
    "    ltype=\"hexagonal\",\n",
    ")\n",
    "spg = 193\n",
    "elements = [\"Nb\", \"Nb\", \"Si\"]\n",
    "composition = [4, 6, 6]\n",
    "\n",
    "sites = [\n",
    "    [{\"4d\": [0.333, 0.667, 0.0]}],\n",
    "    [{\"6g\": [0.2473, 0.0, 0.25]}],\n",
    "    [{\"6g\": [0.6063, 0.0, 0.25]}],\n",
    "]\n",
    "\n",
    "structure = pyxtal()\n",
    "structure.build(\n",
    "    group=spg,\n",
    "    species=elements,\n",
    "    numIons=composition,\n",
    "    lattice=cell,\n",
    "    sites=sites,\n",
    ")\n",
    "\n",
    "structure"
   ]
  },
  {
   "cell_type": "code",
   "execution_count": 2,
   "metadata": {},
   "outputs": [
    {
     "data": {
      "text/plain": [
       "Structure Summary\n",
       "Lattice\n",
       "    abc : 7.536 7.536 5.248\n",
       " angles : 90.0 90.0 119.99999999999999\n",
       " volume : 258.1108361015686\n",
       "      A : 6.526367442919531 -3.767999999999998 4.614469139187227e-16\n",
       "      B : 0.0 7.536 4.614469139187227e-16\n",
       "      C : 0.0 0.0 5.248\n",
       "    pbc : True True True\n",
       "PeriodicSite: Nb (2.175, 3.768, 4.614e-16) [0.3333, 0.6667, -4.613e-33]\n",
       "PeriodicSite: Nb (4.351, 6.265e-16, 2.624) [0.6667, 0.3333, 0.5]\n",
       "PeriodicSite: Nb (4.351, 6.265e-16, 4.614e-16) [0.6667, 0.3333, -4.613e-33]\n",
       "PeriodicSite: Nb (2.175, 3.768, 2.624) [0.3333, 0.6667, 0.5]\n",
       "PeriodicSite: Nb (1.614, -0.9318, 1.312) [0.2473, 3.832e-18, 0.25]\n",
       "PeriodicSite: Nb (0.0, 1.864, 1.312) [0.0, 0.2473, 0.25]\n",
       "PeriodicSite: Nb (-1.614, -0.9318, 1.312) [-0.2473, -0.2473, 0.25]\n",
       "PeriodicSite: Nb (-1.614, 0.9318, 3.936) [-0.2473, -3.832e-18, 0.75]\n",
       "PeriodicSite: Nb (0.0, -1.864, 3.936) [0.0, -0.2473, 0.75]\n",
       "PeriodicSite: Nb (1.614, 0.9318, 3.936) [0.2473, 0.2473, 0.75]\n",
       "PeriodicSite: Si (3.957, -2.285, 1.312) [0.6063, -8e-18, 0.25]\n",
       "PeriodicSite: Si (0.0, 4.569, 1.312) [0.0, 0.6063, 0.25]\n",
       "PeriodicSite: Si (-3.957, -2.285, 1.312) [-0.6063, -0.6063, 0.25]\n",
       "PeriodicSite: Si (-3.957, 2.285, 3.936) [-0.6063, 8e-18, 0.75]\n",
       "PeriodicSite: Si (0.0, -4.569, 3.936) [0.0, -0.6063, 0.75]\n",
       "PeriodicSite: Si (3.957, 2.285, 3.936) [0.6063, 0.6063, 0.75]"
      ]
     },
     "execution_count": 2,
     "metadata": {},
     "output_type": "execute_result"
    }
   ],
   "source": [
    "structure_pmg = structure.to_pymatgen()\n",
    "structure_pmg"
   ]
  },
  {
   "cell_type": "code",
   "execution_count": 3,
   "metadata": {},
   "outputs": [
    {
     "data": {
      "text/plain": [
       "Atoms(symbols='Si6Nb10', pbc=True, cell=[[6.526367442919531, -3.767999999999998, 4.614469139187227e-16], [0.0, 7.536, 4.614469139187227e-16], [0.0, 0.0, 5.248]])"
      ]
     },
     "execution_count": 3,
     "metadata": {},
     "output_type": "execute_result"
    }
   ],
   "source": [
    "structure_ase = structure.to_ase()\n",
    "structure_ase"
   ]
  },
  {
   "cell_type": "code",
   "execution_count": 4,
   "metadata": {},
   "outputs": [
    {
     "data": {
      "text/plain": [
       "'Nb10 Si6\\n1.0\\n   6.5263674429195309   -3.7679999999999980    0.0000000000000005\\n   0.0000000000000000    7.5359999999999996    0.0000000000000005\\n   0.0000000000000000    0.0000000000000000    5.2480000000000002\\nNb Si\\n10 6\\ndirect\\n   0.3333333333333333    0.6666666666666666   -0.0000000000000000 Nb\\n   0.6666666666666666    0.3333333333333333    0.5000000000000000 Nb\\n   0.6666666666666666    0.3333333333333333   -0.0000000000000000 Nb\\n   0.3333333333333333    0.6666666666666666    0.5000000000000000 Nb\\n   0.2472999999999992    0.0000000000000000    0.2500000000000001 Nb\\n   0.0000000000000000    0.2472999999999992    0.2500000000000001 Nb\\n  -0.2472999999999992   -0.2472999999999992    0.2500000000000000 Nb\\n  -0.2472999999999992   -0.0000000000000000    0.7500000000000000 Nb\\n   0.0000000000000000   -0.2472999999999992    0.7500000000000000 Nb\\n   0.2472999999999992    0.2472999999999992    0.7500000000000000 Nb\\n   0.6063000000000009   -0.0000000000000000    0.2500000000000000 Si\\n   0.0000000000000000    0.6063000000000008    0.2500000000000000 Si\\n  -0.6063000000000009   -0.6063000000000009    0.2500000000000000 Si\\n  -0.6063000000000009    0.0000000000000000    0.7500000000000000 Si\\n   0.0000000000000000   -0.6063000000000008    0.7500000000000000 Si\\n   0.6063000000000009    0.6063000000000009    0.7500000000000001 Si\\n'"
      ]
     },
     "execution_count": 4,
     "metadata": {},
     "output_type": "execute_result"
    }
   ],
   "source": [
    "structure_fn = \"Nb5Si3_gamma.vasp\"\n",
    "structure.to_file(structure_fn, fmt=\"poscar\")"
   ]
  },
  {
   "cell_type": "markdown",
   "metadata": {},
   "source": [
    "hcp Mg PyXtal 构建，不会随 wyckoff site 的变化而变化"
   ]
  },
  {
   "cell_type": "code",
   "execution_count": 7,
   "metadata": {},
   "outputs": [
    {
     "data": {
      "text/plain": [
       "\n",
       "------Crystal from Build------\n",
       "Dimension: 3\n",
       "Composition: Mg2\n",
       "Group: P 63/m m c (194)\n",
       "  3.2400,   3.2400,   5.1700,  90.0000,  90.0000, 120.0000, hexagonal\n",
       "Wyckoff sites:\n",
       "\tMg @ [ 0.3333  0.6667  0.2500], WP [2c] Site [-6m2]"
      ]
     },
     "execution_count": 7,
     "metadata": {},
     "output_type": "execute_result"
    }
   ],
   "source": [
    "from pyxtal import pyxtal\n",
    "from pyxtal.lattice import Lattice\n",
    "\n",
    "\n",
    "# hcp Mg\n",
    "cell = Lattice.from_para(3.24, 3.24, 5.17, 90, 90, 120, ltype=\"hexagonal\")\n",
    "spg = 194\n",
    "elements = [\"Mg\"]\n",
    "composition = [2]\n",
    "\n",
    "sites = [\n",
    "    # [{\"2c\": [1 / 3, 2 / 3, 0.25]}],\n",
    "    [{\"2c\": [0.0, 0.0, 0.0]}],\n",
    "]\n",
    "\n",
    "s = pyxtal()\n",
    "s.build(\n",
    "    group=spg,\n",
    "    species=elements,\n",
    "    numIons=composition,\n",
    "    lattice=cell,\n",
    "    sites=sites,\n",
    ")\n",
    "s"
   ]
  }
 ],
 "metadata": {
  "kernelspec": {
   "display_name": "Python 3",
   "language": "python",
   "name": "python3"
  },
  "language_info": {
   "codemirror_mode": {
    "name": "ipython",
    "version": 3
   },
   "file_extension": ".py",
   "mimetype": "text/x-python",
   "name": "python",
   "nbconvert_exporter": "python",
   "pygments_lexer": "ipython3",
   "version": "3.11.4"
  },
  "orig_nbformat": 4
 },
 "nbformat": 4,
 "nbformat_minor": 2
}
