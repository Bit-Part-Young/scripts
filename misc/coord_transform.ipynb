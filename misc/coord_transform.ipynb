{
 "cells": [
  {
   "cell_type": "code",
   "execution_count": 1,
   "metadata": {},
   "outputs": [],
   "source": [
    "\"\"\"分数坐标与直角坐标互相转换\"\"\"\n",
    "\n",
    "import numpy as np\n",
    "\n",
    "basis_vectors = np.array(\n",
    "    [\n",
    "        [10.224, 0.000, 0.000],\n",
    "        [0.000, 10.224, 0.000],\n",
    "        [0.000, 0.000, 5.189],\n",
    "    ]\n",
    ")\n",
    "inv_matrix = np.linalg.inv(basis_vectors)\n",
    "\n",
    "atoms_pos = np.array(\n",
    "    [\n",
    "        [0.1653, 0.6525, 0.7185],\n",
    "        [0.3347, 0.8475, 0.7185],\n",
    "        [0.3475, 0.6653, 0.2185],\n",
    "    ]\n",
    ")"
   ]
  },
  {
   "cell_type": "code",
   "execution_count": 2,
   "metadata": {},
   "outputs": [
    {
     "data": {
      "text/plain": [
       "array([[1.6900272, 6.67116  , 3.7282965],\n",
       "       [3.4219728, 8.66484  , 3.7282965],\n",
       "       [3.55284  , 6.8020272, 1.1337965]])"
      ]
     },
     "execution_count": 2,
     "metadata": {},
     "output_type": "execute_result"
    }
   ],
   "source": [
    "# references: https://github.com/materialsproject/pymatgen/blob/v2024.3.1/pymatgen/core/lattice.py\n",
    "cartesian: np.ndarray = np.dot(atoms_pos, basis_vectors)\n",
    "cartesian"
   ]
  },
  {
   "cell_type": "code",
   "execution_count": 3,
   "metadata": {},
   "outputs": [
    {
     "data": {
      "text/plain": [
       "array([[0.1653, 0.6525, 0.7185],\n",
       "       [0.3347, 0.8475, 0.7185],\n",
       "       [0.3475, 0.6653, 0.2185]])"
      ]
     },
     "execution_count": 3,
     "metadata": {},
     "output_type": "execute_result"
    }
   ],
   "source": [
    "direct: np.ndarray = np.dot(cartesian, inv_matrix)\n",
    "direct"
   ]
  }
 ],
 "metadata": {
  "kernelspec": {
   "display_name": "base_ysl",
   "language": "python",
   "name": "python3"
  },
  "language_info": {
   "codemirror_mode": {
    "name": "ipython",
    "version": 3
   },
   "file_extension": ".py",
   "mimetype": "text/x-python",
   "name": "python",
   "nbconvert_exporter": "python",
   "pygments_lexer": "ipython3",
   "version": "3.11.5"
  }
 },
 "nbformat": 4,
 "nbformat_minor": 2
}
