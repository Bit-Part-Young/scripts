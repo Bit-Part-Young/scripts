{
 "cells": [
  {
   "cell_type": "code",
   "execution_count": 1,
   "metadata": {},
   "outputs": [],
   "source": [
    "\"\"\"六方结构三、四指数坐标互相转换\"\"\"\n",
    "\n",
    "import numpy as np\n",
    "\n",
    "\n",
    "def four2three_index(four_index: np.ndarray) -> np.ndarray:\n",
    "    \"\"\"将四指数坐标转换为三指数坐标\"\"\"\n",
    "\n",
    "    matrix = np.array(\n",
    "        [[1.0, -1.0, 0.0, 0.0], [0.0, -1.0, 1.0, 0.0], [0.0, 0.0, 0.0, 1.0]]\n",
    "    )\n",
    "\n",
    "    three_index = matrix @ four_index.T\n",
    "\n",
    "    return three_index\n",
    "\n",
    "\n",
    "def three2four_index(three_index: np.ndarray) -> np.ndarray:\n",
    "    \"\"\"将三指数坐标转换为四指数坐标\"\"\"\n",
    "\n",
    "    matrix = (\n",
    "        np.array(\n",
    "            [[2.0, -1.0, 0.0], [-1.0, 2.0, 0.0], [-1.0, -1.0, 0.0], [0.0, 0.0, 3.0]]\n",
    "        )\n",
    "        / 3\n",
    "    )\n",
    "\n",
    "    four_index = matrix @ three_index.T\n",
    "    four_index = np.round(four_index * 3, 1)\n",
    "\n",
    "    return four_index"
   ]
  },
  {
   "cell_type": "code",
   "execution_count": 2,
   "metadata": {},
   "outputs": [
    {
     "data": {
      "text/plain": [
       "array([ 1., -1.,  1.])"
      ]
     },
     "execution_count": 2,
     "metadata": {},
     "output_type": "execute_result"
    }
   ],
   "source": [
    "four_index = np.array([1, 0, -1, 1])\n",
    "four2three_index(four_index)"
   ]
  },
  {
   "cell_type": "code",
   "execution_count": 6,
   "metadata": {},
   "outputs": [
    {
     "data": {
      "text/plain": [
       "array([ 0., -3.,  0.])"
      ]
     },
     "execution_count": 6,
     "metadata": {},
     "output_type": "execute_result"
    }
   ],
   "source": [
    "four_index = np.array([1, 1, -2, 0])\n",
    "four2three_index(four_index)"
   ]
  },
  {
   "cell_type": "code",
   "execution_count": 4,
   "metadata": {},
   "outputs": [
    {
     "data": {
      "text/plain": [
       "array([-1.,  2., -1.,  3.])"
      ]
     },
     "execution_count": 4,
     "metadata": {},
     "output_type": "execute_result"
    }
   ],
   "source": [
    "three_index = np.array([0, 1, 1])\n",
    "three2four_index(three_index)"
   ]
  },
  {
   "cell_type": "code",
   "execution_count": 5,
   "metadata": {},
   "outputs": [
    {
     "data": {
      "text/plain": [
       "array([ 1.,  1., -2.,  0.])"
      ]
     },
     "execution_count": 5,
     "metadata": {},
     "output_type": "execute_result"
    }
   ],
   "source": [
    "three_index = np.array([1, 1, 0])\n",
    "three2four_index(three_index)"
   ]
  }
 ],
 "metadata": {
  "kernelspec": {
   "display_name": "base_ysl",
   "language": "python",
   "name": "python3"
  },
  "language_info": {
   "codemirror_mode": {
    "name": "ipython",
    "version": 3
   },
   "file_extension": ".py",
   "mimetype": "text/x-python",
   "name": "python",
   "nbconvert_exporter": "python",
   "pygments_lexer": "ipython3",
   "version": "3.11.5"
  }
 },
 "nbformat": 4,
 "nbformat_minor": 2
}
