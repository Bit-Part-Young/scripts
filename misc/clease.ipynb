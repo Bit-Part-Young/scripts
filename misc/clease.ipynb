{
 "cells": [
  {
   "cell_type": "code",
   "execution_count": null,
   "metadata": {},
   "outputs": [],
   "source": [
    "from clease.structgen import NewStructures\n",
    "from clease.settings import CEBulk, Concentration\n",
    "\n",
    "conc = Concentration(basis_elements=[[\"Ti\", \"Al\", \"Nb\", \"Mo\", \"Zr\"]])\n",
    "\n",
    "settings = CEBulk(\n",
    "    concentration=conc,\n",
    "    crystalstructure=\"bcc\",\n",
    "    a=3.31,\n",
    "    db_name=\"clease.db\",\n",
    "    max_cluster_dia=(\n",
    "        8.63179,\n",
    "        5.796069999999999,\n",
    "        4.751329999999999,\n",
    "        4.751329999999999,\n",
    "        4.751329999999999,\n",
    "    ),\n",
    ")"
   ]
  },
  {
   "cell_type": "code",
   "execution_count": null,
   "metadata": {},
   "outputs": [],
   "source": [
    "import os\n",
    "from ase.db import connect\n",
    "from ase.db.row import AtomsRow\n",
    "from ase.calculators.singlepoint import SinglePointCalculator\n",
    "\n",
    "new_structures = NewStructures(settings)\n",
    "\n",
    "chemical_symbols = [\"Ti\", \"Al\", \"Nb\", \"Mo\", \"Zr\"]\n",
    "# chemical_symbols = [\"Ti\", \"Al\", \"Nb\", \"Mo\"]\n",
    "# chemical_symbols = [\"Ti\", \"Al\", \"Mo\", \"Zr\"]\n",
    "system_name = \"\".join(chemical_symbols)\n",
    "\n",
    "home_name = os.path.expanduser(\"~\")\n",
    "db_filepath = f\"scripts/HEI-CE-MC/0-training-data/{system_name}_1_8.db\"\n",
    "if \"mseklt\" in home_name:\n",
    "    db_filepath = os.path.join(home_name, \"yangsl\", db_filepath)\n",
    "else:\n",
    "    db_filepath = os.path.join(home_name, db_filepath)\n",
    "\n",
    "imported_db = connect(db_filepath)\n",
    "for row in imported_db.select(\"nowarning=Yes,structure_id<=ICET-Training-No-02474\"):\n",
    "    row: AtomsRow\n",
    "    energy_total = row.energy_total\n",
    "\n",
    "    atoms = row.toatoms()\n",
    "    final_atoms = atoms.copy()\n",
    "    results = {\"energy\": energy_total}\n",
    "    final_atoms.calc = SinglePointCalculator(atoms, **results)\n",
    "\n",
    "    ini_id = new_structures.insert_structure(\n",
    "        init_struct=atoms, final_struct=final_atoms\n",
    "    )"
   ]
  },
  {
   "cell_type": "code",
   "execution_count": null,
   "metadata": {},
   "outputs": [],
   "source": [
    "from clease import Evaluate\n",
    "\n",
    "eva = Evaluate(settings=settings, scoring_scheme=\"loocv\", nsplits=10)\n",
    "\n",
    "eva.set_fitting_scheme(fitting_scheme=\"lasso\")\n",
    "alpha = eva.plot_CV(alpha_min=1e-6, alpha_max=1.0, num_alpha=50)\n",
    "print(\"the chosen value of alpha is\")\n",
    "print(alpha)\n",
    "\n",
    "# set the alpha value with the one found above, and fit data using lasso regression\n",
    "eva.set_fitting_scheme(fitting_scheme=\"lasso\", alpha=alpha)\n",
    "eva.plot_fit(interactive=False)\n",
    "\n",
    "# plot ECI values\n",
    "eva.plot_ECI()"
   ]
  }
 ],
 "metadata": {
  "language_info": {
   "name": "python"
  }
 },
 "nbformat": 4,
 "nbformat_minor": 2
}
