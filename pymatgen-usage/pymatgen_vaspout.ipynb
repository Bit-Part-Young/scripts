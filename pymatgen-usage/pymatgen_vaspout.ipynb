{
 "cells": [
  {
   "cell_type": "code",
   "execution_count": 1,
   "id": "3603a080",
   "metadata": {},
   "outputs": [
    {
     "name": "stdout",
     "output_type": "stream",
     "text": [
      "<pymatgen.io.vasp.outputs.Vaspout object at 0x106f2aed0>\n"
     ]
    }
   ],
   "source": [
    "from pymatgen.io.vasp.outputs import Vaspout, Vasprun\n",
    "\n",
    "vaspout = Vaspout(\"vaspout.h5\")\n",
    "print(vaspout)"
   ]
  },
  {
   "cell_type": "code",
   "execution_count": 2,
   "id": "7796f7a4",
   "metadata": {},
   "outputs": [
    {
     "data": {
      "text/plain": [
       "True"
      ]
     },
     "execution_count": 2,
     "metadata": {},
     "output_type": "execute_result"
    }
   ],
   "source": [
    "vaspout.converged"
   ]
  },
  {
   "cell_type": "code",
   "execution_count": 3,
   "id": "40885cbf",
   "metadata": {},
   "outputs": [
    {
     "data": {
      "text/plain": [
       "{'ADDGRID': 1, 'ALGO': 'Fast', 'EDIFF': 1e-06, 'ENCUT': 300.0, 'IBRION': -1, 'ICHARG': 2, 'ISIF': 2, 'ISMEAR': 1, 'ISPIN': 1, 'ISTART': 0, 'LCHARG': 1, 'LORBIT': 11, 'LREAL': 'Auto', 'LWAVE': 0, 'NELM': 100, 'NSW': 0, 'PREC': 'Accurate'}"
      ]
     },
     "execution_count": 3,
     "metadata": {},
     "output_type": "execute_result"
    }
   ],
   "source": [
    "vaspout.incar"
   ]
  },
  {
   "cell_type": "code",
   "execution_count": 4,
   "id": "d4eee8dc",
   "metadata": {},
   "outputs": [
    {
     "data": {
      "text/plain": [
       "K-Spacing Value to Generate K-Mesh: 0.04\n",
       "0\n",
       "Gamma\n",
       "5 5 5"
      ]
     },
     "execution_count": 4,
     "metadata": {},
     "output_type": "execute_result"
    }
   ],
   "source": [
    "vaspout.kpoints"
   ]
  },
  {
   "cell_type": "code",
   "execution_count": 5,
   "id": "a4a758dd",
   "metadata": {},
   "outputs": [
    {
     "data": {
      "text/plain": [
       "Structure Summary\n",
       "Lattice\n",
       "    abc : 2.8752043405643364 2.8752043405643364 2.8752043405643364\n",
       " angles : 109.47122063449069 109.47122063449069 109.47122063449069\n",
       " volume : 18.297183999999998\n",
       "      A : np.float64(-1.66) np.float64(1.66) np.float64(1.66)\n",
       "      B : np.float64(1.66) np.float64(-1.66) np.float64(1.66)\n",
       "      C : np.float64(1.66) np.float64(1.66) np.float64(-1.66)\n",
       "    pbc : True True True\n",
       "PeriodicSite: Nb (0.0, 0.0, 0.0) [0.0, 0.0, 0.0]"
      ]
     },
     "execution_count": 5,
     "metadata": {},
     "output_type": "execute_result"
    }
   ],
   "source": [
    "vaspout.initial_structure"
   ]
  },
  {
   "cell_type": "code",
   "execution_count": 6,
   "id": "447be8ef",
   "metadata": {},
   "outputs": [
    {
     "data": {
      "text/plain": [
       "# BCC(001) cell with dimension 1 x 1 x 1\n",
       "1.0\n",
       "  -1.6599999999999999    1.6599999999999999    1.6599999999999999\n",
       "   1.6599999999999999   -1.6599999999999999    1.6599999999999999\n",
       "   1.6599999999999999    1.6599999999999999   -1.6599999999999999\n",
       "Nb\n",
       "1\n",
       "direct\n",
       "   0.0000000000000000    0.0000000000000000    0.0000000000000000 Nb"
      ]
     },
     "execution_count": 6,
     "metadata": {},
     "output_type": "execute_result"
    }
   ],
   "source": [
    "vaspout.poscar"
   ]
  },
  {
   "cell_type": "code",
   "execution_count": 7,
   "id": "d60468ea",
   "metadata": {},
   "outputs": [
    {
     "data": {
      "text/plain": [
       "[PotcarSingle(symbol='Nb_pv', functional='PBE', TITEL='PAW_PBE Nb_pv 08Apr2002', VRHFIN='Nb: 4p5s4d', n_valence_elec=11)]"
      ]
     },
     "execution_count": 7,
     "metadata": {},
     "output_type": "execute_result"
    }
   ],
   "source": [
    "vaspout.potcar"
   ]
  },
  {
   "cell_type": "code",
   "execution_count": 8,
   "id": "83446772",
   "metadata": {},
   "outputs": [
    {
     "data": {
      "text/plain": [
       "'HF+U'"
      ]
     },
     "execution_count": 8,
     "metadata": {},
     "output_type": "execute_result"
    }
   ],
   "source": [
    "vaspout.run_type"
   ]
  },
  {
   "cell_type": "code",
   "execution_count": 9,
   "id": "eb47a797",
   "metadata": {},
   "outputs": [
    {
     "data": {
      "text/plain": [
       "-10.02282552214356"
      ]
     },
     "execution_count": 9,
     "metadata": {},
     "output_type": "execute_result"
    }
   ],
   "source": [
    "vaspout.final_energy"
   ]
  }
 ],
 "metadata": {
  "kernelspec": {
   "display_name": "base_ysl",
   "language": "python",
   "name": "python3"
  },
  "language_info": {
   "codemirror_mode": {
    "name": "ipython",
    "version": 3
   },
   "file_extension": ".py",
   "mimetype": "text/x-python",
   "name": "python",
   "nbconvert_exporter": "python",
   "pygments_lexer": "ipython3",
   "version": "3.11.8"
  }
 },
 "nbformat": 4,
 "nbformat_minor": 5
}
