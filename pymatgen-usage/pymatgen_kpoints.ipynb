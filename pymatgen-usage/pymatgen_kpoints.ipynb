{
 "cells": [
  {
   "cell_type": "code",
   "execution_count": 1,
   "metadata": {},
   "outputs": [
    {
     "data": {
      "text/plain": [
       "Automatic mesh\n",
       "0\n",
       "Gamma\n",
       "10 10 10"
      ]
     },
     "execution_count": 1,
     "metadata": {},
     "output_type": "execute_result"
    }
   ],
   "source": [
    "from pymatgen.io.vasp.inputs import Kpoints\n",
    "\n",
    "kpoints_dict = {\n",
    "    \"nkpoints\": 0,\n",
    "    \"generation_style\": \"Gamma\",\n",
    "    \"kpoints\": [[10, 10, 10]],\n",
    "    \"usershift\": [0, 0, 0],\n",
    "    \"comment\": \"Automatic mesh\",\n",
    "}\n",
    "\n",
    "kpoints = Kpoints.from_dict(kpoints_dict)\n",
    "kpoints"
   ]
  },
  {
   "cell_type": "code",
   "execution_count": 2,
   "metadata": {},
   "outputs": [
    {
     "data": {
      "text/plain": [
       "Default gamma\n",
       "0\n",
       "Gamma\n",
       "10 10 10"
      ]
     },
     "execution_count": 2,
     "metadata": {},
     "output_type": "execute_result"
    }
   ],
   "source": [
    "kpoints = Kpoints(kpts=[(10, 10, 10)])\n",
    "kpoints"
   ]
  },
  {
   "cell_type": "code",
   "execution_count": 3,
   "metadata": {},
   "outputs": [
    {
     "name": "stderr",
     "output_type": "stream",
     "text": [
      "/tmp/ipykernel_702053/2746976895.py:1: DeprecationWarning: Please use INCAR KSPACING tag.\n",
      "  kpoints = Kpoints.automatic(50)\n"
     ]
    },
    {
     "data": {
      "text/plain": [
       "Fully automatic kpoint scheme\n",
       "0\n",
       "Automatic\n",
       "50"
      ]
     },
     "execution_count": 3,
     "metadata": {},
     "output_type": "execute_result"
    }
   ],
   "source": [
    "kpoints = Kpoints.automatic(50)\n",
    "kpoints"
   ]
  },
  {
   "cell_type": "code",
   "execution_count": 4,
   "metadata": {},
   "outputs": [],
   "source": [
    "from pymatgen.core.structure import Structure\n",
    "\n",
    "structure_fn = \"Nb5Si3_alpha.vasp\"\n",
    "structure = Structure.from_file(structure_fn)"
   ]
  },
  {
   "cell_type": "code",
   "execution_count": 5,
   "metadata": {},
   "outputs": [
    {
     "data": {
      "text/plain": [
       "pymatgen with grid density = 1000 / number of atoms\n",
       "0\n",
       "Gamma\n",
       "3 3 2"
      ]
     },
     "execution_count": 5,
     "metadata": {},
     "output_type": "execute_result"
    }
   ],
   "source": [
    "kpoints = Kpoints.automatic_density(\n",
    "    structure,\n",
    "    kppa=1000,\n",
    ")\n",
    "kpoints"
   ]
  },
  {
   "cell_type": "code",
   "execution_count": 18,
   "metadata": {},
   "outputs": [
    {
     "data": {
      "text/plain": [
       "pymatgen with grid density = 1000 / number of atoms\n",
       "0\n",
       "Gamma\n",
       "4 4 2"
      ]
     },
     "execution_count": 18,
     "metadata": {},
     "output_type": "execute_result"
    }
   ],
   "source": [
    "kpoints = Kpoints.automatic_gamma_density(\n",
    "    structure,\n",
    "    kppa=1000,\n",
    ")\n",
    "kpoints"
   ]
  },
  {
   "cell_type": "code",
   "execution_count": 10,
   "metadata": {},
   "outputs": [
    {
     "data": {
      "text/plain": [
       "pymatgen with grid density = 991 / number of atoms\n",
       "0\n",
       "Gamma\n",
       "3 3 2"
      ]
     },
     "execution_count": 10,
     "metadata": {},
     "output_type": "execute_result"
    }
   ],
   "source": [
    "kpoints = Kpoints.automatic_density_by_vol(\n",
    "    structure,\n",
    "    kppvol=64,\n",
    "    force_gamma=True,\n",
    ")\n",
    "kpoints"
   ]
  },
  {
   "cell_type": "code",
   "execution_count": 14,
   "metadata": {},
   "outputs": [
    {
     "data": {
      "text/plain": [
       "k-point density of [30, 30, 30]/[a, b, c]\n",
       "0\n",
       "Gamma\n",
       "5 5 3"
      ]
     },
     "execution_count": 14,
     "metadata": {},
     "output_type": "execute_result"
    }
   ],
   "source": [
    "kpoints = Kpoints.automatic_density_by_lengths(\n",
    "    structure,\n",
    "    length_densities=[30, 30, 30],\n",
    "    force_gamma=True,\n",
    ")\n",
    "kpoints"
   ]
  },
  {
   "cell_type": "code",
   "execution_count": 15,
   "metadata": {},
   "outputs": [
    {
     "data": {
      "text/plain": [
       "Automatic kpoint scheme\n",
       "0\n",
       "Gamma\n",
       "10 10 10"
      ]
     },
     "execution_count": 15,
     "metadata": {},
     "output_type": "execute_result"
    }
   ],
   "source": [
    "kpoints = Kpoints.gamma_automatic(kpts=(10, 10, 10))\n",
    "kpoints"
   ]
  },
  {
   "cell_type": "code",
   "execution_count": 16,
   "metadata": {},
   "outputs": [
    {
     "data": {
      "text/plain": [
       "Automatic kpoint scheme\n",
       "0\n",
       "Monkhorst\n",
       "10 10 10"
      ]
     },
     "execution_count": 16,
     "metadata": {},
     "output_type": "execute_result"
    }
   ],
   "source": [
    "kpoints = Kpoints.monkhorst_automatic(kpts=(10, 10, 10))\n",
    "kpoints"
   ]
  },
  {
   "cell_type": "code",
   "execution_count": 2,
   "metadata": {},
   "outputs": [
    {
     "data": {
      "text/plain": [
       "k-point density of [20, 20, 20]/[a, b, c]\n",
       "0\n",
       "Gamma\n",
       "4 4 2"
      ]
     },
     "execution_count": 2,
     "metadata": {},
     "output_type": "execute_result"
    }
   ],
   "source": [
    "from pymatgen.core.structure import Structure\n",
    "from pymatgen.io.vasp.inputs import Kpoints\n",
    "\n",
    "structure = Structure.from_file(\"Nb5Si3_alpha.vasp\")\n",
    "kpoints_length = Kpoints.automatic_density_by_lengths(\n",
    "    structure=structure,\n",
    "    length_densities=[20, 20, 20],\n",
    "    force_gamma=True,\n",
    ")\n",
    "kpoints_length"
   ]
  },
  {
   "cell_type": "code",
   "execution_count": 4,
   "metadata": {},
   "outputs": [
    {
     "data": {
      "text/plain": [
       "k-point density of [20, 20, 20]/[a, b, c]\n",
       "0\n",
       "Gamma\n",
       "4 4 2"
      ]
     },
     "execution_count": 4,
     "metadata": {},
     "output_type": "execute_result"
    }
   ],
   "source": [
    "Kpoints.from_file(\"KPOINTS\")"
   ]
  },
  {
   "cell_type": "code",
   "execution_count": 3,
   "metadata": {},
   "outputs": [
    {
     "data": {
      "text/plain": [
       "{'@module': 'pymatgen.io.vasp.inputs',\n",
       " '@class': 'Kpoints',\n",
       " 'comment': 'k-point density of [20, 20, 20]/[a, b, c]',\n",
       " 'nkpoints': 0,\n",
       " 'generation_style': 'Gamma',\n",
       " 'kpoints': [(4, 4, 2)],\n",
       " 'usershift': (0, 0, 0),\n",
       " 'kpts_weights': None,\n",
       " 'coord_type': None,\n",
       " 'labels': None,\n",
       " 'tet_number': 0,\n",
       " 'tet_weight': 0,\n",
       " 'tet_connections': None}"
      ]
     },
     "execution_count": 3,
     "metadata": {},
     "output_type": "execute_result"
    }
   ],
   "source": [
    "Kpoints.from_file(\"KPOINTS\")"
   ]
  }
 ],
 "metadata": {
  "kernelspec": {
   "display_name": "base_ysl",
   "language": "python",
   "name": "python3"
  },
  "language_info": {
   "codemirror_mode": {
    "name": "ipython",
    "version": 3
   },
   "file_extension": ".py",
   "mimetype": "text/x-python",
   "name": "python",
   "nbconvert_exporter": "python",
   "pygments_lexer": "ipython3",
   "version": "3.11.4"
  }
 },
 "nbformat": 4,
 "nbformat_minor": 2
}
