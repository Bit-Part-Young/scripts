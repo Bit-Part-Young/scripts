{
 "cells": [
  {
   "cell_type": "code",
   "execution_count": 1,
   "metadata": {},
   "outputs": [
    {
     "data": {
      "text/plain": [
       "Automatic mesh\n",
       "0\n",
       "Gamma\n",
       "10 10 10"
      ]
     },
     "execution_count": 1,
     "metadata": {},
     "output_type": "execute_result"
    }
   ],
   "source": [
    "from pymatgen.io.vasp.inputs import Kpoints\n",
    "\n",
    "kpoints_update_dict = {\n",
    "    \"nkpoints\": 0,\n",
    "    \"generation_style\": \"Gamma\",\n",
    "    \"kpoints\": [[10, 10, 10]],\n",
    "    \"usershift\": [0, 0, 0],\n",
    "    \"comment\": \"Automatic mesh\",\n",
    "}\n",
    "\n",
    "kpoints = Kpoints.from_dict(kpoints_update_dict)\n",
    "kpoints"
   ]
  },
  {
   "cell_type": "code",
   "execution_count": null,
   "metadata": {},
   "outputs": [],
   "source": [
    "Kpoints.from_file(\"KPOINTS\").as_dict()"
   ]
  }
 ],
 "metadata": {
  "kernelspec": {
   "display_name": "base_ysl",
   "language": "python",
   "name": "python3"
  },
  "language_info": {
   "codemirror_mode": {
    "name": "ipython",
    "version": 3
   },
   "file_extension": ".py",
   "mimetype": "text/x-python",
   "name": "python",
   "nbconvert_exporter": "python",
   "pygments_lexer": "ipython3",
   "version": "3.11.4"
  }
 },
 "nbformat": 4,
 "nbformat_minor": 2
}
