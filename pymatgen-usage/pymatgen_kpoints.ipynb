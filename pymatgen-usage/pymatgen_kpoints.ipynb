{
 "cells": [
  {
   "cell_type": "code",
   "execution_count": 1,
   "metadata": {},
   "outputs": [
    {
     "data": {
      "text/plain": [
       "Automatic mesh\n",
       "0\n",
       "Gamma\n",
       "10 10 10"
      ]
     },
     "execution_count": 1,
     "metadata": {},
     "output_type": "execute_result"
    }
   ],
   "source": [
    "from pymatgen.io.vasp.inputs import Kpoints\n",
    "\n",
    "kpoints_dict = {\n",
    "    \"nkpoints\": 0,\n",
    "    \"generation_style\": \"Gamma\",\n",
    "    \"kpoints\": [[10, 10, 10]],\n",
    "    \"usershift\": [0, 0, 0],\n",
    "    \"comment\": \"Automatic mesh\",\n",
    "}\n",
    "\n",
    "kpoints = Kpoints.from_dict(kpoints_dict)\n",
    "kpoints"
   ]
  },
  {
   "cell_type": "code",
   "execution_count": 2,
   "metadata": {},
   "outputs": [
    {
     "data": {
      "text/plain": [
       "k-point density of [20, 20, 20]/[a, b, c]\n",
       "0\n",
       "Gamma\n",
       "4 4 2"
      ]
     },
     "execution_count": 2,
     "metadata": {},
     "output_type": "execute_result"
    }
   ],
   "source": [
    "from pymatgen.core.structure import Structure\n",
    "from pymatgen.io.vasp.inputs import Kpoints\n",
    "\n",
    "structure = Structure.from_file(\"Nb5Si3_alpha.vasp\")\n",
    "kpoints_length = Kpoints.automatic_density_by_lengths(\n",
    "    structure=structure,\n",
    "    length_densities=[20, 20, 20],\n",
    "    force_gamma=True,\n",
    ")\n",
    "kpoints_length"
   ]
  },
  {
   "cell_type": "code",
   "execution_count": 4,
   "metadata": {},
   "outputs": [
    {
     "data": {
      "text/plain": [
       "k-point density of [20, 20, 20]/[a, b, c]\n",
       "0\n",
       "Gamma\n",
       "4 4 2"
      ]
     },
     "execution_count": 4,
     "metadata": {},
     "output_type": "execute_result"
    }
   ],
   "source": [
    "Kpoints.from_file(\"KPOINTS\")"
   ]
  },
  {
   "cell_type": "code",
   "execution_count": 3,
   "metadata": {},
   "outputs": [
    {
     "data": {
      "text/plain": [
       "{'@module': 'pymatgen.io.vasp.inputs',\n",
       " '@class': 'Kpoints',\n",
       " 'comment': 'k-point density of [20, 20, 20]/[a, b, c]',\n",
       " 'nkpoints': 0,\n",
       " 'generation_style': 'Gamma',\n",
       " 'kpoints': [(4, 4, 2)],\n",
       " 'usershift': (0, 0, 0),\n",
       " 'kpts_weights': None,\n",
       " 'coord_type': None,\n",
       " 'labels': None,\n",
       " 'tet_number': 0,\n",
       " 'tet_weight': 0,\n",
       " 'tet_connections': None}"
      ]
     },
     "execution_count": 3,
     "metadata": {},
     "output_type": "execute_result"
    }
   ],
   "source": [
    "Kpoints.from_file(\"KPOINTS\").as_dict()"
   ]
  }
 ],
 "metadata": {
  "kernelspec": {
   "display_name": "base_ysl",
   "language": "python",
   "name": "python3"
  },
  "language_info": {
   "codemirror_mode": {
    "name": "ipython",
    "version": 3
   },
   "file_extension": ".py",
   "mimetype": "text/x-python",
   "name": "python",
   "nbconvert_exporter": "python",
   "pygments_lexer": "ipython3",
   "version": "3.11.8"
  }
 },
 "nbformat": 4,
 "nbformat_minor": 2
}
