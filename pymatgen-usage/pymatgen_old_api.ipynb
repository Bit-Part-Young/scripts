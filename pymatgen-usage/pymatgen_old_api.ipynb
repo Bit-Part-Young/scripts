{
 "cells": [
  {
   "cell_type": "code",
   "execution_count": null,
   "metadata": {},
   "outputs": [],
   "source": [
    "from pymatgen.ext.matproj import MPRester as mpr\n",
    "\n",
    "with mpr(\"your-api-key\") as m:\n",
    "    data = m.get_data(chemsys_formula_id=\"mp-149\")"
   ]
  },
  {
   "cell_type": "code",
   "execution_count": null,
   "metadata": {},
   "outputs": [],
   "source": [
    "data"
   ]
  }
 ],
 "metadata": {
  "language_info": {
   "name": "python"
  }
 },
 "nbformat": 4,
 "nbformat_minor": 2
}
