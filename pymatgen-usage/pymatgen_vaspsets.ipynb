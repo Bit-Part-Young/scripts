{
 "cells": [
  {
   "cell_type": "code",
   "execution_count": 1,
   "metadata": {},
   "outputs": [
    {
     "data": {
      "text/plain": [
       "Structure Summary\n",
       "Lattice\n",
       "    abc : 3.32 3.32 3.32\n",
       " angles : 90.0 90.0 90.0\n",
       " volume : 36.594367999999996\n",
       "      A : 3.32 0.0 0.0\n",
       "      B : 0.0 3.32 0.0\n",
       "      C : 0.0 0.0 3.32\n",
       "    pbc : True True True\n",
       "PeriodicSite: Nb (0.0, 0.0, 0.0) [0.0, 0.0, 0.0]\n",
       "PeriodicSite: Nb (1.66, 1.66, 1.66) [0.5, 0.5, 0.5]"
      ]
     },
     "execution_count": 1,
     "metadata": {},
     "output_type": "execute_result"
    }
   ],
   "source": [
    "from pymatgen.io.vasp.sets import MPRelaxSet, MPMetalRelaxSet, MPStaticSet\n",
    "from pymatgen.core.structure import Structure\n",
    "\n",
    "structure_fn = \"Nb.vasp\"\n",
    "\n",
    "structure = Structure.from_file(structure_fn)\n",
    "structure"
   ]
  },
  {
   "cell_type": "code",
   "execution_count": 2,
   "metadata": {},
   "outputs": [
    {
     "name": "stdout",
     "output_type": "stream",
     "text": [
      "ALGO = Fast\n",
      "EDIFF = 0.0001\n",
      "ENCUT = 520\n",
      "IBRION = 2\n",
      "ISIF = 3\n",
      "ISMEAR = -5\n",
      "ISPIN = 2\n",
      "LASPH = True\n",
      "LMAXMIX = 4\n",
      "LORBIT = 11\n",
      "LREAL = Auto\n",
      "LWAVE = False\n",
      "MAGMOM = 2*0.6\n",
      "NELM = 100\n",
      "NSW = 99\n",
      "PREC = Accurate\n",
      "SIGMA = 0.05\n",
      "\n",
      "pymatgen with grid density = 868 / number of atoms\n",
      "0\n",
      "Gamma\n",
      "7 7 7\n",
      "\n",
      "Nb2\n",
      "1.0\n",
      "   3.3199999999999998    0.0000000000000000    0.0000000000000000\n",
      "   0.0000000000000000    3.3199999999999998    0.0000000000000000\n",
      "   0.0000000000000000    0.0000000000000000    3.3199999999999998\n",
      "Nb\n",
      "2\n",
      "direct\n",
      "   0.0000000000000000    0.0000000000000000    0.0000000000000000 Nb\n",
      "   0.5000000000000000    0.5000000000000000    0.5000000000000000 Nb\n",
      "\n",
      "{'functional': 'PBE', 'symbols': ['Nb_pv'], '@module': 'pymatgen.io.vasp.inputs', '@class': 'Potcar'}\n"
     ]
    },
    {
     "name": "stderr",
     "output_type": "stream",
     "text": [
      "/home/yangsl/src/miniconda3/envs/base_ysl/lib/python3.11/site-packages/pymatgen/io/vasp/sets.py:710: BadInputSetWarning: Relaxation of likely metal with ISMEAR < 0 (-5). See VASP recommendations on ISMEAR for metals (https://www.vasp.at/wiki/index.php/ISMEAR).\n",
      "  warnings.warn(\n",
      "/home/yangsl/src/miniconda3/envs/base_ysl/lib/python3.11/site-packages/pymatgen/io/vasp/sets.py:908: BadInputSetWarning: POTCAR data with symbol Nb_pv is not known by pymatgen to correspond with the selected user_potcar_functional='PBE'. This POTCAR is known to correspond with functionals ['PBE_52', 'PBE_54']. Please verify that you are using the right POTCARs!\n",
      "  warnings.warn(\n"
     ]
    }
   ],
   "source": [
    "relax_set = MPRelaxSet(structure=structure)\n",
    "print(relax_set.incar)\n",
    "print(relax_set.kpoints)\n",
    "print(relax_set.poscar)\n",
    "print(relax_set.potcar.as_dict())"
   ]
  },
  {
   "cell_type": "code",
   "execution_count": 3,
   "metadata": {},
   "outputs": [
    {
     "name": "stdout",
     "output_type": "stream",
     "text": [
      "ALGO = Fast\n",
      "EDIFF = 0.0001\n",
      "ENCUT = 520\n",
      "ISMEAR = -5\n",
      "ISPIN = 2\n",
      "LASPH = True\n",
      "LCHARG = True\n",
      "LMAXMIX = 4\n",
      "LORBIT = 11\n",
      "LREAL = False\n",
      "LWAVE = False\n",
      "MAGMOM = 2*0.6\n",
      "NELM = 100\n",
      "NSW = 0\n",
      "PREC = Accurate\n",
      "SIGMA = 0.05\n",
      "\n",
      "pymatgen with grid density = 1356 / number of atoms\n",
      "0\n",
      "Monkhorst\n",
      "8 8 8\n",
      "\n",
      "Nb2\n",
      "1.0\n",
      "   3.3199999999999998    0.0000000000000000    0.0000000000000000\n",
      "   0.0000000000000000    3.3199999999999998    0.0000000000000000\n",
      "   0.0000000000000000    0.0000000000000000    3.3199999999999998\n",
      "Nb\n",
      "2\n",
      "direct\n",
      "   0.0000000000000000    0.0000000000000000    0.0000000000000000 Nb\n",
      "   0.5000000000000000    0.5000000000000000    0.5000000000000000 Nb\n",
      "\n",
      "{'functional': 'PBE', 'symbols': ['Nb_pv'], '@module': 'pymatgen.io.vasp.inputs', '@class': 'Potcar'}\n"
     ]
    }
   ],
   "source": [
    "static_set = MPStaticSet(structure=structure)\n",
    "print(static_set.incar)\n",
    "print(static_set.kpoints)\n",
    "print(static_set.poscar)\n",
    "print(static_set.potcar.as_dict())"
   ]
  },
  {
   "cell_type": "code",
   "execution_count": 4,
   "metadata": {},
   "outputs": [
    {
     "name": "stdout",
     "output_type": "stream",
     "text": [
      "ALGO = Fast\n",
      "EDIFF = 0.0001\n",
      "ENCUT = 520\n",
      "IBRION = 2\n",
      "ISIF = 3\n",
      "ISMEAR = 1\n",
      "ISPIN = 2\n",
      "LASPH = True\n",
      "LMAXMIX = 4\n",
      "LORBIT = 11\n",
      "LREAL = Auto\n",
      "LWAVE = False\n",
      "MAGMOM = 2*0.6\n",
      "NELM = 100\n",
      "NSW = 99\n",
      "PREC = Accurate\n",
      "SIGMA = 0.2\n",
      "\n",
      "pymatgen with grid density = 2711 / number of atoms\n",
      "0\n",
      "Gamma\n",
      "11 11 11\n",
      "\n",
      "Nb2\n",
      "1.0\n",
      "   3.3199999999999998    0.0000000000000000    0.0000000000000000\n",
      "   0.0000000000000000    3.3199999999999998    0.0000000000000000\n",
      "   0.0000000000000000    0.0000000000000000    3.3199999999999998\n",
      "Nb\n",
      "2\n",
      "direct\n",
      "   0.0000000000000000    0.0000000000000000    0.0000000000000000 Nb\n",
      "   0.5000000000000000    0.5000000000000000    0.5000000000000000 Nb\n",
      "\n",
      "{'functional': 'PBE', 'symbols': ['Nb_pv'], '@module': 'pymatgen.io.vasp.inputs', '@class': 'Potcar'}\n"
     ]
    }
   ],
   "source": [
    "merelax_set = MPMetalRelaxSet(structure=structure)\n",
    "print(merelax_set.incar)\n",
    "print(merelax_set.kpoints)\n",
    "print(merelax_set.poscar)\n",
    "print(merelax_set.potcar.as_dict())"
   ]
  }
 ],
 "metadata": {
  "kernelspec": {
   "display_name": "base_ysl",
   "language": "python",
   "name": "python3"
  },
  "language_info": {
   "codemirror_mode": {
    "name": "ipython",
    "version": 3
   },
   "file_extension": ".py",
   "mimetype": "text/x-python",
   "name": "python",
   "nbconvert_exporter": "python",
   "pygments_lexer": "ipython3",
   "version": "3.11.4"
  }
 },
 "nbformat": 4,
 "nbformat_minor": 2
}
