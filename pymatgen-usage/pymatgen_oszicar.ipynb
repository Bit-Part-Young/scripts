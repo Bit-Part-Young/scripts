{
 "cells": [
  {
   "cell_type": "markdown",
   "metadata": {},
   "source": [
    "### pymatgen Oszicar 类"
   ]
  },
  {
   "cell_type": "code",
   "execution_count": 1,
   "metadata": {},
   "outputs": [],
   "source": [
    "from pymatgen.io.vasp.outputs import Oszicar\n",
    "\n",
    "oszicar = Oszicar(\"OSZICAR\")"
   ]
  },
  {
   "cell_type": "code",
   "execution_count": 2,
   "metadata": {},
   "outputs": [
    {
     "data": {
      "text/plain": [
       "[{'F': -10.066109, 'E0': -10.061435, 'dE': -10.0661},\n",
       " {'F': -10.06606, 'E0': -10.061423, 'dE': 4.87908e-05},\n",
       " {'F': -10.066126, 'E0': -10.061464, 'dE': -6.57801e-05}]"
      ]
     },
     "execution_count": 2,
     "metadata": {},
     "output_type": "execute_result"
    }
   ],
   "source": [
    "oszicar.ionic_steps"
   ]
  },
  {
   "cell_type": "code",
   "execution_count": 3,
   "metadata": {},
   "outputs": [
    {
     "data": {
      "text/plain": [
       "[[{'N': 1,\n",
       "   'E': 13.4390551365,\n",
       "   'dE': 13.439,\n",
       "   'deps': -433.78,\n",
       "   'ncg': 1272,\n",
       "   'rms': 63.1},\n",
       "  {'N': 2,\n",
       "   'E': -10.1839400608,\n",
       "   'dE': -23.623,\n",
       "   'deps': -22.789,\n",
       "   'ncg': 1089,\n",
       "   'rms': 15.4},\n",
       "  {'N': 3,\n",
       "   'E': -10.5962903747,\n",
       "   'dE': -0.41235,\n",
       "   'deps': -0.40459,\n",
       "   'ncg': 1241,\n",
       "   'rms': 2.12},\n",
       "  {'N': 4,\n",
       "   'E': -10.5996777466,\n",
       "   'dE': -0.0033874,\n",
       "   'deps': -0.003382,\n",
       "   'ncg': 1104,\n",
       "   'rms': 0.157},\n",
       "  {'N': 5,\n",
       "   'E': -10.5997080843,\n",
       "   'dE': -3.0338e-05,\n",
       "   'deps': -3.0337e-05,\n",
       "   'ncg': 1138,\n",
       "   'rms': 0.0138,\n",
       "   'rms(c)': 1.93},\n",
       "  {'N': 6,\n",
       "   'E': -10.1713683477,\n",
       "   'dE': 0.42834,\n",
       "   'deps': -0.058342,\n",
       "   'ncg': 1336,\n",
       "   'rms': 0.981,\n",
       "   'rms(c)': 0.923},\n",
       "  {'N': 7,\n",
       "   'E': -10.068611725,\n",
       "   'dE': 0.10276,\n",
       "   'deps': -0.035023,\n",
       "   'ncg': 1332,\n",
       "   'rms': 0.73,\n",
       "   'rms(c)': 0.0743},\n",
       "  {'N': 8,\n",
       "   'E': -10.0662986387,\n",
       "   'dE': 0.0023131,\n",
       "   'deps': -0.00092264,\n",
       "   'ncg': 1025,\n",
       "   'rms': 0.13,\n",
       "   'rms(c)': 0.0159},\n",
       "  {'N': 9,\n",
       "   'E': -10.0661163364,\n",
       "   'dE': 0.0001823,\n",
       "   'deps': -4.7914e-05,\n",
       "   'ncg': 1091,\n",
       "   'rms': 0.0295,\n",
       "   'rms(c)': 0.00155},\n",
       "  {'N': 10,\n",
       "   'E': -10.0661095831,\n",
       "   'dE': 6.7532e-06,\n",
       "   'deps': -4.3549e-07,\n",
       "   'ncg': 1081,\n",
       "   'rms': 0.00244,\n",
       "   'rms(c)': 0.000349},\n",
       "  {'N': 11,\n",
       "   'E': -10.0661090567,\n",
       "   'dE': 5.2637e-07,\n",
       "   'deps': -7.8452e-09,\n",
       "   'ncg': 544,\n",
       "   'rms': 0.000303}],\n",
       " [{'N': 1,\n",
       "   'E': -10.0671167896,\n",
       "   'dE': -0.0010072,\n",
       "   'deps': -0.0026745,\n",
       "   'ncg': 1015,\n",
       "   'rms': 0.23,\n",
       "   'rms(c)': 0.0397},\n",
       "  {'N': 2,\n",
       "   'E': -10.0662210835,\n",
       "   'dE': 0.00089571,\n",
       "   'deps': -0.00015171,\n",
       "   'ncg': 1031,\n",
       "   'rms': 0.0515,\n",
       "   'rms(c)': 0.0108},\n",
       "  {'N': 3,\n",
       "   'E': -10.0660692731,\n",
       "   'dE': 0.00015181,\n",
       "   'deps': -4.9977e-05,\n",
       "   'ncg': 1436,\n",
       "   'rms': 0.0285,\n",
       "   'rms(c)': 0.00487},\n",
       "  {'N': 4,\n",
       "   'E': -10.0660598489,\n",
       "   'dE': 9.4242e-06,\n",
       "   'deps': -1.0669e-06,\n",
       "   'ncg': 1030,\n",
       "   'rms': 0.00262,\n",
       "   'rms(c)': 0.00037},\n",
       "  {'N': 5,\n",
       "   'E': -10.0660602986,\n",
       "   'dE': -4.497e-07,\n",
       "   'deps': -6.949e-08,\n",
       "   'ncg': 553,\n",
       "   'rms': 0.00113,\n",
       "   'rms(c)': 0.000347},\n",
       "  {'N': 6,\n",
       "   'E': -10.0660602659,\n",
       "   'dE': 3.2643e-08,\n",
       "   'deps': -1.1305e-08,\n",
       "   'ncg': 513,\n",
       "   'rms': 0.000432}],\n",
       " [{'N': 1,\n",
       "   'E': -10.0665715094,\n",
       "   'dE': -0.00051121,\n",
       "   'deps': -0.0011259,\n",
       "   'ncg': 1009,\n",
       "   'rms': 0.149,\n",
       "   'rms(c)': 0.0277},\n",
       "  {'N': 2,\n",
       "   'E': -10.0661708832,\n",
       "   'dE': 0.00040063,\n",
       "   'deps': -6.4079e-05,\n",
       "   'ncg': 1025,\n",
       "   'rms': 0.0336,\n",
       "   'rms(c)': 0.00799},\n",
       "  {'N': 3,\n",
       "   'E': -10.0661146974,\n",
       "   'dE': 5.6186e-05,\n",
       "   'deps': -2.1691e-05,\n",
       "   'ncg': 1434,\n",
       "   'rms': 0.0188,\n",
       "   'rms(c)': 0.00285},\n",
       "  {'N': 4,\n",
       "   'E': -10.0661263731,\n",
       "   'dE': -1.1676e-05,\n",
       "   'deps': -4.2966e-07,\n",
       "   'ncg': 1009,\n",
       "   'rms': 0.00162,\n",
       "   'rms(c)': 0.000242},\n",
       "  {'N': 5,\n",
       "   'E': -10.0661259956,\n",
       "   'dE': 3.775e-07,\n",
       "   'deps': -2.5887e-08,\n",
       "   'ncg': 516,\n",
       "   'rms': 0.000708,\n",
       "   'rms(c)': 0.0002},\n",
       "  {'N': 6,\n",
       "   'E': -10.066126046,\n",
       "   'dE': -5.0388e-08,\n",
       "   'deps': -4.2394e-09,\n",
       "   'ncg': 509,\n",
       "   'rms': 0.000257}]]"
      ]
     },
     "execution_count": 3,
     "metadata": {},
     "output_type": "execute_result"
    }
   ],
   "source": [
    "oszicar.electronic_steps"
   ]
  },
  {
   "cell_type": "code",
   "execution_count": 4,
   "metadata": {},
   "outputs": [
    {
     "data": {
      "text/plain": [
       "-10.061464"
      ]
     },
     "execution_count": 4,
     "metadata": {},
     "output_type": "execute_result"
    }
   ],
   "source": [
    "# 能量选的是 E0\n",
    "oszicar.final_energy"
   ]
  },
  {
   "cell_type": "code",
   "execution_count": 5,
   "metadata": {},
   "outputs": [
    {
     "data": {
      "text/plain": [
       "((13.4390551365,\n",
       "  -10.1839400608,\n",
       "  -10.5962903747,\n",
       "  -10.5996777466,\n",
       "  -10.5997080843,\n",
       "  -10.1713683477,\n",
       "  -10.068611725,\n",
       "  -10.0662986387,\n",
       "  -10.0661163364,\n",
       "  -10.0661095831,\n",
       "  -10.0661090567,\n",
       "  -10.066109),\n",
       " (-10.0671167896,\n",
       "  -10.0662210835,\n",
       "  -10.0660692731,\n",
       "  -10.0660598489,\n",
       "  -10.0660602986,\n",
       "  -10.0660602659,\n",
       "  -10.06606),\n",
       " (-10.0665715094,\n",
       "  -10.0661708832,\n",
       "  -10.0661146974,\n",
       "  -10.0661263731,\n",
       "  -10.0661259956,\n",
       "  -10.066126046,\n",
       "  -10.066126))"
      ]
     },
     "execution_count": 5,
     "metadata": {},
     "output_type": "execute_result"
    }
   ],
   "source": [
    "# 获取所有每个离子步中所有的电子步能量+离子步能量（选的是 F）\n",
    "oszicar.all_energies"
   ]
  },
  {
   "cell_type": "code",
   "execution_count": 14,
   "metadata": {},
   "outputs": [],
   "source": [
    "from spt.plot_params import set_roman_plot_params\n",
    "import matplotlib.pyplot as plt\n",
    "from matplotlib.ticker import MultipleLocator\n",
    "from matplotlib.axes import Axes\n",
    "\n",
    "ionic_steps_energies = [step[\"E0\"] for step in oszicar.ionic_steps]\n",
    "step_list = list(range(1, len(oszicar.ionic_steps) + 1))\n",
    "\n",
    "set_roman_plot_params()\n",
    "\n",
    "# fig, ax = plt.subplots()\n",
    "# ax: Axes\n",
    "\n",
    "# ax.xaxis.set_major_locator(MultipleLocator(1))\n",
    "# ax.plot(step_list, ionic_steps_energies)"
   ]
  }
 ],
 "metadata": {
  "kernelspec": {
   "display_name": "base_ysl",
   "language": "python",
   "name": "python3"
  },
  "language_info": {
   "codemirror_mode": {
    "name": "ipython",
    "version": 3
   },
   "file_extension": ".py",
   "mimetype": "text/x-python",
   "name": "python",
   "nbconvert_exporter": "python",
   "pygments_lexer": "ipython3",
   "version": "3.11.8"
  }
 },
 "nbformat": 4,
 "nbformat_minor": 2
}
