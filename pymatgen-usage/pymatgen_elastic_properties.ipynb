{
 "cells": [
  {
   "cell_type": "markdown",
   "metadata": {},
   "source": [
    "### 使用 pymatgen ElasticTensor 类计算弹性性质"
   ]
  },
  {
   "cell_type": "markdown",
   "metadata": {},
   "source": [
    "ElasticTensor 类的实例化参数是 3x3x3x3 的原始矩阵张量，较难手动构造；可使用 `from_voigt()` 方法（继承于 Tensor 类）从 Voigt 格式的张量（6x6 二维矩阵）构造 ElasticTensor 实例。"
   ]
  },
  {
   "cell_type": "code",
   "execution_count": 1,
   "metadata": {},
   "outputs": [
    {
     "data": {
      "text/plain": [
       "array([[1050.64 ,  126.64 ,  126.64 ,    0.   ,    0.   ,    0.   ],\n",
       "       [ 126.64 , 1050.64 ,  126.64 ,    0.   ,    0.   ,    0.   ],\n",
       "       [ 126.64 ,  126.64 , 1050.64 ,    0.   ,    0.   ,    0.   ],\n",
       "       [   0.   ,    0.   ,    0.   ,  559.861,    0.   ,    0.   ],\n",
       "       [   0.   ,    0.   ,    0.   ,    0.   ,  559.861,    0.   ],\n",
       "       [   0.   ,    0.   ,    0.   ,    0.   ,    0.   ,  559.861]])"
      ]
     },
     "execution_count": 1,
     "metadata": {},
     "output_type": "execute_result"
    }
   ],
   "source": [
    "from pymatgen.analysis.elasticity.elastic import ElasticTensor\n",
    "import numpy as np\n",
    "\n",
    "# voigt notation 弹性张量矩阵 6x6\n",
    "# 立方晶系 金刚石结构 Si 数据 reference: https://vaspkit.com/tutorials.html\n",
    "elastic_matrix = np.array(\n",
    "    [\n",
    "        [1050.640, 126.640, 126.640, 0.000, 0.000, 0.000],\n",
    "        [126.640, 1050.640, 126.640, 0.000, 0.000, 0.000],\n",
    "        [126.640, 126.640, 1050.640, 0.000, 0.000, 0.000],\n",
    "        [0.000, 0.000, 0.000, 559.861, 0.000, 0.000],\n",
    "        [0.000, 0.000, 0.000, 0.000, 559.861, 0.000],\n",
    "        [0.000, 0.000, 0.000, 0.000, 0.000, 559.861],\n",
    "    ]\n",
    ")\n",
    "elastic_matrix"
   ]
  },
  {
   "cell_type": "code",
   "execution_count": 2,
   "metadata": {},
   "outputs": [
    {
     "data": {
      "text/plain": [
       "['GPa_to_eV_A3',\n",
       " 'REDIRECT',\n",
       " 'T',\n",
       " '__abs__',\n",
       " '__add__',\n",
       " '__and__',\n",
       " '__array__',\n",
       " '__array_finalize__',\n",
       " '__array_function__',\n",
       " '__array_interface__',\n",
       " '__array_prepare__',\n",
       " '__array_priority__',\n",
       " '__array_struct__',\n",
       " '__array_ufunc__',\n",
       " '__array_wrap__',\n",
       " '__bool__',\n",
       " '__class__',\n",
       " '__class_getitem__',\n",
       " '__complex__',\n",
       " '__contains__',\n",
       " '__copy__',\n",
       " '__deepcopy__',\n",
       " '__delattr__',\n",
       " '__delitem__',\n",
       " '__dict__',\n",
       " '__dir__',\n",
       " '__divmod__',\n",
       " '__dlpack__',\n",
       " '__dlpack_device__',\n",
       " '__doc__',\n",
       " '__eq__',\n",
       " '__float__',\n",
       " '__floordiv__',\n",
       " '__format__',\n",
       " '__ge__',\n",
       " '__get_pydantic_core_schema__',\n",
       " '__get_pydantic_json_schema__',\n",
       " '__get_validators__',\n",
       " '__getattribute__',\n",
       " '__getitem__',\n",
       " '__getstate__',\n",
       " '__gt__',\n",
       " '__hash__',\n",
       " '__iadd__',\n",
       " '__iand__',\n",
       " '__ifloordiv__',\n",
       " '__ilshift__',\n",
       " '__imatmul__',\n",
       " '__imod__',\n",
       " '__imul__',\n",
       " '__index__',\n",
       " '__init__',\n",
       " '__init_subclass__',\n",
       " '__int__',\n",
       " '__invert__',\n",
       " '__ior__',\n",
       " '__ipow__',\n",
       " '__irshift__',\n",
       " '__isub__',\n",
       " '__iter__',\n",
       " '__itruediv__',\n",
       " '__ixor__',\n",
       " '__le__',\n",
       " '__len__',\n",
       " '__lshift__',\n",
       " '__lt__',\n",
       " '__matmul__',\n",
       " '__mod__',\n",
       " '__modify_schema__',\n",
       " '__module__',\n",
       " '__mul__',\n",
       " '__ne__',\n",
       " '__neg__',\n",
       " '__new__',\n",
       " '__or__',\n",
       " '__pos__',\n",
       " '__pow__',\n",
       " '__radd__',\n",
       " '__rand__',\n",
       " '__rdivmod__',\n",
       " '__reduce__',\n",
       " '__reduce_ex__',\n",
       " '__repr__',\n",
       " '__rfloordiv__',\n",
       " '__rlshift__',\n",
       " '__rmatmul__',\n",
       " '__rmod__',\n",
       " '__rmul__',\n",
       " '__ror__',\n",
       " '__rpow__',\n",
       " '__rrshift__',\n",
       " '__rshift__',\n",
       " '__rsub__',\n",
       " '__rtruediv__',\n",
       " '__rxor__',\n",
       " '__setattr__',\n",
       " '__setitem__',\n",
       " '__setstate__',\n",
       " '__sizeof__',\n",
       " '__str__',\n",
       " '__sub__',\n",
       " '__subclasshook__',\n",
       " '__truediv__',\n",
       " '__weakref__',\n",
       " '__xor__',\n",
       " '_generic_json_schema',\n",
       " '_validate_monty',\n",
       " 'agne_diffusive_thermalcond',\n",
       " 'all',\n",
       " 'any',\n",
       " 'argmax',\n",
       " 'argmin',\n",
       " 'argpartition',\n",
       " 'argsort',\n",
       " 'as_dict',\n",
       " 'astype',\n",
       " 'average_over_unit_sphere',\n",
       " 'base',\n",
       " 'byteswap',\n",
       " 'cahill_thermalcond',\n",
       " 'calculate_stress',\n",
       " 'choose',\n",
       " 'clarke_thermalcond',\n",
       " 'clip',\n",
       " 'compliance_tensor',\n",
       " 'compress',\n",
       " 'conj',\n",
       " 'conjugate',\n",
       " 'convert_to_ieee',\n",
       " 'copy',\n",
       " 'ctypes',\n",
       " 'cumprod',\n",
       " 'cumsum',\n",
       " 'data',\n",
       " 'debye_temperature',\n",
       " 'diagonal',\n",
       " 'directional_elastic_mod',\n",
       " 'directional_poisson_ratio',\n",
       " 'dot',\n",
       " 'dtype',\n",
       " 'dump',\n",
       " 'dumps',\n",
       " 'einsum_sequence',\n",
       " 'energy_density',\n",
       " 'fill',\n",
       " 'fit_to_structure',\n",
       " 'flags',\n",
       " 'flat',\n",
       " 'flatten',\n",
       " 'from_dict',\n",
       " 'from_diff_fit',\n",
       " 'from_independent_strains',\n",
       " 'from_pseudoinverse',\n",
       " 'from_values_indices',\n",
       " 'from_voigt',\n",
       " 'g_reuss',\n",
       " 'g_voigt',\n",
       " 'g_vrh',\n",
       " 'get_grouped_indices',\n",
       " 'get_ieee_rotation',\n",
       " 'get_structure_property_dict',\n",
       " 'get_symbol_dict',\n",
       " 'get_voigt_dict',\n",
       " 'getfield',\n",
       " 'green_kristoffel',\n",
       " 'homogeneous_poisson',\n",
       " 'imag',\n",
       " 'is_fit_to_structure',\n",
       " 'is_symmetric',\n",
       " 'is_voigt_symmetric',\n",
       " 'item',\n",
       " 'itemset',\n",
       " 'itemsize',\n",
       " 'k_reuss',\n",
       " 'k_voigt',\n",
       " 'k_vrh',\n",
       " 'long_v',\n",
       " 'max',\n",
       " 'mean',\n",
       " 'min',\n",
       " 'nbytes',\n",
       " 'ndim',\n",
       " 'newbyteorder',\n",
       " 'nonzero',\n",
       " 'order',\n",
       " 'partition',\n",
       " 'populate',\n",
       " 'prod',\n",
       " 'project',\n",
       " 'property_dict',\n",
       " 'ptp',\n",
       " 'put',\n",
       " 'ravel',\n",
       " 'real',\n",
       " 'repeat',\n",
       " 'reshape',\n",
       " 'resize',\n",
       " 'rotate',\n",
       " 'round',\n",
       " 'searchsorted',\n",
       " 'setfield',\n",
       " 'setflags',\n",
       " 'shape',\n",
       " 'size',\n",
       " 'snyder_ac',\n",
       " 'snyder_opt',\n",
       " 'snyder_total',\n",
       " 'sort',\n",
       " 'squeeze',\n",
       " 'std',\n",
       " 'strides',\n",
       " 'structure_transform',\n",
       " 'sum',\n",
       " 'swapaxes',\n",
       " 'symbol',\n",
       " 'symmetrized',\n",
       " 'take',\n",
       " 'to_json',\n",
       " 'tobytes',\n",
       " 'tofile',\n",
       " 'tolist',\n",
       " 'tostring',\n",
       " 'trace',\n",
       " 'trans_v',\n",
       " 'transform',\n",
       " 'transpose',\n",
       " 'universal_anisotropy',\n",
       " 'unsafe_hash',\n",
       " 'validate_monty_v1',\n",
       " 'validate_monty_v2',\n",
       " 'var',\n",
       " 'view',\n",
       " 'voigt',\n",
       " 'voigt_symmetrized',\n",
       " 'y_mod',\n",
       " 'zeroed']"
      ]
     },
     "execution_count": 2,
     "metadata": {},
     "output_type": "execute_result"
    }
   ],
   "source": [
    "dir(ElasticTensor)"
   ]
  },
  {
   "cell_type": "code",
   "execution_count": 3,
   "metadata": {},
   "outputs": [
    {
     "data": {
      "text/plain": [
       "ElasticTensor([[[[1050.64     0.       0.   ]\n",
       "   [   0.     126.64     0.   ]\n",
       "   [   0.       0.     126.64 ]]\n",
       "\n",
       "  [[   0.     559.861    0.   ]\n",
       "   [ 559.861    0.       0.   ]\n",
       "   [   0.       0.       0.   ]]\n",
       "\n",
       "  [[   0.       0.     559.861]\n",
       "   [   0.       0.       0.   ]\n",
       "   [ 559.861    0.       0.   ]]]\n",
       "\n",
       "\n",
       " [[[   0.     559.861    0.   ]\n",
       "   [ 559.861    0.       0.   ]\n",
       "   [   0.       0.       0.   ]]\n",
       "\n",
       "  [[ 126.64     0.       0.   ]\n",
       "   [   0.    1050.64     0.   ]\n",
       "   [   0.       0.     126.64 ]]\n",
       "\n",
       "  [[   0.       0.       0.   ]\n",
       "   [   0.       0.     559.861]\n",
       "   [   0.     559.861    0.   ]]]\n",
       "\n",
       "\n",
       " [[[   0.       0.     559.861]\n",
       "   [   0.       0.       0.   ]\n",
       "   [ 559.861    0.       0.   ]]\n",
       "\n",
       "  [[   0.       0.       0.   ]\n",
       "   [   0.       0.     559.861]\n",
       "   [   0.     559.861    0.   ]]\n",
       "\n",
       "  [[ 126.64     0.       0.   ]\n",
       "   [   0.     126.64     0.   ]\n",
       "   [   0.       0.    1050.64 ]]]])"
      ]
     },
     "execution_count": 3,
     "metadata": {},
     "output_type": "execute_result"
    }
   ],
   "source": [
    "et = ElasticTensor.from_voigt(elastic_matrix)\n",
    "et"
   ]
  },
  {
   "cell_type": "code",
   "execution_count": 4,
   "metadata": {},
   "outputs": [
    {
     "data": {
      "text/plain": [
       "array([[1050.64 ,  126.64 ,  126.64 ,    0.   ,    0.   ,    0.   ],\n",
       "       [ 126.64 , 1050.64 ,  126.64 ,    0.   ,    0.   ,    0.   ],\n",
       "       [ 126.64 ,  126.64 , 1050.64 ,    0.   ,    0.   ,    0.   ],\n",
       "       [   0.   ,    0.   ,    0.   ,  559.861,    0.   ,    0.   ],\n",
       "       [   0.   ,    0.   ,    0.   ,    0.   ,  559.861,    0.   ],\n",
       "       [   0.   ,    0.   ,    0.   ,    0.   ,    0.   ,  559.861]])"
      ]
     },
     "execution_count": 4,
     "metadata": {},
     "output_type": "execute_result"
    }
   ],
   "source": [
    "et.voigt"
   ]
  },
  {
   "cell_type": "code",
   "execution_count": 5,
   "metadata": {},
   "outputs": [
    {
     "data": {
      "text/plain": [
       "ElasticTensor([[[[1050.64     0.       0.   ]\n",
       "   [   0.     126.64     0.   ]\n",
       "   [   0.       0.     126.64 ]]\n",
       "\n",
       "  [[   0.     559.861    0.   ]\n",
       "   [ 559.861    0.       0.   ]\n",
       "   [   0.       0.       0.   ]]\n",
       "\n",
       "  [[   0.       0.     559.861]\n",
       "   [   0.       0.       0.   ]\n",
       "   [ 559.861    0.       0.   ]]]\n",
       "\n",
       "\n",
       " [[[   0.     559.861    0.   ]\n",
       "   [ 559.861    0.       0.   ]\n",
       "   [   0.       0.       0.   ]]\n",
       "\n",
       "  [[ 126.64     0.       0.   ]\n",
       "   [   0.    1050.64     0.   ]\n",
       "   [   0.       0.     126.64 ]]\n",
       "\n",
       "  [[   0.       0.       0.   ]\n",
       "   [   0.       0.     559.861]\n",
       "   [   0.     559.861    0.   ]]]\n",
       "\n",
       "\n",
       " [[[   0.       0.     559.861]\n",
       "   [   0.       0.       0.   ]\n",
       "   [ 559.861    0.       0.   ]]\n",
       "\n",
       "  [[   0.       0.       0.   ]\n",
       "   [   0.       0.     559.861]\n",
       "   [   0.     559.861    0.   ]]\n",
       "\n",
       "  [[ 126.64     0.       0.   ]\n",
       "   [   0.     126.64     0.   ]\n",
       "   [   0.       0.    1050.64 ]]]])"
      ]
     },
     "execution_count": 5,
     "metadata": {},
     "output_type": "execute_result"
    }
   ],
   "source": [
    "et.voigt_symmetrized"
   ]
  },
  {
   "cell_type": "code",
   "execution_count": 6,
   "metadata": {},
   "outputs": [
    {
     "data": {
      "text/plain": [
       "False"
      ]
     },
     "execution_count": 6,
     "metadata": {},
     "output_type": "execute_result"
    }
   ],
   "source": [
    "et.is_symmetric()"
   ]
  },
  {
   "cell_type": "code",
   "execution_count": 7,
   "metadata": {},
   "outputs": [
    {
     "data": {
      "text/plain": [
       "True"
      ]
     },
     "execution_count": 7,
     "metadata": {},
     "output_type": "execute_result"
    }
   ],
   "source": [
    "et.is_voigt_symmetric()"
   ]
  },
  {
   "cell_type": "code",
   "execution_count": 8,
   "metadata": {},
   "outputs": [
    {
     "data": {
      "text/plain": [
       "{'k_voigt': 434.64000000000004,\n",
       " 'k_reuss': 434.64000000000004,\n",
       " 'k_vrh': 434.64000000000004,\n",
       " 'g_voigt': 520.7166,\n",
       " 'g_reuss': 516.1302450950266,\n",
       " 'g_vrh': 518.4234225475133,\n",
       " 'universal_anisotropy': 0.04443020873664327,\n",
       " 'homogeneous_poisson': 0.07327739426074353,\n",
       " 'y_mod': 1112824280151.0627}"
      ]
     },
     "execution_count": 8,
     "metadata": {},
     "output_type": "execute_result"
    }
   ],
   "source": [
    "# 弹性性质 Dict；也可以单独使用对应属性获取\n",
    "et.property_dict"
   ]
  },
  {
   "cell_type": "code",
   "execution_count": 9,
   "metadata": {},
   "outputs": [
    {
     "data": {
      "text/plain": [
       "434.64000000000004"
      ]
     },
     "execution_count": 9,
     "metadata": {},
     "output_type": "execute_result"
    }
   ],
   "source": [
    "et.k_reuss"
   ]
  },
  {
   "cell_type": "code",
   "execution_count": 10,
   "metadata": {},
   "outputs": [
    {
     "data": {
      "text/plain": [
       "434.64000000000004"
      ]
     },
     "execution_count": 10,
     "metadata": {},
     "output_type": "execute_result"
    }
   ],
   "source": [
    "et.k_voigt"
   ]
  },
  {
   "cell_type": "code",
   "execution_count": 11,
   "metadata": {},
   "outputs": [
    {
     "data": {
      "text/plain": [
       "434.64000000000004"
      ]
     },
     "execution_count": 11,
     "metadata": {},
     "output_type": "execute_result"
    }
   ],
   "source": [
    "et.k_vrh"
   ]
  },
  {
   "cell_type": "code",
   "execution_count": 12,
   "metadata": {},
   "outputs": [
    {
     "data": {
      "text/plain": [
       "516.1302450950266"
      ]
     },
     "execution_count": 12,
     "metadata": {},
     "output_type": "execute_result"
    }
   ],
   "source": [
    "et.g_reuss"
   ]
  },
  {
   "cell_type": "code",
   "execution_count": 13,
   "metadata": {},
   "outputs": [
    {
     "data": {
      "text/plain": [
       "520.7166"
      ]
     },
     "execution_count": 13,
     "metadata": {},
     "output_type": "execute_result"
    }
   ],
   "source": [
    "et.g_voigt"
   ]
  },
  {
   "cell_type": "code",
   "execution_count": 14,
   "metadata": {},
   "outputs": [
    {
     "data": {
      "text/plain": [
       "518.4234225475133"
      ]
     },
     "execution_count": 14,
     "metadata": {},
     "output_type": "execute_result"
    }
   ],
   "source": [
    "et.g_vrh"
   ]
  },
  {
   "cell_type": "code",
   "execution_count": 15,
   "metadata": {},
   "outputs": [
    {
     "data": {
      "text/plain": [
       "1112824280151.0627"
      ]
     },
     "execution_count": 15,
     "metadata": {},
     "output_type": "execute_result"
    }
   ],
   "source": [
    "et.y_mod"
   ]
  },
  {
   "cell_type": "code",
   "execution_count": 16,
   "metadata": {},
   "outputs": [
    {
     "data": {
      "text/plain": [
       "0.04443020873664327"
      ]
     },
     "execution_count": 16,
     "metadata": {},
     "output_type": "execute_result"
    }
   ],
   "source": [
    "et.universal_anisotropy"
   ]
  },
  {
   "cell_type": "code",
   "execution_count": 18,
   "metadata": {},
   "outputs": [
    {
     "data": {
      "text/plain": [
       "0.07327739426074353"
      ]
     },
     "execution_count": 18,
     "metadata": {},
     "output_type": "execute_result"
    }
   ],
   "source": [
    "et.homogeneous_poisson"
   ]
  }
 ],
 "metadata": {
  "kernelspec": {
   "display_name": "base_ysl",
   "language": "python",
   "name": "python3"
  },
  "language_info": {
   "codemirror_mode": {
    "name": "ipython",
    "version": 3
   },
   "file_extension": ".py",
   "mimetype": "text/x-python",
   "name": "python",
   "nbconvert_exporter": "python",
   "pygments_lexer": "ipython3",
   "version": "3.11.8"
  }
 },
 "nbformat": 4,
 "nbformat_minor": 2
}
