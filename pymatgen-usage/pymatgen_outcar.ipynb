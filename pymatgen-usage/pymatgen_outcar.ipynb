{
 "cells": [
  {
   "cell_type": "markdown",
   "metadata": {},
   "source": [
    "### pymatgen Outcar 类"
   ]
  },
  {
   "cell_type": "code",
   "execution_count": 1,
   "metadata": {},
   "outputs": [],
   "source": [
    "from pymatgen.io.vasp.outputs import Outcar\n",
    "\n",
    "outcar = Outcar(\"OUTCAR_test\")"
   ]
  },
  {
   "cell_type": "code",
   "execution_count": 2,
   "metadata": {},
   "outputs": [
    {
     "data": {
      "text/plain": [
       "['__class__',\n",
       " '__delattr__',\n",
       " '__dict__',\n",
       " '__dir__',\n",
       " '__doc__',\n",
       " '__eq__',\n",
       " '__format__',\n",
       " '__ge__',\n",
       " '__getattribute__',\n",
       " '__getstate__',\n",
       " '__gt__',\n",
       " '__hash__',\n",
       " '__init__',\n",
       " '__init_subclass__',\n",
       " '__le__',\n",
       " '__lt__',\n",
       " '__module__',\n",
       " '__ne__',\n",
       " '__new__',\n",
       " '__reduce__',\n",
       " '__reduce_ex__',\n",
       " '__repr__',\n",
       " '__setattr__',\n",
       " '__sizeof__',\n",
       " '__str__',\n",
       " '__subclasshook__',\n",
       " '__weakref__',\n",
       " '_parse_sci_notation',\n",
       " 'as_dict',\n",
       " 'charge',\n",
       " 'data',\n",
       " 'dfpt',\n",
       " 'drift',\n",
       " 'efermi',\n",
       " 'electrostatic_potential',\n",
       " 'filename',\n",
       " 'final_energy',\n",
       " 'final_energy_contribs',\n",
       " 'final_energy_wo_entrp',\n",
       " 'final_fr_energy',\n",
       " 'has_onsite_density_matrices',\n",
       " 'is_stopped',\n",
       " 'lcalcpol',\n",
       " 'lepsilon',\n",
       " 'magnetization',\n",
       " 'nelect',\n",
       " 'ngf',\n",
       " 'nmr_cs',\n",
       " 'nmr_efg',\n",
       " 'noncollinear',\n",
       " 'read_avg_core_poten',\n",
       " 'read_chemical_shielding',\n",
       " 'read_core_state_eigen',\n",
       " 'read_corrections',\n",
       " 'read_cs_core_contribution',\n",
       " 'read_cs_g0_contribution',\n",
       " 'read_cs_raw_symmetrized_tensors',\n",
       " 'read_elastic_tensor',\n",
       " 'read_electrostatic_potential',\n",
       " 'read_fermi_contact_shift',\n",
       " 'read_freq_dielectric',\n",
       " 'read_igpar',\n",
       " 'read_internal_strain_tensor',\n",
       " 'read_lcalcpol',\n",
       " 'read_lepsilon',\n",
       " 'read_lepsilon_ionic',\n",
       " 'read_neb',\n",
       " 'read_nmr_efg',\n",
       " 'read_nmr_efg_tensor',\n",
       " 'read_onsite_density_matrices',\n",
       " 'read_pattern',\n",
       " 'read_piezo_tensor',\n",
       " 'read_pseudo_zval',\n",
       " 'read_table_pattern',\n",
       " 'run_stats',\n",
       " 'sampling_radii',\n",
       " 'spin',\n",
       " 'total_mag']"
      ]
     },
     "execution_count": 2,
     "metadata": {},
     "output_type": "execute_result"
    }
   ],
   "source": [
    "# 查看 outcar 的所有属性和方法\n",
    "dir(outcar)"
   ]
  },
  {
   "cell_type": "code",
   "execution_count": 3,
   "metadata": {},
   "outputs": [
    {
     "data": {
      "text/plain": [
       "False"
      ]
     },
     "execution_count": 3,
     "metadata": {},
     "output_type": "execute_result"
    }
   ],
   "source": [
    "outcar.is_stopped"
   ]
  },
  {
   "cell_type": "code",
   "execution_count": 4,
   "metadata": {},
   "outputs": [
    {
     "data": {
      "text/plain": [
       "{'Average memory used (kb)': 0.0,\n",
       " 'Maximum memory used (kb)': 109740.0,\n",
       " 'Elapsed time (sec)': 7977.179,\n",
       " 'System time (sec)': 8.916,\n",
       " 'User time (sec)': 7943.645,\n",
       " 'Total CPU time used (sec)': 7952.561,\n",
       " 'cores': 36}"
      ]
     },
     "execution_count": 4,
     "metadata": {},
     "output_type": "execute_result"
    }
   ],
   "source": [
    "outcar.run_stats"
   ]
  },
  {
   "cell_type": "code",
   "execution_count": 5,
   "metadata": {},
   "outputs": [
    {
     "data": {
      "text/plain": [
       "-245.00274428"
      ]
     },
     "execution_count": 5,
     "metadata": {},
     "output_type": "execute_result"
    }
   ],
   "source": [
    "outcar.final_energy"
   ]
  },
  {
   "cell_type": "code",
   "execution_count": 6,
   "metadata": {},
   "outputs": [
    {
     "data": {
      "text/plain": [
       "-245.00168449"
      ]
     },
     "execution_count": 6,
     "metadata": {},
     "output_type": "execute_result"
    }
   ],
   "source": [
    "outcar.final_energy_wo_entrp"
   ]
  },
  {
   "cell_type": "code",
   "execution_count": 7,
   "metadata": {},
   "outputs": [
    {
     "data": {
      "text/plain": [
       "-245.00327417"
      ]
     },
     "execution_count": 7,
     "metadata": {},
     "output_type": "execute_result"
    }
   ],
   "source": [
    "outcar.final_fr_energy"
   ]
  },
  {
   "cell_type": "code",
   "execution_count": 8,
   "metadata": {},
   "outputs": [
    {
     "data": {
      "text/plain": [
       "[[-0.0, 0.0, -0.004596],\n",
       " [0.0, 0.0, -0.001108],\n",
       " [0.0, 0.0, -0.001186],\n",
       " [0.0, 0.0, -0.001281],\n",
       " [0.0, 0.0, -0.001233],\n",
       " [0.0, 0.0, -0.001176],\n",
       " [0.0, 0.0, -0.001127],\n",
       " [0.0, 0.0, -0.00101],\n",
       " [0.0, 0.0, -0.00106],\n",
       " [0.0, 0.0, -0.001167],\n",
       " [0.0, 0.0, -0.001121],\n",
       " [0.0, 0.0, -0.00127],\n",
       " [0.0, 0.0, -0.001285],\n",
       " [0.0, 0.0, -0.001342],\n",
       " [-0.0, -0.0, -0.001512],\n",
       " [-0.0, -0.0, -0.001539],\n",
       " [-0.0, -0.0, -0.00148],\n",
       " [-0.0, -0.0, -0.001463],\n",
       " [-0.0, -0.0, -0.00169],\n",
       " [-0.0, -0.0, -0.001812],\n",
       " [-0.0, -1e-06, -0.001536],\n",
       " [-0.0, -1e-06, -0.002021],\n",
       " [-0.0, -1e-06, -0.001644],\n",
       " [-0.0, -1e-06, -0.002191],\n",
       " [-0.0, -1e-06, -0.002154],\n",
       " [-0.0, -1e-06, -0.002234],\n",
       " [-0.0, -1e-06, -0.00226],\n",
       " [-0.0, -1e-06, -0.002213],\n",
       " [-0.0, -1e-06, -0.001931],\n",
       " [-0.0, -1e-06, -0.002037],\n",
       " [-0.0, -1e-06, -0.002007],\n",
       " [-0.0, -1e-06, -0.002178],\n",
       " [-0.0, -1e-06, -0.002146],\n",
       " [-0.0, -1e-06, -0.002053],\n",
       " [-0.0, -1e-06, -0.002003],\n",
       " [-0.0, -1e-06, -0.001937],\n",
       " [-0.0, -1e-06, -0.002011],\n",
       " [-0.0, -1e-06, -0.002157],\n",
       " [-0.0, -1e-06, -0.001864],\n",
       " [-0.0, -0.0, -0.001826],\n",
       " [-0.0, -0.0, -0.002205],\n",
       " [-0.0, -0.0, -0.001984],\n",
       " [-0.0, -0.0, -0.001767],\n",
       " [-0.0, -0.0, -0.001965],\n",
       " [-0.0, -0.0, -0.001684],\n",
       " [-0.0, -0.0, -0.001724],\n",
       " [-0.0, -0.0, -0.001629],\n",
       " [-0.0, -0.0, -0.001514],\n",
       " [-0.0, -0.0, -0.001594],\n",
       " [-0.0, -0.0, -0.00147],\n",
       " [-0.0, -0.0, -0.001381],\n",
       " [-0.0, -0.0, -0.001384],\n",
       " [-0.0, -0.0, -0.001449],\n",
       " [-0.0, -0.0, -0.001422]]"
      ]
     },
     "execution_count": 8,
     "metadata": {},
     "output_type": "execute_result"
    }
   ],
   "source": [
    "outcar.drift"
   ]
  },
  {
   "cell_type": "code",
   "execution_count": 9,
   "metadata": {},
   "outputs": [
    {
     "data": {
      "text/plain": [
       "54"
      ]
     },
     "execution_count": 9,
     "metadata": {},
     "output_type": "execute_result"
    }
   ],
   "source": [
    "len(outcar.drift)"
   ]
  },
  {
   "cell_type": "code",
   "execution_count": 10,
   "metadata": {},
   "outputs": [
    {
     "data": {
      "text/plain": [
       "()"
      ]
     },
     "execution_count": 10,
     "metadata": {},
     "output_type": "execute_result"
    }
   ],
   "source": [
    "outcar.magnetization"
   ]
  },
  {
   "cell_type": "code",
   "execution_count": 11,
   "metadata": {},
   "outputs": [
    {
     "data": {
      "text/plain": [
       "33.74837"
      ]
     },
     "execution_count": 11,
     "metadata": {},
     "output_type": "execute_result"
    }
   ],
   "source": [
    "outcar.total_mag"
   ]
  },
  {
   "cell_type": "code",
   "execution_count": 12,
   "metadata": {},
   "outputs": [
    {
     "data": {
      "text/plain": [
       "True"
      ]
     },
     "execution_count": 12,
     "metadata": {},
     "output_type": "execute_result"
    }
   ],
   "source": [
    "outcar.spin"
   ]
  },
  {
   "cell_type": "code",
   "execution_count": 13,
   "metadata": {},
   "outputs": [
    {
     "data": {
      "text/plain": [
       "360.999999"
      ]
     },
     "execution_count": 13,
     "metadata": {},
     "output_type": "execute_result"
    }
   ],
   "source": [
    "outcar.nelect"
   ]
  },
  {
   "cell_type": "code",
   "execution_count": 14,
   "metadata": {},
   "outputs": [
    {
     "data": {
      "text/plain": [
       "()"
      ]
     },
     "execution_count": 14,
     "metadata": {},
     "output_type": "execute_result"
    }
   ],
   "source": [
    "outcar.charge"
   ]
  },
  {
   "cell_type": "code",
   "execution_count": 15,
   "metadata": {},
   "outputs": [
    {
     "ename": "IndexError",
     "evalue": "list index out of range",
     "output_type": "error",
     "traceback": [
      "\u001b[0;31m---------------------------------------------------------------------------\u001b[0m",
      "\u001b[0;31mIndexError\u001b[0m                                Traceback (most recent call last)",
      "Cell \u001b[0;32mIn[15], line 2\u001b[0m\n\u001b[1;32m      1\u001b[0m \u001b[38;5;66;03m# 若不是进行弹性常数计算生成的 OUTCAR 文件，使用 read_elastic_tensor() 方法会报错\u001b[39;00m\n\u001b[0;32m----> 2\u001b[0m \u001b[43moutcar\u001b[49m\u001b[38;5;241;43m.\u001b[39;49m\u001b[43mread_elastic_tensor\u001b[49m\u001b[43m(\u001b[49m\u001b[43m)\u001b[49m\n",
      "File \u001b[0;32m~/src/miniconda3/envs/base_ysl/lib/python3.11/site-packages/pymatgen/io/vasp/outputs.py:2494\u001b[0m, in \u001b[0;36mOutcar.read_elastic_tensor\u001b[0;34m(self)\u001b[0m\n\u001b[1;32m   2492\u001b[0m row_pattern \u001b[38;5;241m=\u001b[39m \u001b[38;5;124mr\u001b[39m\u001b[38;5;124m\"\u001b[39m\u001b[38;5;124m[X-Z][X-Z]\u001b[39m\u001b[38;5;124m\\\u001b[39m\u001b[38;5;124ms+\u001b[39m\u001b[38;5;124m\"\u001b[39m \u001b[38;5;241m+\u001b[39m \u001b[38;5;124mr\u001b[39m\u001b[38;5;124m\"\u001b[39m\u001b[38;5;124m\\\u001b[39m\u001b[38;5;124ms+\u001b[39m\u001b[38;5;124m\"\u001b[39m\u001b[38;5;241m.\u001b[39mjoin([\u001b[38;5;124mr\u001b[39m\u001b[38;5;124m\"\u001b[39m\u001b[38;5;124m(\u001b[39m\u001b[38;5;124m\\\u001b[39m\u001b[38;5;124m-*[\u001b[39m\u001b[38;5;124m\\\u001b[39m\u001b[38;5;124m.\u001b[39m\u001b[38;5;124m\\\u001b[39m\u001b[38;5;124md]+)\u001b[39m\u001b[38;5;124m\"\u001b[39m] \u001b[38;5;241m*\u001b[39m \u001b[38;5;241m6\u001b[39m)\n\u001b[1;32m   2493\u001b[0m footer_pattern \u001b[38;5;241m=\u001b[39m \u001b[38;5;124mr\u001b[39m\u001b[38;5;124m\"\u001b[39m\u001b[38;5;124m\\\u001b[39m\u001b[38;5;124m-+\u001b[39m\u001b[38;5;124m\"\u001b[39m\n\u001b[0;32m-> 2494\u001b[0m et_table \u001b[38;5;241m=\u001b[39m \u001b[38;5;28;43mself\u001b[39;49m\u001b[38;5;241;43m.\u001b[39;49m\u001b[43mread_table_pattern\u001b[49m\u001b[43m(\u001b[49m\u001b[43mheader_pattern\u001b[49m\u001b[43m,\u001b[49m\u001b[43m \u001b[49m\u001b[43mrow_pattern\u001b[49m\u001b[43m,\u001b[49m\u001b[43m \u001b[49m\u001b[43mfooter_pattern\u001b[49m\u001b[43m,\u001b[49m\u001b[43m \u001b[49m\u001b[43mpostprocess\u001b[49m\u001b[38;5;241;43m=\u001b[39;49m\u001b[38;5;28;43mfloat\u001b[39;49m\u001b[43m)\u001b[49m\n\u001b[1;32m   2495\u001b[0m \u001b[38;5;28mself\u001b[39m\u001b[38;5;241m.\u001b[39mdata[\u001b[38;5;124m\"\u001b[39m\u001b[38;5;124melastic_tensor\u001b[39m\u001b[38;5;124m\"\u001b[39m] \u001b[38;5;241m=\u001b[39m et_table\n",
      "File \u001b[0;32m~/src/miniconda3/envs/base_ysl/lib/python3.11/site-packages/pymatgen/io/vasp/outputs.py:2218\u001b[0m, in \u001b[0;36mOutcar.read_table_pattern\u001b[0;34m(self, header_pattern, row_pattern, footer_pattern, postprocess, attribute_name, last_one_only, first_one_only)\u001b[0m\n\u001b[1;32m   2216\u001b[0m     \u001b[38;5;28;01mif\u001b[39;00m first_one_only:\n\u001b[1;32m   2217\u001b[0m         \u001b[38;5;28;01mbreak\u001b[39;00m\n\u001b[0;32m-> 2218\u001b[0m retained_data \u001b[38;5;241m=\u001b[39m \u001b[43mtables\u001b[49m\u001b[43m[\u001b[49m\u001b[38;5;241;43m-\u001b[39;49m\u001b[38;5;241;43m1\u001b[39;49m\u001b[43m]\u001b[49m \u001b[38;5;28;01mif\u001b[39;00m last_one_only \u001b[38;5;129;01mor\u001b[39;00m first_one_only \u001b[38;5;28;01melse\u001b[39;00m tables\n\u001b[1;32m   2219\u001b[0m \u001b[38;5;28;01mif\u001b[39;00m attribute_name \u001b[38;5;129;01mis\u001b[39;00m \u001b[38;5;129;01mnot\u001b[39;00m \u001b[38;5;28;01mNone\u001b[39;00m:\n\u001b[1;32m   2220\u001b[0m     \u001b[38;5;28mself\u001b[39m\u001b[38;5;241m.\u001b[39mdata[attribute_name] \u001b[38;5;241m=\u001b[39m retained_data\n",
      "\u001b[0;31mIndexError\u001b[0m: list index out of range"
     ]
    }
   ],
   "source": [
    "# 若不是进行弹性常数计算生成的 OUTCAR 文件，使用 read_elastic_tensor() 方法会报错\n",
    "outcar.read_elastic_tensor()"
   ]
  }
 ],
 "metadata": {
  "kernelspec": {
   "display_name": "base_ysl",
   "language": "python",
   "name": "python3"
  },
  "language_info": {
   "codemirror_mode": {
    "name": "ipython",
    "version": 3
   },
   "file_extension": ".py",
   "mimetype": "text/x-python",
   "name": "python",
   "nbconvert_exporter": "python",
   "pygments_lexer": "ipython3",
   "version": "3.11.5"
  }
 },
 "nbformat": 4,
 "nbformat_minor": 2
}
