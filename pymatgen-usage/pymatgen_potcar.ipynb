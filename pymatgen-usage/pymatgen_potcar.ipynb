{
 "cells": [
  {
   "cell_type": "code",
   "execution_count": 1,
   "metadata": {},
   "outputs": [
    {
     "data": {
      "text/plain": [
       "[PotcarSingle(symbol='Nb_sv', functional='PBE', TITEL='PAW_PBE Nb_sv 25May2007', VRHFIN='Nb: 4p5s4d', n_valence_elec=13),\n",
       " PotcarSingle(symbol='Si', functional='PBE', TITEL='PAW_PBE Si 05Jan2001', VRHFIN='Si: s2p2', n_valence_elec=4)]"
      ]
     },
     "execution_count": 1,
     "metadata": {},
     "output_type": "execute_result"
    }
   ],
   "source": [
    "from pymatgen.io.vasp.inputs import Potcar\n",
    "\n",
    "# 这里的 symbols 是元素赝势符号，而非元素符号\n",
    "potcar = Potcar(\n",
    "    symbols=[\"Nb_sv\", \"Si\"],\n",
    "    functional=\"PBE\",\n",
    ")\n",
    "potcar"
   ]
  },
  {
   "cell_type": "code",
   "execution_count": null,
   "metadata": {},
   "outputs": [],
   "source": [
    "potcar.write_file(\"POTCAR\")"
   ]
  }
 ],
 "metadata": {
  "kernelspec": {
   "display_name": "base_ysl",
   "language": "python",
   "name": "python3"
  },
  "language_info": {
   "codemirror_mode": {
    "name": "ipython",
    "version": 3
   },
   "file_extension": ".py",
   "mimetype": "text/x-python",
   "name": "python",
   "nbconvert_exporter": "python",
   "pygments_lexer": "ipython3",
   "version": "3.11.4"
  }
 },
 "nbformat": 4,
 "nbformat_minor": 2
}
