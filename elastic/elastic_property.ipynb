{
 "cells": [
  {
   "cell_type": "code",
   "execution_count": 1,
   "metadata": {},
   "outputs": [],
   "source": [
    "import numpy as np\n",
    "from typing import List\n",
    "\n",
    "# 参考 pymatgen 的 pymatgen/analysis/elasticity/elastic.py 中的 ElasticTensor 类\n",
    "class ElasticProperty:\n",
    "    def __init__(self, elastic_tensor: np.ndarray | List[List[float]]):\n",
    "        self.elastic_tensor = np.array(elastic_tensor)\n",
    "\n",
    "    @property\n",
    "    def stiffness_tensor(self) -> np.ndarray:\n",
    "        return np.linalg.inv(self.elastic_tensor)\n",
    "\n",
    "    @property\n",
    "    def k_voigt(self) -> float:\n",
    "        # 1 * 对角线元素 + 2 * 对角线向上元素和 / 9 等价于 矩阵平均值\n",
    "        return self.elastic_tensor[:3, :3].mean()\n",
    "\n",
    "    @property\n",
    "    def k_reuss(self) -> float:\n",
    "        return 1 / self.stiffness_tensor[:3, :3].sum()\n",
    "\n",
    "    @property\n",
    "    def k_vrh(self) -> float:\n",
    "        return 0.5 * (self.k_voigt + self.k_reuss)\n",
    "\n",
    "    @property\n",
    "    def g_voigt(self) -> float:\n",
    "        return (\n",
    "            self.elastic_tensor[:3, :3].trace()\n",
    "            - np.triu(self.elastic_tensor[:3, :3], k=1).sum()\n",
    "            + 3 * self.elastic_tensor[3:, 3:].trace()\n",
    "        ) / 15\n",
    "\n",
    "    @property\n",
    "    def g_reuss(self) -> float:\n",
    "        return 15 / (\n",
    "            4 * self.stiffness_tensor[:3, :3].trace()\n",
    "            - 4 * np.triu(self.stiffness_tensor[:3, :3], k=1).sum()\n",
    "            + 3 * self.stiffness_tensor[3:, 3:].trace()\n",
    "        )\n",
    "\n",
    "    @property\n",
    "    def g_vrh(self) -> float:\n",
    "        return 0.5 * (self.g_voigt + self.g_reuss)\n",
    "\n",
    "    @property\n",
    "    def possion_ratio(self) -> float:\n",
    "        return 0.5 * (3 * self.k_vrh - 2 * self.g_vrh) / (3 * self.k_vrh + self.g_vrh)\n",
    "\n",
    "    @property\n",
    "    def property_dict(self):\n",
    "        props = (\n",
    "            \"k_voigt\",\n",
    "            \"k_reuss\",\n",
    "            \"k_vrh\",\n",
    "            \"g_voigt\",\n",
    "            \"g_reuss\",\n",
    "            \"g_vrh\",\n",
    "            \"possion_ratio\",\n",
    "        )\n",
    "\n",
    "        return {prop: getattr(self, prop) for prop in props}"
   ]
  },
  {
   "cell_type": "code",
   "execution_count": 2,
   "metadata": {},
   "outputs": [
    {
     "data": {
      "text/plain": [
       "{'k_voigt': 434.64000000000004,\n",
       " 'k_reuss': 434.64000000000004,\n",
       " 'k_vrh': 434.64000000000004,\n",
       " 'g_voigt': 520.7166,\n",
       " 'g_reuss': 516.1302450950266,\n",
       " 'g_vrh': 518.4234225475133,\n",
       " 'possion_ratio': 0.07327739426074346}"
      ]
     },
     "execution_count": 2,
     "metadata": {},
     "output_type": "execute_result"
    }
   ],
   "source": [
    "# 立方晶系\n",
    "cubic_matrix = np.array(\n",
    "    [\n",
    "        [1050.640, 126.640, 126.640, 0.000, 0.000, 0.000],\n",
    "        [126.640, 1050.640, 126.640, 0.000, 0.000, 0.000],\n",
    "        [126.640, 126.640, 1050.640, 0.000, 0.000, 0.000],\n",
    "        [0.000, 0.000, 0.000, 559.861, 0.000, 0.000],\n",
    "        [0.000, 0.000, 0.000, 0.000, 559.861, 0.000],\n",
    "        [0.000, 0.000, 0.000, 0.000, 0.000, 559.861],\n",
    "    ]\n",
    ")\n",
    "\n",
    "elsp = ElasticProperty(cubic_matrix)\n",
    "elsp.property_dict"
   ]
  },
  {
   "cell_type": "code",
   "execution_count": 3,
   "metadata": {},
   "outputs": [
    {
     "data": {
      "text/plain": [
       "{'k_voigt': 172.7111111111111,\n",
       " 'k_reuss': 172.2853759366118,\n",
       " 'k_vrh': 172.49824352386145,\n",
       " 'g_voigt': 77.23166666666667,\n",
       " 'g_reuss': 74.04254440603603,\n",
       " 'g_vrh': 75.63710553635136,\n",
       " 'possion_ratio': 0.3087176384781328}"
      ]
     },
     "execution_count": 3,
     "metadata": {},
     "output_type": "execute_result"
    }
   ],
   "source": [
    "# 六方晶系\n",
    "hexagonal_matrix = np.array(\n",
    "    [\n",
    "        [297.85, 126.9, 104.5, 0.0, 0.0, 0.0],\n",
    "        [126.9, 297.85, 104.5, 0.0, 0.0, 0.0],\n",
    "        [104.5, 104.5, 286.9, 0.0, 0.0, 0.0],\n",
    "        [0.0, 0.0, 0.0, 59.225, 0.0, 0.0],\n",
    "        [0.0, 0.0, 0.0, 0.0, 59.225, 0.0],\n",
    "        [0.0, 0.0, 0.0, 0.0, 0.0, 85.475],\n",
    "    ]\n",
    ")\n",
    "\n",
    "elsp = ElasticProperty(hexagonal_matrix)\n",
    "elsp.property_dict"
   ]
  }
 ],
 "metadata": {
  "kernelspec": {
   "display_name": "base_ysl",
   "language": "python",
   "name": "python3"
  },
  "language_info": {
   "codemirror_mode": {
    "name": "ipython",
    "version": 3
   },
   "file_extension": ".py",
   "mimetype": "text/x-python",
   "name": "python",
   "nbconvert_exporter": "python",
   "pygments_lexer": "ipython3",
   "version": "3.11.5"
  }
 },
 "nbformat": 4,
 "nbformat_minor": 2
}
