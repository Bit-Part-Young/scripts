{
 "cells": [
  {
   "cell_type": "markdown",
   "metadata": {},
   "source": [
    "### 根据独立弹性常数和晶系生成弹性张量矩阵"
   ]
  },
  {
   "cell_type": "code",
   "execution_count": 37,
   "metadata": {},
   "outputs": [],
   "source": [
    "import numpy as np\n",
    "from typing import Dict\n",
    "\n",
    "\n",
    "class ElasticMatrix:\n",
    "    def __init__(self, cij_list: Dict[str, float]):\n",
    "        self.cij_list = cij_list\n",
    "\n",
    "    @staticmethod\n",
    "    def crystal_systems():\n",
    "        return [\"cubic\", \"hexagonal\", \"Tetragonal_I\", \"Tetragonal_II\", \"Orthorhombic\"]\n",
    "\n",
    "    @staticmethod\n",
    "    def crystal_elastic_constants_info(crystal_system: str):\n",
    "        info = {\n",
    "            \"cubic\": {\n",
    "                \"cij\": [\"c11\", \"c12\", \"c44\"],\n",
    "            },\n",
    "            \"hexagonal\": {\n",
    "                \"cij\": [\"c11\", \"c12\", \"c13\", \"c33\", \"c44\"],\n",
    "            },\n",
    "            \"Tetragonal_I\": {\n",
    "                \"cij\": [\"c11\", \"c12\", \"c13\", \"c33\", \"c44\", \"c66\"],\n",
    "            },\n",
    "            \"Tetragonal_II\": {\n",
    "                \"cij\": [\"c11\", \"c12\", \"c13\", \"c16\", \"c33\", \"c44\", \"c66\"],\n",
    "            },\n",
    "            \"Orthorhombic\": {\n",
    "                \"cij\": [\"c11\", \"c12\", \"c13\", \"c23\", \"c22\", \"c33\", \"c44\", \"c55\", \"c66\"],\n",
    "            },\n",
    "        }\n",
    "\n",
    "        return info[crystal_system]\n",
    "\n",
    "    def elastic_matrix(self, crystal_system: str) -> np.ndarray:\n",
    "        matrix = np.zeros((6, 6))\n",
    "        for cij in self.cij_list.keys():\n",
    "            i, j = int(cij[1]) - 1, int(cij[2]) - 1\n",
    "            matrix[i, j] = self.cij_list[cij]\n",
    "\n",
    "        matrix[1, 0] = matrix[0, 1]\n",
    "        matrix[2, 0] = matrix[0, 2]\n",
    "        matrix[2, 1] = matrix[1, 2]\n",
    "\n",
    "        if crystal_system == \"cubic\":\n",
    "            matrix[1, 1] = matrix[2, 2] = matrix[0, 0]\n",
    "            matrix[0, 2] = matrix[1, 2] = matrix[0, 1]\n",
    "            matrix[4, 4] = matrix[5, 5] = matrix[3, 3]\n",
    "\n",
    "        elif crystal_system == \"hexagonal\":\n",
    "            matrix[1, 1] = matrix[0, 0]\n",
    "            matrix[1, 2] = matrix[0, 2]\n",
    "            matrix[4, 4] = matrix[3, 3]\n",
    "            matrix[5, 5] = (matrix[0, 0] - matrix[0, 1]) / 2\n",
    "        elif crystal_system == \"Orthorhombic\":\n",
    "            matrix[1, 0] = matrix[0, 1]\n",
    "            matrix[2, 0] = matrix[0, 2]\n",
    "            matrix[2, 1] = matrix[1, 2]\n",
    "        elif crystal_system == \"Tetragonal_I\":\n",
    "            matrix[1, 1] = matrix[0, 0]\n",
    "            matrix[1, 2] = matrix[0, 2]\n",
    "            matrix[4, 4] = matrix[3, 3]\n",
    "        elif crystal_system == \"Tetragonal_II\":\n",
    "            matrix[1, 1] = matrix[0, 0]\n",
    "            matrix[1, 2] = matrix[0, 2]\n",
    "            matrix[4, 4] = matrix[3, 3]\n",
    "            matrix[1, 5] = -matrix[0, 5]\n",
    "\n",
    "        return matrix"
   ]
  },
  {
   "cell_type": "code",
   "execution_count": 38,
   "metadata": {},
   "outputs": [
    {
     "data": {
      "text/plain": [
       "['cubic', 'hexagonal', 'Tetragonal_I', 'Tetragonal_II', 'Orthorhombic']"
      ]
     },
     "execution_count": 38,
     "metadata": {},
     "output_type": "execute_result"
    }
   ],
   "source": [
    "ElasticMatrix.crystal_systems()"
   ]
  },
  {
   "cell_type": "code",
   "execution_count": 39,
   "metadata": {},
   "outputs": [
    {
     "data": {
      "text/plain": [
       "{'cij': ['c11', 'c12', 'c44']}"
      ]
     },
     "execution_count": 39,
     "metadata": {},
     "output_type": "execute_result"
    }
   ],
   "source": [
    "ElasticMatrix.crystal_elastic_constants_info(\"cubic\")"
   ]
  },
  {
   "cell_type": "code",
   "execution_count": 22,
   "metadata": {},
   "outputs": [
    {
     "data": {
      "text/plain": [
       "array([[1050.64 ,  126.64 ,  126.64 ,    0.   ,    0.   ,    0.   ],\n",
       "       [ 126.64 , 1050.64 ,  126.64 ,    0.   ,    0.   ,    0.   ],\n",
       "       [   0.   ,    0.   , 1050.64 ,    0.   ,    0.   ,    0.   ],\n",
       "       [   0.   ,    0.   ,    0.   ,  559.861,    0.   ,    0.   ],\n",
       "       [   0.   ,    0.   ,    0.   ,    0.   ,  559.861,    0.   ],\n",
       "       [   0.   ,    0.   ,    0.   ,    0.   ,    0.   ,  559.861]])"
      ]
     },
     "execution_count": 22,
     "metadata": {},
     "output_type": "execute_result"
    }
   ],
   "source": [
    "cij_list = {\"c11\": 1050.64, \"c12\": 126.64, \"c44\": 559.861}\n",
    "\n",
    "elasmat = ElasticMatrix(cij_list)\n",
    "elasmat.elastic_matrix(\"cubic\")"
   ]
  },
  {
   "cell_type": "code",
   "execution_count": 24,
   "metadata": {},
   "outputs": [
    {
     "data": {
      "text/plain": [
       "array([[297.85 , 126.9  , 104.5  ,   0.   ,   0.   ,   0.   ],\n",
       "       [126.9  , 297.85 , 104.5  ,   0.   ,   0.   ,   0.   ],\n",
       "       [104.5  ,   0.   , 286.9  ,   0.   ,   0.   ,   0.   ],\n",
       "       [  0.   ,   0.   ,   0.   ,  59.225,   0.   ,   0.   ],\n",
       "       [  0.   ,   0.   ,   0.   ,   0.   ,  59.225,   0.   ],\n",
       "       [  0.   ,   0.   ,   0.   ,   0.   ,   0.   ,  85.475]])"
      ]
     },
     "execution_count": 24,
     "metadata": {},
     "output_type": "execute_result"
    }
   ],
   "source": [
    "cij_list = {\"c11\": 297.85, \"c12\": 126.9, \"c13\": 104.5, \"c33\": 286.9, \"c44\": 59.225}\n",
    "\n",
    "elasmat = ElasticMatrix(cij_list)\n",
    "elasmat.elastic_matrix(\"hexagonal\")"
   ]
  }
 ],
 "metadata": {
  "kernelspec": {
   "display_name": "base_ysl",
   "language": "python",
   "name": "python3"
  },
  "language_info": {
   "codemirror_mode": {
    "name": "ipython",
    "version": 3
   },
   "file_extension": ".py",
   "mimetype": "text/x-python",
   "name": "python",
   "nbconvert_exporter": "python",
   "pygments_lexer": "ipython3",
   "version": "3.11.5"
  }
 },
 "nbformat": 4,
 "nbformat_minor": 2
}
