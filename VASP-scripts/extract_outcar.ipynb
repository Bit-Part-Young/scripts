{
 "cells": [
  {
   "cell_type": "markdown",
   "metadata": {},
   "source": [
    "### 使用正则表达式提取信息"
   ]
  },
  {
   "cell_type": "code",
   "execution_count": 1,
   "metadata": {},
   "outputs": [],
   "source": [
    "import re\n",
    "\n",
    "filename = \"OUTCAR\"\n",
    "read_in = open(filename).read()"
   ]
  },
  {
   "cell_type": "code",
   "execution_count": 2,
   "metadata": {},
   "outputs": [
    {
     "data": {
      "text/plain": [
       "['13.43905514',\n",
       " '-10.18394006',\n",
       " '-10.59629037',\n",
       " '-10.59967775',\n",
       " '-10.59970808',\n",
       " '-10.17136835',\n",
       " '-10.06861172',\n",
       " '-10.06629864',\n",
       " '-10.06611634',\n",
       " '-10.06610958',\n",
       " '-10.06610906',\n",
       " '-10.06711679',\n",
       " '-10.06622108',\n",
       " '-10.06606927',\n",
       " '-10.06605985',\n",
       " '-10.06606030',\n",
       " '-10.06606027',\n",
       " '-10.06657151',\n",
       " '-10.06617088',\n",
       " '-10.06611470',\n",
       " '-10.06612637',\n",
       " '-10.06612600',\n",
       " '-10.06612605']"
      ]
     },
     "execution_count": 2,
     "metadata": {},
     "output_type": "execute_result"
    }
   ],
   "source": [
    "free_energies_electronic = re.findall(\"\\s+free energy\\s+TOTEN\\s+=\\s+([-.\\d]+) eV\", read_in)\n",
    "free_energies_electronic"
   ]
  },
  {
   "cell_type": "code",
   "execution_count": 3,
   "metadata": {},
   "outputs": [
    {
     "data": {
      "text/plain": [
       "23"
      ]
     },
     "execution_count": 3,
     "metadata": {},
     "output_type": "execute_result"
    }
   ],
   "source": [
    "len(free_energies_electronic)"
   ]
  },
  {
   "cell_type": "code",
   "execution_count": 4,
   "metadata": {},
   "outputs": [
    {
     "data": {
      "text/plain": [
       "[('13.44292740', '13.44099127'),\n",
       " ('-10.18035132', '-10.18214569'),\n",
       " ('-10.59218409', '-10.59423723'),\n",
       " ('-10.59553974', '-10.59760874'),\n",
       " ('-10.59556966', '-10.59763887'),\n",
       " ('-10.16388395', '-10.16762615'),\n",
       " ('-10.05924853', '-10.06393013'),\n",
       " ('-10.05700510', '-10.06165187'),\n",
       " ('-10.05675974', '-10.06143804'),\n",
       " ('-10.05675984', '-10.06143471'),\n",
       " ('-10.05676034', '-10.06143470'),\n",
       " ('-10.05759879', '-10.06235779'),\n",
       " ('-10.05684472', '-10.06153290'),\n",
       " ('-10.05678137', '-10.06142532'),\n",
       " ('-10.05678291', '-10.06142138'),\n",
       " ('-10.05678610', '-10.06142320'),\n",
       " ('-10.05678616', '-10.06142321'),\n",
       " ('-10.05741296', '-10.06199223'),\n",
       " ('-10.05691466', '-10.06154277'),\n",
       " ('-10.05679971', '-10.06145720'),\n",
       " ('-10.05680497', '-10.06146567'),\n",
       " ('-10.05680285', '-10.06146442'),\n",
       " ('-10.05680282', '-10.06146443')]"
      ]
     },
     "execution_count": 4,
     "metadata": {},
     "output_type": "execute_result"
    }
   ],
   "source": [
    "free_energies_electronic = re.findall(\n",
    "    \"\\s+energy without entropy =\\s+([-+]?\\d+\\.\\d+)\\s+energy\\(sigma->0\\)\\s+=\\s+([-+]?\\d+\\.\\d+)\\s+\",\n",
    "    read_in,\n",
    ")\n",
    "\n",
    "free_energies_electronic"
   ]
  },
  {
   "cell_type": "code",
   "execution_count": 5,
   "metadata": {},
   "outputs": [
    {
     "data": {
      "text/plain": [
       "['-10.06610906', '-10.06606027', '-10.06612605']"
      ]
     },
     "execution_count": 5,
     "metadata": {},
     "output_type": "execute_result"
    }
   ],
   "source": [
    "free_energies_ion = re.findall(\n",
    "    \"\\s+free  energy\\s+TOTEN\\s+=\\s+([-.\\d]+) eV\", read_in\n",
    ")\n",
    "free_energies_ion"
   ]
  },
  {
   "cell_type": "code",
   "execution_count": 6,
   "metadata": {},
   "outputs": [
    {
     "data": {
      "text/plain": [
       "[('-10.05676034', '-10.06143470'),\n",
       " ('-10.05678616', '-10.06142321'),\n",
       " ('-10.05680282', '-10.06146443')]"
      ]
     },
     "execution_count": 6,
     "metadata": {},
     "output_type": "execute_result"
    }
   ],
   "source": [
    "free_energies_ion = re.findall(\n",
    "    \"\\s+energy  without entropy=\\s+([-\\.\\d]+)+\\s+energy\\(sigma->0\\)\\s+=\\s+([-\\.\\d]+)\\s+\",\n",
    "    read_in,\n",
    ")\n",
    "free_energies_ion"
   ]
  }
 ],
 "metadata": {
  "kernelspec": {
   "display_name": "base_ysl",
   "language": "python",
   "name": "python3"
  },
  "language_info": {
   "codemirror_mode": {
    "name": "ipython",
    "version": 3
   },
   "file_extension": ".py",
   "mimetype": "text/x-python",
   "name": "python",
   "nbconvert_exporter": "python",
   "pygments_lexer": "ipython3",
   "version": "3.11.8"
  }
 },
 "nbformat": 4,
 "nbformat_minor": 2
}
