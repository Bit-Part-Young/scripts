{
 "cells": [
  {
   "cell_type": "code",
   "execution_count": 1,
   "metadata": {},
   "outputs": [
    {
     "name": "stdout",
     "output_type": "stream",
     "text": [
      "Groups in the file:\n",
      "input\n",
      "input/incar\n",
      "input/kpoints\n",
      "input/poscar\n",
      "input/potcar\n",
      "intermediate\n",
      "intermediate/ion_dynamics\n",
      "intermediate/ion_dynamics/magnetism\n",
      "original\n",
      "original/incar\n",
      "original/kpoints\n",
      "original/poscar\n",
      "results\n",
      "results/electron_dos\n",
      "results/electron_eigenvalues\n",
      "results/positions\n",
      "results/projectors\n",
      "version\n"
     ]
    }
   ],
   "source": [
    "import h5py\n",
    "\n",
    "f = h5py.File(\"vaspout.h5\")\n",
    "print(\"Groups in the file:\")\n",
    "\n",
    "def print_groups(name, obj):\n",
    "    if isinstance(obj, h5py.Group):\n",
    "        print(name)\n",
    "\n",
    "f.visititems(print_groups)"
   ]
  },
  {
   "cell_type": "code",
   "execution_count": 2,
   "metadata": {},
   "outputs": [
    {
     "data": {
      "text/plain": [
       "['input', 'intermediate', 'original', 'results', 'version']"
      ]
     },
     "execution_count": 2,
     "metadata": {},
     "output_type": "execute_result"
    }
   ],
   "source": [
    "list(f.keys())"
   ]
  },
  {
   "cell_type": "code",
   "execution_count": 3,
   "metadata": {},
   "outputs": [
    {
     "data": {
      "text/plain": [
       "['ADDGRID',\n",
       " 'ALGO',\n",
       " 'EDIFF',\n",
       " 'ENCUT',\n",
       " 'IBRION',\n",
       " 'ICHARG',\n",
       " 'ISIF',\n",
       " 'ISMEAR',\n",
       " 'ISPIN',\n",
       " 'ISTART',\n",
       " 'LCHARG',\n",
       " 'LORBIT',\n",
       " 'LREAL',\n",
       " 'LWAVE',\n",
       " 'NELM',\n",
       " 'NSW',\n",
       " 'PREC']"
      ]
     },
     "execution_count": 3,
     "metadata": {},
     "output_type": "execute_result"
    }
   ],
   "source": [
    "list(f[\"/input/incar\"].keys())"
   ]
  },
  {
   "cell_type": "code",
   "execution_count": 4,
   "metadata": {},
   "outputs": [
    {
     "data": {
      "text/plain": [
       "<HDF5 dataset \"EDIFF\": shape (), type \"<f8\">"
      ]
     },
     "execution_count": 4,
     "metadata": {},
     "output_type": "execute_result"
    }
   ],
   "source": [
    "f[\"/input/incar\"][\"EDIFF\"]"
   ]
  },
  {
   "cell_type": "code",
   "execution_count": 5,
   "metadata": {},
   "outputs": [
    {
     "data": {
      "text/plain": [
       "['major', 'minor', 'patch']"
      ]
     },
     "execution_count": 5,
     "metadata": {},
     "output_type": "execute_result"
    }
   ],
   "source": [
    "list(f[\"/version\"].keys())"
   ]
  },
  {
   "cell_type": "code",
   "execution_count": 6,
   "metadata": {},
   "outputs": [
    {
     "data": {
      "text/plain": [
       "False"
      ]
     },
     "execution_count": 6,
     "metadata": {},
     "output_type": "execute_result"
    }
   ],
   "source": [
    "f[\"/version\"][\"major\"].is_scale"
   ]
  }
 ],
 "metadata": {
  "kernelspec": {
   "display_name": "base_ysl",
   "language": "python",
   "name": "python3"
  },
  "language_info": {
   "codemirror_mode": {
    "name": "ipython",
    "version": 3
   },
   "file_extension": ".py",
   "mimetype": "text/x-python",
   "name": "python",
   "nbconvert_exporter": "python",
   "pygments_lexer": "ipython3",
   "version": "3.11.4"
  }
 },
 "nbformat": 4,
 "nbformat_minor": 2
}
